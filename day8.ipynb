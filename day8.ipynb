{
 "cells": [
  {
   "cell_type": "code",
   "execution_count": null,
   "id": "faad15da",
   "metadata": {},
   "outputs": [],
   "source": [
    "for 영화제목 in ['본영화1', '본영화2',...]:\n",
    "    if 영화제목 in ['다른사람이본영화1',...]:\n",
    "        "
   ]
  },
  {
   "cell_type": "code",
   "execution_count": null,
   "id": "81a90ef3",
   "metadata": {},
   "outputs": [],
   "source": [
    "\"hello\"-> 메모리 -> cpu연산 -> 출력장치 -> 출력"
   ]
  },
  {
   "cell_type": "code",
   "execution_count": null,
   "id": "8595088a",
   "metadata": {},
   "outputs": [],
   "source": []
  },
  {
   "cell_type": "code",
   "execution_count": null,
   "id": "c85d9d6e",
   "metadata": {},
   "outputs": [],
   "source": [
    "함수는 반복적인 코드를 함수로 정의함으로서 다양한 장점(실수 줄임, 코드 짧아짐,재사용, 개발시간 단축,...)"
   ]
  },
  {
   "cell_type": "code",
   "execution_count": null,
   "id": "618d92c6",
   "metadata": {},
   "outputs": [],
   "source": [
    "#함수 실행(호출) : 함수명()\n",
    "#함수 정의 : \n",
    "# def 함수명() : \n",
    "#     수행할 코드1\n",
    "#     수행할 코드2\n",
    "#     ...\n",
    "#     수행할 코드n"
   ]
  },
  {
   "cell_type": "code",
   "execution_count": 5,
   "id": "b3c565f8",
   "metadata": {},
   "outputs": [],
   "source": [
    "#함수 정의\n",
    "def hello(): # def getValue():\n",
    "    print(\"hello world\")\n",
    "    #return 1"
   ]
  },
  {
   "cell_type": "code",
   "execution_count": 6,
   "id": "237976c3",
   "metadata": {},
   "outputs": [
    {
     "name": "stdout",
     "output_type": "stream",
     "text": [
      "hello world\n"
     ]
    }
   ],
   "source": [
    "#함수 실행(호출)\n",
    "hello() #hello함수를 호출한 뒤, hello함수에서 전달받은 값을 화면에 출력\n",
    "#None: 전달받은게 없다\n",
    "\n"
   ]
  },
  {
   "cell_type": "code",
   "execution_count": 7,
   "id": "51cd5496",
   "metadata": {},
   "outputs": [],
   "source": [
    "def hello2(): \n",
    "    print(\"hello world\")"
   ]
  },
  {
   "cell_type": "code",
   "execution_count": null,
   "id": "8441b102",
   "metadata": {},
   "outputs": [],
   "source": []
  },
  {
   "cell_type": "code",
   "execution_count": 9,
   "id": "f4640277",
   "metadata": {},
   "outputs": [],
   "source": [
    "def hello3():\n",
    "    #아직 구현할 코드를 작성하지 못한 상태\n",
    "    pass #일단 넘어가"
   ]
  },
  {
   "cell_type": "code",
   "execution_count": null,
   "id": "bf3f8821",
   "metadata": {},
   "outputs": [],
   "source": []
  },
  {
   "cell_type": "code",
   "execution_count": null,
   "id": "b2f6e683",
   "metadata": {},
   "outputs": [],
   "source": [
    "def 함수명():\n",
    "    #코드"
   ]
  },
  {
   "cell_type": "code",
   "execution_count": null,
   "id": "9a342d9c",
   "metadata": {},
   "outputs": [],
   "source": [
    "함수명()"
   ]
  },
  {
   "cell_type": "code",
   "execution_count": null,
   "id": "80ce13bc",
   "metadata": {},
   "outputs": [],
   "source": [
    "print()\n",
    "print(\"안녕\") #인수(argument)\n",
    "print(\"안녕\",\"하세요\",\"방가\")"
   ]
  },
  {
   "cell_type": "code",
   "execution_count": null,
   "id": "e1092ca0",
   "metadata": {},
   "outputs": [],
   "source": [
    "def print(msg): #매개변수(parameter)\n",
    "    #\n",
    "    #\n",
    "    #"
   ]
  },
  {
   "cell_type": "code",
   "execution_count": 11,
   "id": "e6e31815",
   "metadata": {},
   "outputs": [],
   "source": [
    "def add(x,y): #매개변수, (가)인수\n",
    "    print(x+y)"
   ]
  },
  {
   "cell_type": "code",
   "execution_count": 12,
   "id": "94fbcd35",
   "metadata": {},
   "outputs": [
    {
     "name": "stdout",
     "output_type": "stream",
     "text": [
      "3\n"
     ]
    }
   ],
   "source": [
    "add(1,2) #(실)인수"
   ]
  },
  {
   "cell_type": "code",
   "execution_count": 17,
   "id": "08e7a673",
   "metadata": {},
   "outputs": [],
   "source": [
    "def calc(x,y, op): #매개변수, (가)인수\n",
    "#     print(x+y)\n",
    "#     print(op)\n",
    "    if(op==\"add\"):\n",
    "        print(x+y)"
   ]
  },
  {
   "cell_type": "code",
   "execution_count": 18,
   "id": "4f5cf4b2",
   "metadata": {},
   "outputs": [
    {
     "name": "stdout",
     "output_type": "stream",
     "text": [
      "3\n"
     ]
    }
   ],
   "source": [
    "calc(1,2, \"add\")"
   ]
  },
  {
   "cell_type": "code",
   "execution_count": 19,
   "id": "ac78976b",
   "metadata": {},
   "outputs": [
    {
     "name": "stdout",
     "output_type": "stream",
     "text": [
      "Help on built-in function print in module builtins:\n",
      "\n",
      "print(...)\n",
      "    print(value, ..., sep=' ', end='\\n', file=sys.stdout, flush=False)\n",
      "    \n",
      "    Prints the values to a stream, or to sys.stdout by default.\n",
      "    Optional keyword arguments:\n",
      "    file:  a file-like object (stream); defaults to the current sys.stdout.\n",
      "    sep:   string inserted between values, default a space.\n",
      "    end:   string appended after the last value, default a newline.\n",
      "    flush: whether to forcibly flush the stream.\n",
      "\n"
     ]
    }
   ],
   "source": [
    "help(print)\n",
    "#help(함수명)"
   ]
  },
  {
   "cell_type": "code",
   "execution_count": 20,
   "id": "9930f8cd",
   "metadata": {
    "scrolled": true
   },
   "outputs": [
    {
     "name": "stdout",
     "output_type": "stream",
     "text": [
      "Help on function calc in module __main__:\n",
      "\n",
      "calc(x, y, op)\n",
      "\n"
     ]
    }
   ],
   "source": [
    "help(calc)"
   ]
  },
  {
   "cell_type": "code",
   "execution_count": 21,
   "id": "54e8293e",
   "metadata": {},
   "outputs": [],
   "source": [
    "def add(x,y):\n",
    "    return x+y #함수를 호출했던곳으로 되돌려 주는 함수"
   ]
  },
  {
   "cell_type": "code",
   "execution_count": 22,
   "id": "1541460a",
   "metadata": {},
   "outputs": [
    {
     "name": "stdout",
     "output_type": "stream",
     "text": [
      "30\n"
     ]
    }
   ],
   "source": [
    "print(add(10,20))"
   ]
  },
  {
   "cell_type": "code",
   "execution_count": 32,
   "id": "a7406f00",
   "metadata": {},
   "outputs": [],
   "source": [
    "def calc(x, y, op):\n",
    "    #구현\n",
    "    \n",
    "    if(op==\"+\"):\n",
    "        return x+y\n",
    "    if(op==\"-\"):\n",
    "        return x-y\n",
    "    if(op==\"*\"):\n",
    "        return x*y\n",
    "    if(op==\"/\"):\n",
    "        return x/y\n",
    "    "
   ]
  },
  {
   "cell_type": "code",
   "execution_count": 33,
   "id": "83f45c56",
   "metadata": {},
   "outputs": [
    {
     "name": "stdout",
     "output_type": "stream",
     "text": [
      "3\n",
      "-1\n",
      "6\n",
      "5.0\n"
     ]
    }
   ],
   "source": [
    "print(calc(1,2,\"+\")) #3\n",
    "print(calc(1,2,\"-\")) #-1\n",
    "print(calc(3,2,\"*\")) #6\n",
    "print(calc(10,2,\"/\")) #5"
   ]
  },
  {
   "cell_type": "code",
   "execution_count": 34,
   "id": "c5278cf0",
   "metadata": {},
   "outputs": [
    {
     "name": "stdout",
     "output_type": "stream",
     "text": [
      "3\n"
     ]
    }
   ],
   "source": [
    "def calc(a,b,operater):\n",
    "    return eval(str(a)+operater+str(b)) \n",
    "    # return eval(str(a)+operater+str(b))#eval(\"1+2\")\n",
    "    # return\n",
    "print(calc(1,2,\"+\"))"
   ]
  },
  {
   "cell_type": "code",
   "execution_count": null,
   "id": "1db7c92f",
   "metadata": {},
   "outputs": [],
   "source": []
  },
  {
   "cell_type": "code",
   "execution_count": null,
   "id": "3681f583",
   "metadata": {},
   "outputs": [],
   "source": [
    "def 함수명():\n",
    "    #함수 수행 구문\n",
    "    #"
   ]
  },
  {
   "cell_type": "code",
   "execution_count": null,
   "id": "aaca5203",
   "metadata": {},
   "outputs": [],
   "source": []
  },
  {
   "cell_type": "code",
   "execution_count": 40,
   "id": "2c46297e",
   "metadata": {},
   "outputs": [],
   "source": [
    "def test(x,y):\n",
    "    #print(\"hello\")\n",
    "    return x+y"
   ]
  },
  {
   "cell_type": "code",
   "execution_count": 46,
   "id": "5e829321",
   "metadata": {},
   "outputs": [],
   "source": [
    "res=test(x=1, y=2)"
   ]
  },
  {
   "cell_type": "code",
   "execution_count": 47,
   "id": "3957b16b",
   "metadata": {},
   "outputs": [
    {
     "name": "stdout",
     "output_type": "stream",
     "text": [
      "3\n"
     ]
    }
   ],
   "source": [
    "print(res)"
   ]
  },
  {
   "cell_type": "code",
   "execution_count": 60,
   "id": "dc774c97",
   "metadata": {},
   "outputs": [],
   "source": [
    "#인수의 개수가 정해지지 않았을때? 함수호출 가능?\n",
    "\n",
    "#인수의 개수가 변할 수 있는 경우에 함수 정의\n",
    "def add(*args):\n",
    "    sum=0\n",
    "    for i in args:\n",
    "        sum+=i\n",
    "    return sum"
   ]
  },
  {
   "cell_type": "code",
   "execution_count": 61,
   "id": "6f8c144e",
   "metadata": {},
   "outputs": [
    {
     "data": {
      "text/plain": [
       "111"
      ]
     },
     "execution_count": 61,
     "metadata": {},
     "output_type": "execute_result"
    }
   ],
   "source": [
    "add(1,10,100) "
   ]
  },
  {
   "cell_type": "code",
   "execution_count": 72,
   "id": "c002685e",
   "metadata": {},
   "outputs": [],
   "source": [
    "def func1(op, *numbers):\n",
    "    if op == \"multiply\":\n",
    "        result =1\n",
    "        for number in numbers:\n",
    "            result *= number\n",
    "    else:\n",
    "        result =0\n",
    "        for number in numbers:\n",
    "            result += number\n",
    "    return result"
   ]
  },
  {
   "cell_type": "code",
   "execution_count": 73,
   "id": "b79b696e",
   "metadata": {
    "scrolled": false
   },
   "outputs": [
    {
     "name": "stdout",
     "output_type": "stream",
     "text": [
      "6000\n",
      "80\n"
     ]
    }
   ],
   "source": [
    "res=func1(\"multiply\", 10,20,30)\n",
    "print(res) #10*20*30 => 6000 결과출력\n",
    "res=func1(\"sum\", 5,10,15,20,30)\n",
    "print(res) # 80 출력"
   ]
  },
  {
   "cell_type": "code",
   "execution_count": null,
   "id": "fb16c1f4",
   "metadata": {},
   "outputs": [],
   "source": []
  },
  {
   "cell_type": "code",
   "execution_count": 78,
   "id": "cd0226c3",
   "metadata": {},
   "outputs": [],
   "source": [
    "def addsub(x,y): #3,4\n",
    "    return x+y, x-y\n",
    "    "
   ]
  },
  {
   "cell_type": "code",
   "execution_count": 81,
   "id": "a9c9a4e8",
   "metadata": {},
   "outputs": [
    {
     "name": "stdout",
     "output_type": "stream",
     "text": [
      "7\n",
      "-1\n"
     ]
    }
   ],
   "source": [
    "res1, res2=addsub(3,4)\n",
    "print(res1)\n",
    "print(res2)\n",
    "\n",
    "\n",
    "# res=addsub(3,4)\n",
    "# #print(type(res))\n",
    "# print(res[0])\n",
    "# print(res[1])"
   ]
  },
  {
   "cell_type": "code",
   "execution_count": null,
   "id": "5368af1d",
   "metadata": {},
   "outputs": [],
   "source": []
  },
  {
   "cell_type": "code",
   "execution_count": null,
   "id": "e7ac17d1",
   "metadata": {},
   "outputs": [],
   "source": []
  },
  {
   "cell_type": "code",
   "execution_count": 89,
   "id": "3953883b",
   "metadata": {},
   "outputs": [],
   "source": [
    "#def intro(name, age, female=True): #매개변수 초기값 설정\n",
    "\n",
    "def intro(name, age, female=True): #매개변수 초기값 설정\n",
    "    print(\"이름:\", name)\n",
    "    print(\"나이:\", age)\n",
    "    if female:\n",
    "        print(\"여성\")\n",
    "    else:\n",
    "        print(\"남성\")"
   ]
  },
  {
   "cell_type": "code",
   "execution_count": 90,
   "id": "4b2301e8",
   "metadata": {},
   "outputs": [
    {
     "name": "stdout",
     "output_type": "stream",
     "text": [
      "이름: 홍길동\n",
      "나이: 25\n",
      "여성\n"
     ]
    }
   ],
   "source": [
    "intro(\"홍길동\", 25)\n",
    "#intro(\"홍길동\", 25, False)"
   ]
  },
  {
   "cell_type": "code",
   "execution_count": null,
   "id": "7a5e5f14",
   "metadata": {},
   "outputs": [],
   "source": []
  },
  {
   "cell_type": "code",
   "execution_count": 94,
   "id": "7776a3d0",
   "metadata": {
    "scrolled": true
   },
   "outputs": [
    {
     "name": "stdout",
     "output_type": "stream",
     "text": [
      "5\n"
     ]
    }
   ],
   "source": [
    "a=5\n",
    "b=1\n",
    "def test(a): #함수 정의, 매개변수는 함수 내에서만 사용하는 변수\n",
    "    a=a+10\n",
    "   \n",
    "test(b) #함수 호출\n",
    "\n",
    "print(a)"
   ]
  },
  {
   "cell_type": "code",
   "execution_count": 96,
   "id": "f14be6b0",
   "metadata": {},
   "outputs": [
    {
     "ename": "NameError",
     "evalue": "name 'x' is not defined",
     "output_type": "error",
     "traceback": [
      "\u001b[1;31m---------------------------------------------------------------------------\u001b[0m",
      "\u001b[1;31mNameError\u001b[0m                                 Traceback (most recent call last)",
      "\u001b[1;32m<ipython-input-96-e051e8a7fb78>\u001b[0m in \u001b[0;36m<module>\u001b[1;34m\u001b[0m\n\u001b[0;32m      4\u001b[0m \u001b[1;33m\u001b[0m\u001b[0m\n\u001b[0;32m      5\u001b[0m \u001b[0mtest2\u001b[0m\u001b[1;33m(\u001b[0m\u001b[1;36m10\u001b[0m\u001b[1;33m)\u001b[0m\u001b[1;33m\u001b[0m\u001b[1;33m\u001b[0m\u001b[0m\n\u001b[1;32m----> 6\u001b[1;33m \u001b[0mprint\u001b[0m\u001b[1;33m(\u001b[0m\u001b[0mx\u001b[0m\u001b[1;33m)\u001b[0m\u001b[1;33m\u001b[0m\u001b[1;33m\u001b[0m\u001b[0m\n\u001b[0m",
      "\u001b[1;31mNameError\u001b[0m: name 'x' is not defined"
     ]
    }
   ],
   "source": [
    "def test2(x): \n",
    "    x=x+1\n",
    "    \n",
    "test2(10)\n",
    "print(x)"
   ]
  },
  {
   "cell_type": "code",
   "execution_count": 100,
   "id": "50b848fb",
   "metadata": {},
   "outputs": [
    {
     "name": "stdout",
     "output_type": "stream",
     "text": [
      "11\n"
     ]
    }
   ],
   "source": [
    "#1. 함수 내부에서 함수 외부에 있는 변수의 값을 변경하는 방법\n",
    "\n",
    "x=1\n",
    "def test(x):\n",
    "     x=x+10\n",
    "    return x\n",
    "\n",
    "# # test(x)\n",
    "# # print(x)\n",
    "    x=test(x)\n",
    "print(x)\n",
    "\n",
    "#2. global : 전역 변수\n",
    "\n",
    "#함수 내부에서 함수 외부에 있는 변수를 사용하고자 한다\n",
    "x=1\n",
    "def test():\n",
    "    global x ##함수 내부에서 함수 외부에 있는 변수 x를 사용하겠다\n",
    "    x=x+10\n",
    "    \n",
    "test()\n",
    "print(x)"
   ]
  },
  {
   "cell_type": "code",
   "execution_count": 102,
   "id": "110016f9",
   "metadata": {},
   "outputs": [],
   "source": [
    "def test():\n",
    "    #return 1,2\n",
    "    return [1,2]"
   ]
  },
  {
   "cell_type": "code",
   "execution_count": 103,
   "id": "fbe2058b",
   "metadata": {},
   "outputs": [
    {
     "name": "stdout",
     "output_type": "stream",
     "text": [
      "[1, 2]\n"
     ]
    }
   ],
   "source": [
    "res=test()\n",
    "print(res)"
   ]
  },
  {
   "cell_type": "code",
   "execution_count": null,
   "id": "1b190972",
   "metadata": {},
   "outputs": [],
   "source": []
  },
  {
   "cell_type": "code",
   "execution_count": 112,
   "id": "650d49e5",
   "metadata": {},
   "outputs": [
    {
     "name": "stdout",
     "output_type": "stream",
     "text": [
      "3\n",
      "6\n"
     ]
    }
   ],
   "source": [
    "def mul(a,b):\n",
    "    res=a*b\n",
    "    return res\n",
    "\n",
    "\n",
    "def add(xx,yy):\n",
    "    zz=xx+yy\n",
    "    print(zz)\n",
    "    result=mul(zz, 2)\n",
    "    return result\n",
    "\n",
    "\n",
    "x=1\n",
    "y=2\n",
    "print(add(x,y))\n"
   ]
  },
  {
   "cell_type": "code",
   "execution_count": 111,
   "id": "9688c9a4",
   "metadata": {},
   "outputs": [
    {
     "name": "stdout",
     "output_type": "stream",
     "text": [
      "7\n"
     ]
    }
   ],
   "source": []
  },
  {
   "cell_type": "code",
   "execution_count": null,
   "id": "14922ad1",
   "metadata": {},
   "outputs": [],
   "source": []
  },
  {
   "cell_type": "code",
   "execution_count": null,
   "id": "b12976e9",
   "metadata": {},
   "outputs": [],
   "source": []
  },
  {
   "cell_type": "code",
   "execution_count": null,
   "id": "46e332bc",
   "metadata": {},
   "outputs": [],
   "source": []
  }
 ],
 "metadata": {
  "kernelspec": {
   "display_name": "Python 3",
   "language": "python",
   "name": "python3"
  },
  "language_info": {
   "codemirror_mode": {
    "name": "ipython",
    "version": 3
   },
   "file_extension": ".py",
   "mimetype": "text/x-python",
   "name": "python",
   "nbconvert_exporter": "python",
   "pygments_lexer": "ipython3",
   "version": "3.8.8"
  }
 },
 "nbformat": 4,
 "nbformat_minor": 5
}
