{
 "cells": [
  {
   "cell_type": "code",
   "execution_count": 8,
   "id": "d46803ff",
   "metadata": {},
   "outputs": [
    {
     "name": "stdout",
     "output_type": "stream",
     "text": [
      "숫자 두 개를 입력 : 23\n",
      "5\n"
     ]
    }
   ],
   "source": [
    "x,y=(input(\"숫자 두 개를 입력 : \").split())\n",
    "print(int(x)+int(y))"
   ]
  },
  {
   "cell_type": "code",
   "execution_count": 5,
   "id": "fc44db7a",
   "metadata": {},
   "outputs": [
    {
     "name": "stdout",
     "output_type": "stream",
     "text": [
      "숫자를 입력 : 3\n",
      "5\n"
     ]
    }
   ],
   "source": [
    "x=int(input(\"숫자를 입력 : \"))\n",
    "print(x+2)"
   ]
  },
  {
   "cell_type": "code",
   "execution_count": 7,
   "id": "4945bce3",
   "metadata": {},
   "outputs": [
    {
     "name": "stdout",
     "output_type": "stream",
     "text": [
      "숫자 두 개를 입력 : 1 2\n",
      "['1', '2']\n"
     ]
    }
   ],
   "source": [
    "print(input(\"숫자 두 개를 입력 : \").split())"
   ]
  },
  {
   "cell_type": "code",
   "execution_count": 8,
   "id": "8a11eabe",
   "metadata": {},
   "outputs": [],
   "source": [
    "#int(['2','3']) error"
   ]
  },
  {
   "cell_type": "code",
   "execution_count": 9,
   "id": "ecb8e659",
   "metadata": {},
   "outputs": [
    {
     "name": "stdout",
     "output_type": "stream",
     "text": [
      "숫자 입력 : 1 2\n",
      "3\n"
     ]
    }
   ],
   "source": [
    "#map함수\n",
    "x,y=map(int, input(\"숫자 입력 : \").split())\n",
    "print(x+y)\n"
   ]
  },
  {
   "cell_type": "code",
   "execution_count": 10,
   "id": "fc2c410b",
   "metadata": {},
   "outputs": [
    {
     "name": "stdout",
     "output_type": "stream",
     "text": [
      "숫자 입력 : 4 5\n",
      "<map object at 0x000002072DD782E0>\n"
     ]
    }
   ],
   "source": [
    "print(map(int, input(\"숫자 입력 : \").split()))"
   ]
  },
  {
   "cell_type": "code",
   "execution_count": 13,
   "id": "aa601717",
   "metadata": {},
   "outputs": [
    {
     "name": "stdout",
     "output_type": "stream",
     "text": [
      "숫자를 입력하세요 : 1,2\n",
      "3\n"
     ]
    }
   ],
   "source": [
    "# 숫자 입력 : 1,2\n",
    "# 3\n",
    "x,y=map(int, input(\"숫자를 입력하세요 : \").split(','))\n",
    "print(x+y)\n"
   ]
  },
  {
   "cell_type": "code",
   "execution_count": 17,
   "id": "d0b50932",
   "metadata": {},
   "outputs": [
    {
     "name": "stdout",
     "output_type": "stream",
     "text": [
      "10 20 30 40\n",
      "10,20,30,40\n",
      "10203040\n"
     ]
    }
   ],
   "source": [
    "print(10,20,30,40)\n",
    "print(10,20,30,40,sep=\",\")\n",
    "print(10,20,30,40,sep=\"\")"
   ]
  },
  {
   "cell_type": "code",
   "execution_count": 18,
   "id": "000ffc15",
   "metadata": {},
   "outputs": [
    {
     "data": {
      "text/plain": [
       "True"
      ]
     },
     "execution_count": 18,
     "metadata": {},
     "output_type": "execute_result"
    }
   ],
   "source": [
    "#비교연산자, 논리연산자 => 연산결과가 불린형\n",
    "3>2\n",
    "1==1  # = 의미? assign, == 의미? equal\n",
    "1!=2  # != (not equal)\n",
    "\n",
    "'test' == 'test'\n",
    "'test' == 'Test' # 파이썬에서는 대,소문자 구분이 된다.\n",
    "\n",
    "'donald_trump' 'trump'\n",
    "\n",
    "'sky' 'Sky'\n",
    "#자연어 전처리 과정에서는 대소문자를 통일하는 작업을 수행\n"
   ]
  },
  {
   "cell_type": "code",
   "execution_count": 19,
   "id": "a67e447f",
   "metadata": {},
   "outputs": [
    {
     "data": {
      "text/plain": [
       "True"
      ]
     },
     "execution_count": 19,
     "metadata": {},
     "output_type": "execute_result"
    }
   ],
   "source": [
    "10 >= 10 #크거나 같다"
   ]
  },
  {
   "cell_type": "code",
   "execution_count": 23,
   "id": "fcc89474",
   "metadata": {},
   "outputs": [
    {
     "data": {
      "text/plain": [
       "True"
      ]
     },
     "execution_count": 23,
     "metadata": {},
     "output_type": "execute_result"
    }
   ],
   "source": [
    "#논리연산자 : and, or, not 연산자\n",
    "True\n",
    "False\n",
    "\n",
    "#and : 모두 다 참인경우만 참이되는 연산자\n",
    "True and False\n",
    "True and True\n",
    "\n",
    "#or : 적어도 하나 이상이 참인 경우 참이되는 연산자\n",
    "True or False\n",
    "True or True\n",
    "\n",
    "#not : 참- > 거짓, 거짓 -> 참\n",
    "not True\n",
    "\n",
    "#논리 연산자 우선순위 : not -> and -> or 순으로 연산\n",
    "not True and False\n",
    "\n",
    "True and True or not True\n",
    "\n",
    "# not True and False or not False\n",
    "# =>False and False or True\n",
    "# =>False or True\n",
    "# =>True\n"
   ]
  },
  {
   "cell_type": "code",
   "execution_count": 24,
   "id": "39c69f8f",
   "metadata": {},
   "outputs": [
    {
     "data": {
      "text/plain": [
       "True"
      ]
     },
     "execution_count": 24,
     "metadata": {},
     "output_type": "execute_result"
    }
   ],
   "source": [
    "1==1 and 1!=2\n",
    "#True and True\n",
    "#True\n",
    "#비교연산자 2개, 논리연산자 1개\n",
    "#우선순위가 비교>논리"
   ]
  },
  {
   "cell_type": "code",
   "execution_count": 37,
   "id": "7ec2602c",
   "metadata": {},
   "outputs": [
    {
     "name": "stdout",
     "output_type": "stream",
     "text": [
      "정상처리\n"
     ]
    }
   ],
   "source": [
    "#bool() : 정수, 실수, 문자 -> 불린\n",
    "bool(100)\n",
    "bool(-100)\n",
    "bool(1)\n",
    "bool(0) #거짓\n",
    "\n",
    "bool(3.14)\n",
    "bool(-1.1)\n",
    "bool(0.1)\n",
    "bool(0.0) #거짓\n",
    "\n",
    "bool('a')\n",
    "bool(\"test\")\n",
    "bool(\"\")\n",
    "\n",
    "x=\"끄아앙\"\n",
    "if x:\n",
    "    print(\"정상처리\")\n",
    "else:\n",
    "    print(\"비정상처리\")"
   ]
  },
  {
   "cell_type": "code",
   "execution_count": 38,
   "id": "5a812f97",
   "metadata": {},
   "outputs": [
    {
     "data": {
      "text/plain": [
       "True"
      ]
     },
     "execution_count": 38,
     "metadata": {},
     "output_type": "execute_result"
    }
   ],
   "source": [
    "'mulcam' and True"
   ]
  },
  {
   "cell_type": "code",
   "execution_count": 39,
   "id": "9a61687e",
   "metadata": {},
   "outputs": [
    {
     "name": "stdout",
     "output_type": "stream",
     "text": [
      "I eat 2 apples\n"
     ]
    }
   ],
   "source": [
    "#문자열 관련 함수 \n",
    "print(\"I eat 2 apples\")"
   ]
  },
  {
   "cell_type": "code",
   "execution_count": 43,
   "id": "3595a3a1",
   "metadata": {},
   "outputs": [
    {
     "name": "stdout",
     "output_type": "stream",
     "text": [
      "I eat 20 apples\n",
      "I eat three apples\n"
     ]
    }
   ],
   "source": [
    "#포매팅\n",
    "x=20\n",
    "a='three'\n",
    "print(\"I eat %d apples\" % x)#digit\n",
    "print(\"I eat %s apples\" % a)#string"
   ]
  },
  {
   "cell_type": "code",
   "execution_count": 45,
   "id": "ad81e6e9",
   "metadata": {},
   "outputs": [
    {
     "name": "stdout",
     "output_type": "stream",
     "text": [
      "I ate 3 apples. so I was sick for three days\n"
     ]
    }
   ],
   "source": [
    "\n",
    "print(\"I ate %d apples. so I was sick for %s days\" % (3,\"three\"))"
   ]
  },
  {
   "cell_type": "code",
   "execution_count": 47,
   "id": "aa0bf57f",
   "metadata": {},
   "outputs": [
    {
     "name": "stdout",
     "output_type": "stream",
     "text": [
      "I eat 2 apples\n",
      "I eat 2.100000 apples\n",
      "I eat 2.10 apples\n"
     ]
    }
   ],
   "source": [
    "x=2.1\n",
    "print(\"I eat %d apples\" %x)\n",
    "print(\"I eat %f apples\" %x)\n",
    "print(\"I eat %.2f apples\" %x)"
   ]
  },
  {
   "cell_type": "code",
   "execution_count": 49,
   "id": "f9326182",
   "metadata": {},
   "outputs": [
    {
     "name": "stdout",
     "output_type": "stream",
     "text": [
      "Accuracy is 90%\n"
     ]
    }
   ],
   "source": [
    "#print(\"Accuracy is 90%\")\n",
    "print(\"Accuracy is %d%%\" %90)\n"
   ]
  },
  {
   "cell_type": "code",
   "execution_count": null,
   "id": "622608f6",
   "metadata": {},
   "outputs": [],
   "source": []
  },
  {
   "cell_type": "code",
   "execution_count": 50,
   "id": "c9a5b3d9",
   "metadata": {},
   "outputs": [],
   "source": [
    "num=3\n",
    "day=\"five\""
   ]
  },
  {
   "cell_type": "code",
   "execution_count": 52,
   "id": "01cb741d",
   "metadata": {},
   "outputs": [
    {
     "name": "stdout",
     "output_type": "stream",
     "text": [
      "I ate 3 apples. so I was sick for five days\n",
      "I ate 3 apples. so I was sick for five days\n",
      "I ate 3 apples. so I was sick for five days\n"
     ]
    }
   ],
   "source": [
    "print(\"I ate %d apples. so I was sick for %s days\" %(3, \"five\"))\n",
    "print(\"I ate %d apples. so I was sick for %s days\" %(num, day))\n",
    "\n",
    "print(\"I ate {0} apples. so I was sick for {1} days\".format(num,day))\n",
    "#{0}:format함수의 첫번째 인수\n",
    "#{1}:format함수의 두번째 인수"
   ]
  },
  {
   "cell_type": "code",
   "execution_count": 54,
   "id": "6b4374f4",
   "metadata": {},
   "outputs": [
    {
     "name": "stdout",
     "output_type": "stream",
     "text": [
      "I ate five apples. so I was sick for 3 days\n",
      "I ate 3 apples. so I was sick for three days\n"
     ]
    }
   ],
   "source": [
    "print(\"I ate {1} apples. so I was sick for {0} days\".format(num,day))\n",
    "print(\"I ate {num} apples. so I was sick for {day} days\".format(num=3,day=\"three\"))"
   ]
  },
  {
   "cell_type": "code",
   "execution_count": 57,
   "id": "eb85c7e2",
   "metadata": {},
   "outputs": [
    {
     "name": "stdout",
     "output_type": "stream",
     "text": [
      "hello     \n",
      "     hello\n",
      "  hello   \n",
      "$$hello$$$\n"
     ]
    }
   ],
   "source": [
    "print(\"{0:<10}\".format(\"hello\"))\n",
    "#   :<10 의미? 전체 자리수가 10자리, 왼쪽 정렬\n",
    "print(\"{0:>10}\".format(\"hello\"))\n",
    "#   :>10 의미? 전체 자리수가 10자리, 오른쪽 정렬\n",
    "print(\"{0:^10}\".format(\"hello\"))\n",
    "#   :^10 의미? 전체 자리수가 10자리, 가운데 정렬\n",
    "print(\"{0:$^10}\".format(\"hello\"))"
   ]
  },
  {
   "cell_type": "code",
   "execution_count": 60,
   "id": "4bd4ae8b",
   "metadata": {},
   "outputs": [
    {
     "data": {
      "text/plain": [
       "2"
      ]
     },
     "execution_count": 60,
     "metadata": {},
     "output_type": "execute_result"
    }
   ],
   "source": [
    "#(문자열)내장 함수 : 문자열 자체적으로 문자열 관련 함수를 가지고 있음\n",
    "#사용 방법 : 문자열(변수).내장함수()\n",
    "\"data\".count('a')\n",
    "\"data\".count('z')\n",
    "\n",
    "x=\"data\"\n",
    "x.count('a')"
   ]
  },
  {
   "cell_type": "code",
   "execution_count": 65,
   "id": "e0f4044a",
   "metadata": {},
   "outputs": [
    {
     "data": {
      "text/plain": [
       "1"
      ]
     },
     "execution_count": 65,
     "metadata": {},
     "output_type": "execute_result"
    }
   ],
   "source": [
    "x.find('a') #'a'의 위치, 0번부터 시작\n",
    "x.find('b') #문자가 없는 경우에는 -1리턴\n",
    "\n",
    "x.index('a')\n",
    "#x.index('b') #x.index('b') #문자가 없는 경우에는 에러발생"
   ]
  },
  {
   "cell_type": "code",
   "execution_count": 68,
   "id": "2f07dc71",
   "metadata": {},
   "outputs": [],
   "source": [
    "#\"a,b,c,d\" => \"abcd\"\n",
    "x=\"a,b,c,d\"\n",
    "#컴마로 구분하여 abcd 출력\n",
    "\n",
    "x.split() #x에 저장된 문자열을 공백 문자로 분리\n",
    "res=x.split(\",\") #['a', 'b', 'c', 'd'] "
   ]
  },
  {
   "cell_type": "code",
   "execution_count": 69,
   "id": "4b806df5",
   "metadata": {},
   "outputs": [
    {
     "name": "stdout",
     "output_type": "stream",
     "text": [
      "a,b,c,d\n"
     ]
    }
   ],
   "source": [
    "print(\",\".join(res))\n",
    "#res에 저장되어 있는 각각의 문자가 컴마(,)로 연결\n",
    "\n",
    "#split <-> join "
   ]
  },
  {
   "cell_type": "code",
   "execution_count": 2,
   "id": "81aaf2f0",
   "metadata": {},
   "outputs": [
    {
     "data": {
      "text/plain": [
       "'test'"
      ]
     },
     "execution_count": 2,
     "metadata": {},
     "output_type": "execute_result"
    }
   ],
   "source": [
    "\"test\".capitalize()\n",
    "\"test\".upper()\n",
    "\"test\".lower()"
   ]
  },
  {
   "cell_type": "code",
   "execution_count": 75,
   "id": "2131cd50",
   "metadata": {},
   "outputs": [
    {
     "name": "stdout",
     "output_type": "stream",
     "text": [
      " hello hi\n"
     ]
    }
   ],
   "source": [
    "a=\" hello \"\n",
    "b=\"hi\"\n",
    "print(a,b, sep=\"\")"
   ]
  },
  {
   "cell_type": "code",
   "execution_count": 76,
   "id": "6dae9a8c",
   "metadata": {},
   "outputs": [
    {
     "data": {
      "text/plain": [
       "'hello'"
      ]
     },
     "execution_count": 76,
     "metadata": {},
     "output_type": "execute_result"
    }
   ],
   "source": [
    "a.strip()  #양쪽 공백 제거 \n",
    "a.lstrip() #왼쪽 공백 제거\n",
    "a.rstrip() #오른쪽 공백 제거"
   ]
  },
  {
   "cell_type": "code",
   "execution_count": 77,
   "id": "aa15eed7",
   "metadata": {},
   "outputs": [],
   "source": [
    "#' hello' != 'hello'"
   ]
  },
  {
   "cell_type": "code",
   "execution_count": 83,
   "id": "ac58a70b",
   "metadata": {},
   "outputs": [
    {
     "data": {
      "text/plain": [
       "'Pythtn is ttt easy'"
      ]
     },
     "execution_count": 83,
     "metadata": {},
     "output_type": "execute_result"
    }
   ],
   "source": [
    "a=\"Python is too easy\"\n",
    "a.replace(\"easy\", \"diffcult\")\n",
    "\n",
    "a.replace(\"o\", \"t\")"
   ]
  },
  {
   "cell_type": "code",
   "execution_count": 84,
   "id": "75a87023",
   "metadata": {},
   "outputs": [],
   "source": [
    "# 알고리즘? 문제 해결 (가장 좋은) 방법\n",
    "# 자료구조? 자료를 저장 및 관리하는 방법\n",
    "\n",
    "# 파이썬 자료구조? 튜플, 리스트(중요), 셋, 딕셔너리(중요)"
   ]
  },
  {
   "cell_type": "code",
   "execution_count": null,
   "id": "a92f2b9a",
   "metadata": {},
   "outputs": [],
   "source": [
    "x=1\n",
    "x=3\n",
    "#리스트:데이터를 일렬로 늘여놓은 구조\n",
    "#리스트변수명=[요소값,요소값,요소값,...]"
   ]
  },
  {
   "cell_type": "code",
   "execution_count": 89,
   "id": "6f6426dc",
   "metadata": {},
   "outputs": [],
   "source": [
    "a=[] #빈 리스트\n",
    "a2=[10,20,30] #요소(element)\n",
    "a3=['hi','hello']\n",
    "a4=[10,20,'hi']\n",
    "a5=[10,'hi',1.15, True] #리스트에 여러가지 자료형에 해당되는 자료를 하나로 묶음\n",
    "\n",
    "a6=list()"
   ]
  },
  {
   "cell_type": "code",
   "execution_count": 90,
   "id": "5a0a671b",
   "metadata": {},
   "outputs": [
    {
     "data": {
      "text/plain": [
       "[]"
      ]
     },
     "execution_count": 90,
     "metadata": {},
     "output_type": "execute_result"
    }
   ],
   "source": [
    "a6"
   ]
  },
  {
   "cell_type": "code",
   "execution_count": 96,
   "id": "c410ca7a",
   "metadata": {},
   "outputs": [
    {
     "data": {
      "text/plain": [
       "70"
      ]
     },
     "execution_count": 96,
     "metadata": {},
     "output_type": "execute_result"
    }
   ],
   "source": [
    "#   0  1  2  3\n",
    "a=[10,20,30,40]\n",
    "a[2]+a[3]"
   ]
  },
  {
   "cell_type": "code",
   "execution_count": 97,
   "id": "343871c9",
   "metadata": {},
   "outputs": [
    {
     "data": {
      "text/plain": [
       "40"
      ]
     },
     "execution_count": 97,
     "metadata": {},
     "output_type": "execute_result"
    }
   ],
   "source": [
    "a[-1]"
   ]
  },
  {
   "cell_type": "code",
   "execution_count": 99,
   "id": "7d0390c5",
   "metadata": {},
   "outputs": [
    {
     "data": {
      "text/plain": [
       "[50, 'a', 'b']"
      ]
     },
     "execution_count": 99,
     "metadata": {},
     "output_type": "execute_result"
    }
   ],
   "source": [
    "a=[10,20,30,40,[50,'a','b']]\n",
    "a[4]\n",
    "a[-1]\n",
    "#리스트는 리스트를 요소값으로 할 수 있다"
   ]
  },
  {
   "cell_type": "code",
   "execution_count": 110,
   "id": "8b79d7f9",
   "metadata": {},
   "outputs": [
    {
     "data": {
      "text/plain": [
       "'a'"
      ]
     },
     "execution_count": 110,
     "metadata": {},
     "output_type": "execute_result"
    }
   ],
   "source": [
    "a[4][1]\n",
    "a[-1][1]\n",
    "a[4][-2]"
   ]
  },
  {
   "cell_type": "code",
   "execution_count": 112,
   "id": "2d5a52b9",
   "metadata": {},
   "outputs": [],
   "source": [
    "a=[10,20,30,40,[50,'a',[3.14, True,'b']]]"
   ]
  },
  {
   "cell_type": "code",
   "execution_count": 116,
   "id": "088d250d",
   "metadata": {},
   "outputs": [
    {
     "data": {
      "text/plain": [
       "3.14"
      ]
     },
     "execution_count": 116,
     "metadata": {},
     "output_type": "execute_result"
    }
   ],
   "source": [
    "a[4][2][0]"
   ]
  },
  {
   "cell_type": "code",
   "execution_count": null,
   "id": "a14b2873",
   "metadata": {},
   "outputs": [],
   "source": [
    "파이썬 언어 - 리스트(동적, dynamic)\n",
    "#넘파이 배열(array, static, 정적)\n",
    "a=[]"
   ]
  },
  {
   "cell_type": "code",
   "execution_count": 117,
   "id": "0cf7d386",
   "metadata": {},
   "outputs": [],
   "source": [
    "a=[10,20,30,40,50]"
   ]
  },
  {
   "cell_type": "code",
   "execution_count": 121,
   "id": "59a1488a",
   "metadata": {},
   "outputs": [
    {
     "data": {
      "text/plain": [
       "[20, 30, 40, 50]"
      ]
     },
     "execution_count": 121,
     "metadata": {},
     "output_type": "execute_result"
    }
   ],
   "source": [
    "a[0:3] #시작번호(포함): 끝번호(포함x)\n",
    "a[:4]\n",
    "a[1:]"
   ]
  },
  {
   "cell_type": "code",
   "execution_count": 122,
   "id": "a3854557",
   "metadata": {},
   "outputs": [
    {
     "data": {
      "text/plain": [
       "'mul'"
      ]
     },
     "execution_count": 122,
     "metadata": {},
     "output_type": "execute_result"
    }
   ],
   "source": [
    "s=\"mulcam\"\n",
    "s[0:3]"
   ]
  },
  {
   "cell_type": "code",
   "execution_count": 123,
   "id": "870d9f10",
   "metadata": {},
   "outputs": [],
   "source": [
    "a=[10,20,30,['가','나','다'],40,50,60]"
   ]
  },
  {
   "cell_type": "code",
   "execution_count": 135,
   "id": "5cfe9de5",
   "metadata": {},
   "outputs": [
    {
     "data": {
      "text/plain": [
       "['가', '나']"
      ]
     },
     "execution_count": 135,
     "metadata": {},
     "output_type": "execute_result"
    }
   ],
   "source": [
    "#['가','나']\n",
    "a[3][0:2]"
   ]
  },
  {
   "cell_type": "code",
   "execution_count": 137,
   "id": "23d8dd9d",
   "metadata": {},
   "outputs": [],
   "source": [
    "a=[10,20]\n",
    "b=[30,40]"
   ]
  },
  {
   "cell_type": "code",
   "execution_count": 139,
   "id": "db38b127",
   "metadata": {},
   "outputs": [
    {
     "data": {
      "text/plain": [
       "[10, 20, 30, 40]"
      ]
     },
     "execution_count": 139,
     "metadata": {},
     "output_type": "execute_result"
    }
   ],
   "source": [
    "a*3\n",
    "a+b"
   ]
  },
  {
   "cell_type": "code",
   "execution_count": 143,
   "id": "120b9b5e",
   "metadata": {},
   "outputs": [
    {
     "data": {
      "text/plain": [
       "5"
      ]
     },
     "execution_count": 143,
     "metadata": {},
     "output_type": "execute_result"
    }
   ],
   "source": [
    "len(a) #리스트, 문자열, 딕셔너리. 튜플\n",
    "len(\"hello\")"
   ]
  },
  {
   "cell_type": "code",
   "execution_count": 144,
   "id": "e5338f32",
   "metadata": {},
   "outputs": [
    {
     "data": {
      "text/plain": [
       "[10, 20, 'hi']"
      ]
     },
     "execution_count": 144,
     "metadata": {},
     "output_type": "execute_result"
    }
   ],
   "source": [
    "s=[10,20,\"hi\"]\n",
    "s"
   ]
  },
  {
   "cell_type": "code",
   "execution_count": 148,
   "id": "367d4fe4",
   "metadata": {},
   "outputs": [
    {
     "data": {
      "text/plain": [
       "'20hi'"
      ]
     },
     "execution_count": 148,
     "metadata": {},
     "output_type": "execute_result"
    }
   ],
   "source": [
    "str(s[1])+\"hi\""
   ]
  },
  {
   "cell_type": "code",
   "execution_count": 152,
   "id": "38941618",
   "metadata": {},
   "outputs": [
    {
     "name": "stdout",
     "output_type": "stream",
     "text": [
      "[-10, -8, -6, -4, -2, 0, 2, 4, 6, 8, 10, 12, 14, 16, 18, 20, 22, 24, 26, 28, 30, 32, 34, 36, 38, 40, 42, 44, 46, 48]\n"
     ]
    },
    {
     "data": {
      "text/plain": [
       "[20, 18, 16, 14, 12, 10, 8, 6, 4, 2]"
      ]
     },
     "execution_count": 152,
     "metadata": {},
     "output_type": "execute_result"
    }
   ],
   "source": [
    "range(5) #0~5-1까지 연속된 수열\n",
    "\n",
    "list(range(5))\n",
    "list(range(0,5))\n",
    "\n",
    "# print(list(range(10,50)))\n",
    "\n",
    "# print(list(range(10,50,3)))\n",
    "\n",
    "print(list(range(-10,50,2)))\n",
    "\n",
    "#range(시작, 끝, 증감값)\n",
    "\n",
    "list(range(20,0,-2))"
   ]
  },
  {
   "cell_type": "code",
   "execution_count": null,
   "id": "8467f173",
   "metadata": {},
   "outputs": [],
   "source": [
    "#range(5,0, -0.5)\n",
    "#넘파이에 있는 range함수는 실수값으로 증감값을 나타낼 수 있음"
   ]
  },
  {
   "cell_type": "code",
   "execution_count": null,
   "id": "c02096e8",
   "metadata": {},
   "outputs": [],
   "source": [
    "list(range(20,0,-1))\n",
    "#list(range(20,0)) #list(range(20,0,1))\n"
   ]
  },
  {
   "cell_type": "code",
   "execution_count": 163,
   "id": "06cf70c0",
   "metadata": {},
   "outputs": [
    {
     "data": {
      "text/plain": [
       "[10, 20, 40]"
      ]
     },
     "execution_count": 163,
     "metadata": {},
     "output_type": "execute_result"
    }
   ],
   "source": [
    "#range(5, 0, -0.5)\n",
    "\n",
    "#[5,4.5,....0.5]\n",
    "\n",
    "# x=list(range(50, 0, -5))\n",
    "# x\n",
    "# res[0]=x[0]/10\n",
    "# res[1]=x[1]/10\n",
    "# #...\n",
    "# res[9]=x[9]/10\n",
    "\n",
    "a=[10,20,30]\n",
    "a[2]=40\n",
    "a"
   ]
  },
  {
   "cell_type": "code",
   "execution_count": 164,
   "id": "88d13c34",
   "metadata": {},
   "outputs": [],
   "source": [
    "del a[2]"
   ]
  },
  {
   "cell_type": "code",
   "execution_count": 165,
   "id": "cc8d7a8a",
   "metadata": {},
   "outputs": [
    {
     "data": {
      "text/plain": [
       "[10, 20]"
      ]
     },
     "execution_count": 165,
     "metadata": {},
     "output_type": "execute_result"
    }
   ],
   "source": [
    "a"
   ]
  },
  {
   "cell_type": "code",
   "execution_count": 166,
   "id": "a4f2bf82",
   "metadata": {},
   "outputs": [
    {
     "data": {
      "text/plain": [
       "[10, 20, 30, 40, 50, 60, 70, 80, 90, 100]"
      ]
     },
     "execution_count": 166,
     "metadata": {},
     "output_type": "execute_result"
    }
   ],
   "source": [
    "a=list(range(10,101,10))\n",
    "a"
   ]
  },
  {
   "cell_type": "code",
   "execution_count": 167,
   "id": "3cb96a4b",
   "metadata": {},
   "outputs": [],
   "source": [
    "del a[3:]"
   ]
  },
  {
   "cell_type": "code",
   "execution_count": 168,
   "id": "7c879033",
   "metadata": {},
   "outputs": [
    {
     "data": {
      "text/plain": [
       "[10, 20, 30]"
      ]
     },
     "execution_count": 168,
     "metadata": {},
     "output_type": "execute_result"
    }
   ],
   "source": [
    "a"
   ]
  },
  {
   "cell_type": "code",
   "execution_count": 169,
   "id": "a7fabecf",
   "metadata": {},
   "outputs": [],
   "source": [
    "a=[10,20] #append함수: 리스트의 맨 마지막에 추가\n",
    "a.append(30)"
   ]
  },
  {
   "cell_type": "code",
   "execution_count": 170,
   "id": "da85b02c",
   "metadata": {},
   "outputs": [
    {
     "data": {
      "text/plain": [
       "[10, 20, 30]"
      ]
     },
     "execution_count": 170,
     "metadata": {},
     "output_type": "execute_result"
    }
   ],
   "source": [
    "a"
   ]
  },
  {
   "cell_type": "code",
   "execution_count": 173,
   "id": "3b266af3",
   "metadata": {},
   "outputs": [
    {
     "data": {
      "text/plain": [
       "[10, 20, 30, 3.14, 3.14]"
      ]
     },
     "execution_count": 173,
     "metadata": {},
     "output_type": "execute_result"
    }
   ],
   "source": [
    "a.append(3.14)\n",
    "a"
   ]
  },
  {
   "cell_type": "code",
   "execution_count": 174,
   "id": "8f3f8b3f",
   "metadata": {},
   "outputs": [
    {
     "data": {
      "text/plain": [
       "[10, 20, 30, 3.14, 3.14, [100, 200]]"
      ]
     },
     "execution_count": 174,
     "metadata": {},
     "output_type": "execute_result"
    }
   ],
   "source": [
    "a.append([100,200])\n",
    "a"
   ]
  },
  {
   "cell_type": "code",
   "execution_count": 178,
   "id": "8a505470",
   "metadata": {},
   "outputs": [
    {
     "data": {
      "text/plain": [
       "[10, 20, 30]"
      ]
     },
     "execution_count": 178,
     "metadata": {},
     "output_type": "execute_result"
    }
   ],
   "source": [
    "#sort함수:정렬\n",
    "a=[30,10,20]\n",
    "a.sort()\n",
    "a"
   ]
  },
  {
   "cell_type": "code",
   "execution_count": null,
   "id": "d78c68ba",
   "metadata": {},
   "outputs": [],
   "source": [
    "a=[ 'b', 'c', 'Z', 't', 'v']\n",
    "a.sort() #기본적으로 오름차순 정렬됨(A:65 ~ Z:90, a:97 ~z:122)\n",
    "\n",
    "\n",
    "print(a)\n",
    "\n",
    "#문자는 ascii코드 값을 기준으로 정렬\n",
    "#인코딩: 코드화(문자,숫자 등 -> 코드(0,1)) 하는 작업 \n",
    "#디코딩: 코드(0,1) -> 문자, 숫자 등\n",
    "\n",
    "#인코딩/디코딩 방식 : ascii, ebcdic, bcd,\n",
    "#utf8, utf16, euc-kr 등등\n",
    "\n",
    "#아스키: 모든 문자/숫자를 7비트로 표현(7비트 = 2의 7승 = 128가지 문자를 표현 가능)\n",
    "#0~127까지 코드\n",
    "\n",
    "#초성 *중성 *종성\n",
    "\n",
    "#utf-3byte"
   ]
  },
  {
   "cell_type": "code",
   "execution_count": 180,
   "id": "017bc41e",
   "metadata": {},
   "outputs": [
    {
     "data": {
      "text/plain": [
       "['v', 't', 'Z', 'c', 'b']"
      ]
     },
     "execution_count": 180,
     "metadata": {},
     "output_type": "execute_result"
    }
   ],
   "source": [
    "a=['b','c','Z','t','v']\n",
    "a.reverse()#역순으로 나열\n",
    "a"
   ]
  },
  {
   "cell_type": "code",
   "execution_count": 182,
   "id": "42719d02",
   "metadata": {},
   "outputs": [
    {
     "name": "stdout",
     "output_type": "stream",
     "text": [
      "['v', 't', 'c', 'b', 'Z']\n"
     ]
    }
   ],
   "source": [
    "a=['b','c','Z','t','v']\n",
    "a.sort()\n",
    "a.reverse()\n",
    "print(a)"
   ]
  },
  {
   "cell_type": "code",
   "execution_count": 184,
   "id": "7b4922c1",
   "metadata": {},
   "outputs": [
    {
     "name": "stdout",
     "output_type": "stream",
     "text": [
      "['v', 't', 'c', 'b', 'Z', '0']\n"
     ]
    }
   ],
   "source": [
    "a=['b','c','Z','t','v','0'] #'0' :48\n",
    "a.sort(reverse=True)\n",
    "print(a)"
   ]
  },
  {
   "cell_type": "code",
   "execution_count": 187,
   "id": "ecbaeeb5",
   "metadata": {},
   "outputs": [
    {
     "data": {
      "text/plain": [
       "'\\x7f'"
      ]
     },
     "execution_count": 187,
     "metadata": {},
     "output_type": "execute_result"
    }
   ],
   "source": [
    "chr(65) #아스키코드 값을 아스키 문자로 변환\n",
    "chr(90)\n",
    "chr(127)"
   ]
  },
  {
   "cell_type": "code",
   "execution_count": 188,
   "id": "72e8e5c6",
   "metadata": {},
   "outputs": [],
   "source": [
    "a=['b','c','Z','t','v','0', chr(95)]"
   ]
  },
  {
   "cell_type": "code",
   "execution_count": 189,
   "id": "1ca755c0",
   "metadata": {},
   "outputs": [
    {
     "name": "stdout",
     "output_type": "stream",
     "text": [
      "['v', 't', 'c', 'b', '_', 'Z', '0']\n"
     ]
    }
   ],
   "source": [
    "a.sort(reverse=True)\n",
    "print(a)"
   ]
  },
  {
   "cell_type": "code",
   "execution_count": null,
   "id": "5dd41ce1",
   "metadata": {},
   "outputs": [],
   "source": []
  }
 ],
 "metadata": {
  "kernelspec": {
   "display_name": "Python 3",
   "language": "python",
   "name": "python3"
  },
  "language_info": {
   "codemirror_mode": {
    "name": "ipython",
    "version": 3
   },
   "file_extension": ".py",
   "mimetype": "text/x-python",
   "name": "python",
   "nbconvert_exporter": "python",
   "pygments_lexer": "ipython3",
   "version": "3.8.8"
  }
 },
 "nbformat": 4,
 "nbformat_minor": 5
}
