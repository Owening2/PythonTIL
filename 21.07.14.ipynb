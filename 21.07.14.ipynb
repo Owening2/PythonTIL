{
 "cells": [
  {
   "cell_type": "code",
   "execution_count": null,
   "id": "3d952807",
   "metadata": {},
   "outputs": [],
   "source": [
    "# 1. 첫 번째 항의 값이 0이고 두 번째 항의 값이 1일 때, 이후에 이어지는 항은 이전의 두 항을 더한 값으로 이루어지는 수열을 피보나치 수열\n",
    "# 이라고 한다.\n",
    "# 0, 1, 1, 2, 3, 5, 8, 13, ...\n",
    "# 입력을 정수 n으로 받았을 때, n 이하까지의 피보나치 수열을 출력하는 함수를 작성해 보자.\n",
    "# 10 => 0, 1, 1, 2, 3, 5, 8"
   ]
  },
  {
   "cell_type": "code",
   "execution_count": 100,
   "id": "0dece724",
   "metadata": {
    "scrolled": true
   },
   "outputs": [
    {
     "name": "stdout",
     "output_type": "stream",
     "text": [
      "0\n",
      "1\n",
      "1\n",
      "2\n",
      "3\n",
      "5\n",
      "8\n"
     ]
    }
   ],
   "source": [
    "# def fib(n):\n",
    "#     a,b = 1,1\n",
    "#     if n==1 or n==2:\n",
    "#         return 1\n",
    "        \n",
    "#     for i in range(1,n):\n",
    "#         a,b = b, a+b\n",
    "\n",
    "#     return a\n",
    "# [ fib(x) for x in range(1,10) ]\n",
    "\n",
    "def fib(n):\n",
    "    if n==0:\n",
    "        return 0\n",
    "    elif n==1 or n==2:\n",
    "         return 1\n",
    "    else:\n",
    "        return fib(n-1) + fib(n-2)\n",
    "for i in range(10):\n",
    "    if fib(i) > 10:\n",
    "        break\n",
    "    print(fib(i))"
   ]
  },
  {
   "cell_type": "code",
   "execution_count": 11,
   "id": "27f869e9",
   "metadata": {},
   "outputs": [
    {
     "name": "stdout",
     "output_type": "stream",
     "text": [
      "{1, 3, 4, 8, 13, 17, 20}\n"
     ]
    }
   ],
   "source": [
    "# 2. 다음(카카오) 입사문제(리스트로 푸세요)\n",
    "# 1차원의 점들이 주어졌을 때, 그 중 가장 거리가 짧은 것의 쌍을 출력하는 함수를 작성하시오.\n",
    "# (단 점들의 배열은 모두 정렬되어있다고 가정한다.)\n",
    "# 예를들어 S={1, 3, 4, 8, 13, 17, 20} 이 주어졌다면, 결과값은 (3, 4)가 될 것이다.\n",
    "s={1,3,4,8,13,17,20}\n",
    "def mindist(s):\n",
    "    A = [(s[i],s[i+1]) for i in xrange(len(s)-1)]\n",
    "    sub = lambda a: a[1]-a[0]\n",
    "    return min(A, key=sub)\n",
    "print(s)"
   ]
  },
  {
   "cell_type": "code",
   "execution_count": 48,
   "id": "e3e54d31",
   "metadata": {},
   "outputs": [
    {
     "name": "stdout",
     "output_type": "stream",
     "text": [
      "[3, 4]\n"
     ]
    }
   ],
   "source": [
    "s=[1,3,4,8,13,17,20]\n",
    "def minimum_distance(s):\n",
    "    min_dis=0\n",
    "    result=0\n",
    "    min_dis = max(s)-min(s)\n",
    "    \n",
    "    for i in range(len(s)-1):\n",
    "        dis = s[i+1] - s[i]\n",
    "        \n",
    "        if min_dis > dis:\n",
    "            min_dis = dis\n",
    "            result = [s[i],s[i+1]]\n",
    "            \n",
    "    return result\n",
    "\n",
    "print(minimum_distance(s))\n"
   ]
  },
  {
   "cell_type": "code",
   "execution_count": 15,
   "id": "6982cd9e",
   "metadata": {},
   "outputs": [],
   "source": [
    "# 3. 문자열 바꾸기\n",
    "# 다음과 같은 문자열이 있다.\n",
    "# a:b:c:d\n",
    "# 문자열의 split와 join 함수를 사용하여 위 문자열을 다음과 같이 고치시오.\n",
    "# a#b#c#d"
   ]
  },
  {
   "cell_type": "code",
   "execution_count": 16,
   "id": "c78c6756",
   "metadata": {},
   "outputs": [
    {
     "data": {
      "text/plain": [
       "'a#b#c#d'"
      ]
     },
     "execution_count": 16,
     "metadata": {},
     "output_type": "execute_result"
    }
   ],
   "source": [
    "word = \"a:b:c:d\"\n",
    "removal=word.split(\":\")\n",
    "insert=\"#\".join(removal)\n",
    "insert"
   ]
  },
  {
   "cell_type": "code",
   "execution_count": null,
   "id": "a5e031c6",
   "metadata": {},
   "outputs": [],
   "source": [
    "# 4. 리스트 평균 구하기\n",
    "# 다음은 A학급 학생의 점수를 나타내는 리스트이다.\n",
    "# 다음 리스트에서 60점 이상 점수의 평균을 구하시오.\n",
    "# A = [20, 55, 67, 82, 45, 33, 90, 87, 100, 25]"
   ]
  },
  {
   "cell_type": "code",
   "execution_count": 30,
   "id": "62ee5d14",
   "metadata": {},
   "outputs": [
    {
     "name": "stdout",
     "output_type": "stream",
     "text": [
      "85.2\n"
     ]
    }
   ],
   "source": [
    "grade_score = [20, 55, 67, 82, 45, 33, 90, 87, 100, 25]\n",
    "\n",
    "extract=list(filter(lambda grade_score: grade_score >= 60, grade_score))\n",
    "print(sum(extract)/len(extract))\n"
   ]
  },
  {
   "cell_type": "code",
   "execution_count": null,
   "id": "535f3245",
   "metadata": {},
   "outputs": [],
   "source": [
    "# 5. 유사도\n",
    "# sen1 = \"오늘 멀티캠퍼스에서 너무 쉬운 프로그래밍을 공부했다\"\n",
    "# sen2 = \"멀티캠퍼스에서 공부했던 오늘의 프로그래밍은 너무 쉬웠다\"\n",
    "\n",
    "# similarity(sen1, sen2, 2) #두 문장의 유사도는 68%입니다.\n",
    "# similarity(sen1, sen2, 3) #두 문장의 유사도는 53%입니다.\n",
    "\n",
    "\"\"\"\n",
    "n: 문자의 개수\n",
    "n=2일 경우, \n",
    "1) 2개씩 쪼갠다. \n",
    "['오늘', '늘 ', ' 멀', ..., '부했', '했다']\n",
    "['멀티', '티캠', '캠퍼', ..., '쉬웠', '웠다']\n",
    "\n",
    "2) 한 리스트 내에서 중복되는 단어는 제외시킨다.\n",
    "\n",
    "3) 길이가 더 긴 쪽을 기준으로 하여 유사도를 아래와 같이 계산.\n",
    "두 리스트에서 일치하는 단어가 12개였고\n",
    "예를 들어 2번째 리스트 길이가 25라면,\n",
    "12/25 = 0.5 --> 50% 유사하다 \n",
    "\"\"\""
   ]
  },
  {
   "cell_type": "code",
   "execution_count": 111,
   "id": "11195e2e",
   "metadata": {},
   "outputs": [
    {
     "name": "stdout",
     "output_type": "stream",
     "text": [
      "두 문장의 유사도는 96 입니다.\n",
      "두 문장의 유사도는 0 입니다.\n"
     ]
    }
   ],
   "source": [
    "sen1 = \"오늘 멀티캠퍼스에서 너무 쉬운 프로그래밍을 공부했다\"\n",
    "sen2 = \"멀티캠퍼스에서 공부했던 오늘의 프로그래밍은 너무 쉬웠다\"\n",
    "\n",
    "def similarity(x,y,n):\n",
    "    xlist=[]\n",
    "    ylist=[]\n",
    "    for i in range(len(x)-1):\n",
    "        xlist.append(x[i:i+n])\n",
    "    for j in range(len(y)-1):\n",
    "        ylist.append(y[i:i+n])\n",
    "   \n",
    "    count=0\n",
    "    for i in xlist:\n",
    "        for j in ylist:\n",
    "             if i == j:\n",
    "                count += 1\n",
    "    sim = count*100/len(y)\n",
    "    print(\"두 문장의 유사도는 %d 입니다.\" % sim)\n",
    "    \n",
    "        \n",
    "similarity(sen1, sen2, 2) \n",
    "similarity(sen1, sen2, 3) "
   ]
  },
  {
   "cell_type": "code",
   "execution_count": 107,
   "id": "d82bf0a4",
   "metadata": {},
   "outputs": [
    {
     "data": {
      "text/plain": [
       "{1, 2}"
      ]
     },
     "execution_count": 107,
     "metadata": {},
     "output_type": "execute_result"
    }
   ],
   "source": [
    "a=(1,2)\n",
    "\n",
    "set(a)\n"
   ]
  },
  {
   "cell_type": "code",
   "execution_count": null,
   "id": "361e7ea7",
   "metadata": {},
   "outputs": [],
   "source": []
  }
 ],
 "metadata": {
  "kernelspec": {
   "display_name": "Python 3",
   "language": "python",
   "name": "python3"
  },
  "language_info": {
   "codemirror_mode": {
    "name": "ipython",
    "version": 3
   },
   "file_extension": ".py",
   "mimetype": "text/x-python",
   "name": "python",
   "nbconvert_exporter": "python",
   "pygments_lexer": "ipython3",
   "version": "3.8.8"
  }
 },
 "nbformat": 4,
 "nbformat_minor": 5
}
