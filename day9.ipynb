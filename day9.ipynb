{
 "cells": [
  {
   "cell_type": "code",
   "execution_count": 1,
   "id": "8d93d3bd",
   "metadata": {},
   "outputs": [
    {
     "name": "stdout",
     "output_type": "stream",
     "text": [
      "1 2 3\n"
     ]
    }
   ],
   "source": [
    "print(1,2,3)"
   ]
  },
  {
   "cell_type": "code",
   "execution_count": 2,
   "id": "fc95c93a",
   "metadata": {},
   "outputs": [
    {
     "name": "stdout",
     "output_type": "stream",
     "text": [
      "[1, 2, 3]\n"
     ]
    }
   ],
   "source": [
    "x=[1,2,3]\n",
    "print(x)"
   ]
  },
  {
   "cell_type": "code",
   "execution_count": 3,
   "id": "8bc8aaab",
   "metadata": {},
   "outputs": [
    {
     "name": "stdout",
     "output_type": "stream",
     "text": [
      "[1, 2, 3]\n",
      "1 2 3\n"
     ]
    }
   ],
   "source": [
    "x=[1,2,3]\n",
    "print(x)\n",
    "print(*x) #unpacking\n",
    "print(*[1,2,3])#unpakcing"
   ]
  },
  {
   "cell_type": "code",
   "execution_count": 8,
   "id": "59140729",
   "metadata": {},
   "outputs": [
    {
     "name": "stdout",
     "output_type": "stream",
     "text": [
      "1\n",
      "2\n",
      "3\n",
      "1\n",
      "2\n",
      "3\n"
     ]
    }
   ],
   "source": [
    "def printNum(*args):\n",
    "    for i in args:\n",
    "        print(i)\n",
    "    \n",
    "printNum(1,2,3)  #가변 인수\n",
    "\n",
    "printNum(*[1,2,3])"
   ]
  },
  {
   "cell_type": "code",
   "execution_count": 9,
   "id": "51176264",
   "metadata": {},
   "outputs": [],
   "source": [
    "def perinfo(n, a, addr):\n",
    "    print(n,a,addr)"
   ]
  },
  {
   "cell_type": "code",
   "execution_count": null,
   "id": "f583be93",
   "metadata": {},
   "outputs": [],
   "source": [
    "perinfo(\"김\", 30, \"서울\")"
   ]
  },
  {
   "cell_type": "code",
   "execution_count": null,
   "id": "05097928",
   "metadata": {},
   "outputs": [],
   "source": [
    "#패킹과 언패킹\n",
    "#패킹: 여러개의 데이터를 묶어서 변수 1개에 저장\n",
    "#언패킹: 변수 1개에 저장된 데이터를 풀어서 여러 개의 변수에 나누어 저장"
   ]
  },
  {
   "cell_type": "code",
   "execution_count": 10,
   "id": "e68da5b3",
   "metadata": {},
   "outputs": [],
   "source": [
    "num=(10,20,30,40,50)"
   ]
  },
  {
   "cell_type": "code",
   "execution_count": 11,
   "id": "4e8d9f18",
   "metadata": {},
   "outputs": [],
   "source": [
    "a,b,_,d,e=num"
   ]
  },
  {
   "cell_type": "code",
   "execution_count": 12,
   "id": "ac582c9e",
   "metadata": {},
   "outputs": [
    {
     "data": {
      "text/plain": [
       "30"
      ]
     },
     "execution_count": 12,
     "metadata": {},
     "output_type": "execute_result"
    }
   ],
   "source": [
    "# _ 기호는 해당 자리의 데이터를 버리겠다(무시하겠다)"
   ]
  },
  {
   "cell_type": "code",
   "execution_count": 15,
   "id": "57709198",
   "metadata": {},
   "outputs": [
    {
     "data": {
      "text/plain": [
       "(10, 20, 30, 40, 50)"
      ]
     },
     "execution_count": 15,
     "metadata": {},
     "output_type": "execute_result"
    }
   ],
   "source": [
    "num"
   ]
  },
  {
   "cell_type": "code",
   "execution_count": 14,
   "id": "6f8c2677",
   "metadata": {},
   "outputs": [],
   "source": [
    "x=num[0]\n",
    "y=num[1]\n",
    "z=num[2:]"
   ]
  },
  {
   "cell_type": "code",
   "execution_count": 16,
   "id": "311886da",
   "metadata": {},
   "outputs": [],
   "source": [
    "x,y,*z=num #나머지 데이터 전체를 리스트에 담아 저장"
   ]
  },
  {
   "cell_type": "code",
   "execution_count": 19,
   "id": "b512d5ab",
   "metadata": {},
   "outputs": [
    {
     "data": {
      "text/plain": [
       "[30, 40, 50]"
      ]
     },
     "execution_count": 19,
     "metadata": {},
     "output_type": "execute_result"
    }
   ],
   "source": [
    "z"
   ]
  },
  {
   "cell_type": "code",
   "execution_count": 20,
   "id": "48876ca5",
   "metadata": {},
   "outputs": [],
   "source": [
    "*x,y,z=num"
   ]
  },
  {
   "cell_type": "code",
   "execution_count": 21,
   "id": "1544dcbf",
   "metadata": {},
   "outputs": [
    {
     "data": {
      "text/plain": [
       "[10, 20, 30]"
      ]
     },
     "execution_count": 21,
     "metadata": {},
     "output_type": "execute_result"
    }
   ],
   "source": [
    "x"
   ]
  },
  {
   "cell_type": "code",
   "execution_count": 22,
   "id": "e134b263",
   "metadata": {},
   "outputs": [],
   "source": [
    "x,*y,z=num"
   ]
  },
  {
   "cell_type": "code",
   "execution_count": 25,
   "id": "10a0cbfe",
   "metadata": {},
   "outputs": [
    {
     "data": {
      "text/plain": [
       "50"
      ]
     },
     "execution_count": 25,
     "metadata": {},
     "output_type": "execute_result"
    }
   ],
   "source": [
    "z"
   ]
  },
  {
   "cell_type": "code",
   "execution_count": 26,
   "id": "e9e91c17",
   "metadata": {},
   "outputs": [],
   "source": [
    "def dString(year, month, day):\n",
    "    return str(year)+\"년\"+str(month)+\"월\"+str(day)+\"일\""
   ]
  },
  {
   "cell_type": "code",
   "execution_count": 30,
   "id": "0872e1a8",
   "metadata": {},
   "outputs": [
    {
     "data": {
      "text/plain": [
       "'2021년7월14일'"
      ]
     },
     "execution_count": 30,
     "metadata": {},
     "output_type": "execute_result"
    }
   ],
   "source": [
    "date=(2021,7,14)\n",
    "dString(date[0], date[1], date[2])"
   ]
  },
  {
   "cell_type": "code",
   "execution_count": 31,
   "id": "4cf394ee",
   "metadata": {},
   "outputs": [
    {
     "data": {
      "text/plain": [
       "'2021년7월14일'"
      ]
     },
     "execution_count": 31,
     "metadata": {},
     "output_type": "execute_result"
    }
   ],
   "source": [
    "dString(*date)"
   ]
  },
  {
   "cell_type": "code",
   "execution_count": 32,
   "id": "2509de4c",
   "metadata": {},
   "outputs": [
    {
     "data": {
      "text/plain": [
       "'2021년7월14일'"
      ]
     },
     "execution_count": 32,
     "metadata": {},
     "output_type": "execute_result"
    }
   ],
   "source": [
    "dString(*[2021,7,14])"
   ]
  },
  {
   "cell_type": "code",
   "execution_count": 34,
   "id": "7c80a3ce",
   "metadata": {},
   "outputs": [
    {
     "name": "stdout",
     "output_type": "stream",
     "text": [
      "3.5\n",
      "2.0\n"
     ]
    }
   ],
   "source": [
    "def test(*args):\n",
    "    return sum(args)/len(args)\n",
    "    \n",
    "print(test(5,2))\n",
    "print(test(1,2,3))"
   ]
  },
  {
   "cell_type": "code",
   "execution_count": null,
   "id": "95a15053",
   "metadata": {},
   "outputs": [],
   "source": [
    "num\n",
    "test(*num)"
   ]
  },
  {
   "cell_type": "code",
   "execution_count": null,
   "id": "fe257ff8",
   "metadata": {},
   "outputs": [],
   "source": [
    "#람다함수, 리스트내포\n",
    "# lambda : 함수를 정의할 때 사용하는 예약어(def와 동일), 간단한 기능의 함수 정의\n",
    "# def를 사용할 수 없는 곳에 쓰임\n",
    "\n",
    "\n",
    "# def :복잡한 기능을 갖는 함수 정의\n",
    "\n"
   ]
  },
  {
   "cell_type": "code",
   "execution_count": 35,
   "id": "01a4b522",
   "metadata": {},
   "outputs": [],
   "source": [
    "def sum(a,b):\n",
    "    return a+b"
   ]
  },
  {
   "cell_type": "code",
   "execution_count": 36,
   "id": "7efbfcdb",
   "metadata": {},
   "outputs": [
    {
     "name": "stdout",
     "output_type": "stream",
     "text": [
      "30\n"
     ]
    }
   ],
   "source": [
    "res=sum(10,20)\n",
    "print(res)"
   ]
  },
  {
   "cell_type": "code",
   "execution_count": 39,
   "id": "dc9420cb",
   "metadata": {},
   "outputs": [],
   "source": [
    "#람다 함수(함수명이 없는 경우도 있음, 익명함수)\n",
    "sum2=lambda a,b:a+b"
   ]
  },
  {
   "cell_type": "code",
   "execution_count": 40,
   "id": "d47ce0b3",
   "metadata": {},
   "outputs": [
    {
     "data": {
      "text/plain": [
       "30"
      ]
     },
     "execution_count": 40,
     "metadata": {},
     "output_type": "execute_result"
    }
   ],
   "source": [
    "sum2(10,20)"
   ]
  },
  {
   "cell_type": "code",
   "execution_count": 41,
   "id": "2a6b8b3a",
   "metadata": {},
   "outputs": [],
   "source": [
    "#lambda 매개변수(들):식"
   ]
  },
  {
   "cell_type": "code",
   "execution_count": 42,
   "id": "db9f6102",
   "metadata": {},
   "outputs": [
    {
     "data": {
      "text/plain": [
       "6"
      ]
     },
     "execution_count": 42,
     "metadata": {},
     "output_type": "execute_result"
    }
   ],
   "source": [
    "(lambda x:x+1)(5)"
   ]
  },
  {
   "cell_type": "code",
   "execution_count": 43,
   "id": "4dcddfbe",
   "metadata": {},
   "outputs": [
    {
     "data": {
      "text/plain": [
       "15"
      ]
     },
     "execution_count": 43,
     "metadata": {},
     "output_type": "execute_result"
    }
   ],
   "source": [
    "(lambda x,y:x+y)(5,10)"
   ]
  },
  {
   "cell_type": "code",
   "execution_count": 45,
   "id": "0679fc24",
   "metadata": {},
   "outputs": [
    {
     "data": {
      "text/plain": [
       "15"
      ]
     },
     "execution_count": 45,
     "metadata": {},
     "output_type": "execute_result"
    }
   ],
   "source": [
    "#(lambda x,y:x+y)(5)\n",
    "\n",
    "(lambda x,y=10:x+y)(5) #버전에 따라 오류가 발생할 수도 있음"
   ]
  },
  {
   "cell_type": "code",
   "execution_count": 46,
   "id": "5668b3da",
   "metadata": {},
   "outputs": [
    {
     "data": {
      "text/plain": [
       "15"
      ]
     },
     "execution_count": 46,
     "metadata": {},
     "output_type": "execute_result"
    }
   ],
   "source": [
    "y=10\n",
    "(lambda x:x+y)(5)"
   ]
  },
  {
   "cell_type": "code",
   "execution_count": 68,
   "id": "a3694fc4",
   "metadata": {},
   "outputs": [
    {
     "name": "stdout",
     "output_type": "stream",
     "text": [
      "[2, 3, 4]\n"
     ]
    }
   ],
   "source": [
    "#람다함수를 map함수의 인수로 전달하여 수행\n",
    "# def add(a):\n",
    "#     return a+1\n",
    "x=[1,2,3]\n",
    "\n",
    "\n",
    "\n",
    "# print(list(map(add,x)))\n",
    "# #[2,3,4]가 출력\n",
    "\n",
    "print(list(map(lambda a:a+1,x)))\n"
   ]
  },
  {
   "cell_type": "code",
   "execution_count": 60,
   "id": "85a0c952",
   "metadata": {},
   "outputs": [
    {
     "name": "stdout",
     "output_type": "stream",
     "text": [
      "[2, 3, 4]\n"
     ]
    }
   ],
   "source": [
    "for i in range(len(x)):\n",
    "    x[i]=add(x[i])\n",
    "print(x)"
   ]
  },
  {
   "cell_type": "code",
   "execution_count": 65,
   "id": "e7e05bf5",
   "metadata": {},
   "outputs": [
    {
     "data": {
      "text/plain": [
       "[2, 3, 4]"
      ]
     },
     "execution_count": 65,
     "metadata": {},
     "output_type": "execute_result"
    }
   ],
   "source": [
    "x_add =[]\n",
    "[x_add.append(add(i)) for i in x]\n",
    "x_add"
   ]
  },
  {
   "cell_type": "code",
   "execution_count": 66,
   "id": "08090173",
   "metadata": {},
   "outputs": [
    {
     "name": "stdout",
     "output_type": "stream",
     "text": [
      "[2, 3, 4]\n"
     ]
    }
   ],
   "source": [
    "def add(a):\n",
    "    for i in range(len(a)):\n",
    "        a[i]+=1\n",
    "    return a\n",
    "x = [1, 2, 3]\n",
    "print(add(x))"
   ]
  },
  {
   "cell_type": "code",
   "execution_count": 81,
   "id": "4a82d6c9",
   "metadata": {},
   "outputs": [],
   "source": [
    "#lambda 매개변수 :  식\n",
    "#lambda 매개변수 :  조건식\n",
    "x=[1,2,3,4,5]"
   ]
  },
  {
   "cell_type": "code",
   "execution_count": null,
   "id": "b9660738",
   "metadata": {},
   "outputs": [],
   "source": [
    "# 출력 결과 : [1,'2', 3, '4', 5]\n",
    "# 짝수는 문자로 출력"
   ]
  },
  {
   "cell_type": "code",
   "execution_count": 90,
   "id": "304a528e",
   "metadata": {},
   "outputs": [
    {
     "data": {
      "text/plain": [
       "[1, '2', 3, '4', 5]"
      ]
     },
     "execution_count": 90,
     "metadata": {},
     "output_type": "execute_result"
    }
   ],
   "source": [
    "\n",
    "\n",
    "\n",
    "x=[1,2,3,4,5]\n",
    "[str(i) if i % 2 ==0 else i for i in x]"
   ]
  },
  {
   "cell_type": "code",
   "execution_count": 93,
   "id": "3377adbc",
   "metadata": {},
   "outputs": [
    {
     "data": {
      "text/plain": [
       "[1, '2', 3, '4', 5]"
      ]
     },
     "execution_count": 93,
     "metadata": {},
     "output_type": "execute_result"
    }
   ],
   "source": [
    "x=[1,2,3,4,5]\n",
    "#람다식에 if문을 쓰는 경우에는 콜론기호를 사용하지 않음\n",
    "#조건식 => 식(참) if 조건식 else 식(거짓)\n",
    "list(map(lambda x: str(x) if x % 2 ==0 else x, x))"
   ]
  },
  {
   "cell_type": "code",
   "execution_count": 95,
   "id": "c0955281",
   "metadata": {},
   "outputs": [
    {
     "data": {
      "text/plain": [
       "['1', 2.0, 3, 4, 5]"
      ]
     },
     "execution_count": 95,
     "metadata": {},
     "output_type": "execute_result"
    }
   ],
   "source": [
    "#조건식 => 식1 if 조건식1 else 식2 if 조건식2  else 식3\n",
    "\n",
    "# x = [1,2,3,4,5]\n",
    "# 1 -> '1'\n",
    "# 2 -> 2.0\n",
    "# 나머지는 그대로 출력\n",
    "\n",
    "list(map(lambda x: str(x) if x ==1 else float(x) if x==2 else x, x))"
   ]
  },
  {
   "cell_type": "code",
   "execution_count": 96,
   "id": "21e7a0e2",
   "metadata": {},
   "outputs": [],
   "source": [
    "x=[10,20,0,5,10]\n",
    "y=[1,0,20,15,5]"
   ]
  },
  {
   "cell_type": "code",
   "execution_count": null,
   "id": "f871494e",
   "metadata": {},
   "outputs": [],
   "source": [
    "#출력결과 : [10,0,0,75,50]"
   ]
  },
  {
   "cell_type": "code",
   "execution_count": 100,
   "id": "e433c6fe",
   "metadata": {},
   "outputs": [
    {
     "data": {
      "text/plain": [
       "[10, 0, 0, 75, 50]"
      ]
     },
     "execution_count": 100,
     "metadata": {},
     "output_type": "execute_result"
    }
   ],
   "source": [
    "list(map(lambda a,b:a*b,x,y))"
   ]
  },
  {
   "cell_type": "code",
   "execution_count": 101,
   "id": "c657f448",
   "metadata": {},
   "outputs": [
    {
     "data": {
      "text/plain": [
       "1"
      ]
     },
     "execution_count": 101,
     "metadata": {},
     "output_type": "execute_result"
    }
   ],
   "source": [
    "#절대값\n",
    "abs(1)\n",
    "abs(-1)"
   ]
  },
  {
   "cell_type": "code",
   "execution_count": 106,
   "id": "79213061",
   "metadata": {},
   "outputs": [
    {
     "name": "stdout",
     "output_type": "stream",
     "text": [
      "False\n"
     ]
    },
    {
     "data": {
      "text/plain": [
       "True"
      ]
     },
     "execution_count": 106,
     "metadata": {},
     "output_type": "execute_result"
    }
   ],
   "source": [
    "#any, all함수\n",
    "#all : 모두 참-> 참\n",
    "all([10,20,-5])\n",
    "all([10,0,-5])\n",
    "all(\"hello\")\n",
    "print(all([\"\", \"hello\", \"hi\"]))#거짓\n",
    "\n",
    "#any : 하나 이상 참 -> 참\n",
    "any([10,0,-5])"
   ]
  },
  {
   "cell_type": "code",
   "execution_count": 107,
   "id": "5d208d18",
   "metadata": {},
   "outputs": [
    {
     "data": {
      "text/plain": [
       "'z'"
      ]
     },
     "execution_count": 107,
     "metadata": {},
     "output_type": "execute_result"
    }
   ],
   "source": [
    "chr(122)\n",
    "#chr(유니코드), utf-8, 16, 32\n",
    "#유니코드 : 전 세계의 모든 문자를 표현하기 위한 표준코드\n",
    "#참고:아스키코드는 0~127까지"
   ]
  },
  {
   "cell_type": "code",
   "execution_count": 112,
   "id": "81d4e2f0",
   "metadata": {},
   "outputs": [
    {
     "data": {
      "text/plain": [
       "54616"
      ]
     },
     "execution_count": 112,
     "metadata": {},
     "output_type": "execute_result"
    }
   ],
   "source": [
    "chr(44035)\n",
    "\n",
    "ord('각')\n",
    "ord('a')\n",
    "ord('하')"
   ]
  },
  {
   "cell_type": "code",
   "execution_count": 115,
   "id": "d6c78fa0",
   "metadata": {},
   "outputs": [
    {
     "data": {
      "text/plain": [
       "1"
      ]
     },
     "execution_count": 115,
     "metadata": {},
     "output_type": "execute_result"
    }
   ],
   "source": [
    "divmod(9,5)[0]\n",
    "#몫, 나머지"
   ]
  },
  {
   "cell_type": "code",
   "execution_count": 127,
   "id": "786bd303",
   "metadata": {},
   "outputs": [
    {
     "name": "stdout",
     "output_type": "stream",
     "text": [
      "0 h\n",
      "1 e\n",
      "2 l\n",
      "3 l\n",
      "4 o\n",
      "0 h\n",
      "1 e\n",
      "2 l\n",
      "3 l\n",
      "4 o\n"
     ]
    }
   ],
   "source": [
    "#enmerate함수 : 열거형 함수, 리스트(튜플,문자열)의\n",
    "#자료를 입력받아 (index, 자료) 형식으로 리턴\n",
    "#일반적으로 for와 함께 사용\n",
    "a=['a','b','c']\n",
    "a=\"hello\"\n",
    "for i in enumerate(a):\n",
    "    print(i[0], i[1])\n",
    "for i , data in enumerate(a):\n",
    "    print(i, data)"
   ]
  },
  {
   "cell_type": "code",
   "execution_count": 122,
   "id": "a3dd957d",
   "metadata": {},
   "outputs": [
    {
     "data": {
      "text/plain": [
       "(2, 1)"
      ]
     },
     "execution_count": 122,
     "metadata": {},
     "output_type": "execute_result"
    }
   ],
   "source": [
    "#eval()\n",
    "#연산이 가능한 문자열을 전달받아 연산 수행, 결과 도출\n",
    "\n",
    "eval(\"1+2\")\n",
    "eval(\"abs(-3)\")\n",
    "eval(\"divmod(9,4)\")"
   ]
  },
  {
   "cell_type": "code",
   "execution_count": 123,
   "id": "3158c838",
   "metadata": {},
   "outputs": [],
   "source": [
    "#filter()\n",
    "#조건에 만족하는 자료들만 추출\n",
    "#filter(함수, 리스트(튜플...)):함수에 정의한 조건을\n",
    "#만족하는 자료들만 필터링됨\n",
    "\n",
    "def myFunc(data):\n",
    "    return data>3 and data<7"
   ]
  },
  {
   "cell_type": "code",
   "execution_count": 126,
   "id": "537e2a0d",
   "metadata": {},
   "outputs": [
    {
     "data": {
      "text/plain": [
       "[6, 5]"
      ]
     },
     "execution_count": 126,
     "metadata": {},
     "output_type": "execute_result"
    }
   ],
   "source": [
    "data=[8,1,9,2,10,6,5]\n",
    "list(filter(myFunc,data))"
   ]
  },
  {
   "cell_type": "code",
   "execution_count": 130,
   "id": "39f125a6",
   "metadata": {},
   "outputs": [
    {
     "data": {
      "text/plain": [
       "[5, 6]"
      ]
     },
     "execution_count": 130,
     "metadata": {},
     "output_type": "execute_result"
    }
   ],
   "source": [
    "data=[8,1,5,2,6]\n",
    "#[5,6]이 출력되도록 람다함수로 정의해보세요\n",
    "\n",
    "list(filter(lambda data: data>3 and data<7, data))"
   ]
  },
  {
   "cell_type": "code",
   "execution_count": 131,
   "id": "82468025",
   "metadata": {},
   "outputs": [
    {
     "data": {
      "text/plain": [
       "[5, 6]"
      ]
     },
     "execution_count": 131,
     "metadata": {},
     "output_type": "execute_result"
    }
   ],
   "source": [
    "list(filter(lambda a: a if 3<a<7 else 0, data))\n",
    "list(filter(lambda data:data>3 and data<7, data))"
   ]
  },
  {
   "cell_type": "code",
   "execution_count": 137,
   "id": "b876a9e6",
   "metadata": {},
   "outputs": [
    {
     "data": {
      "text/plain": [
       "[3, 2, 4]"
      ]
     },
     "execution_count": 137,
     "metadata": {},
     "output_type": "execute_result"
    }
   ],
   "source": [
    "data=[-1,3,2,-5,4]\n",
    "def pos(data):\n",
    "    return data > 0\n",
    "list(filter(pos,data))"
   ]
  },
  {
   "cell_type": "code",
   "execution_count": null,
   "id": "286af88f",
   "metadata": {},
   "outputs": [],
   "source": [
    "\n",
    "#양수만 출력 "
   ]
  },
  {
   "cell_type": "code",
   "execution_count": null,
   "id": "2405c1b0",
   "metadata": {},
   "outputs": [],
   "source": [
    "#map함수를 활용하여 주어진 리스트의 값을 2배 하시오\n",
    "#[1,2,3] -> *2 => [2,4,6]\n",
    "\n",
    "# 1)def함수 구현, map 함수\n",
    "# 2)람다함수 구현, map 함수\n",
    "# 3)단순 for문 사용\n",
    "3)\n",
    "# x=[1,2,3]\n",
    "# for i in range(len(x)):\n",
    "#     x[i] = x[i] * 2\n",
    "# print(x)\n",
    "\n",
    "2)\n",
    "# print(list(map(lambda x : x*2, x)))\n",
    "\n",
    "1)\n",
    "# def mul(x):\n",
    "#     y=[]\n",
    "#     for i in x:\n",
    "#         y.append(int(i)*2)\n",
    "#     return y\n",
    "# print(list(map(int,mul(x))))"
   ]
  },
  {
   "cell_type": "code",
   "execution_count": null,
   "id": "17228924",
   "metadata": {},
   "outputs": [],
   "source": []
  },
  {
   "cell_type": "code",
   "execution_count": 140,
   "id": "0e82b897",
   "metadata": {},
   "outputs": [
    {
     "data": {
      "text/plain": [
       "[2, 4, 6]"
      ]
     },
     "execution_count": 140,
     "metadata": {},
     "output_type": "execute_result"
    }
   ],
   "source": [
    "list(map(lambda num: num*2, num))"
   ]
  },
  {
   "cell_type": "code",
   "execution_count": 148,
   "id": "04013ce2",
   "metadata": {},
   "outputs": [
    {
     "data": {
      "text/plain": [
       "'e'"
      ]
     },
     "execution_count": 148,
     "metadata": {},
     "output_type": "execute_result"
    }
   ],
   "source": [
    "max([2,1,3])\n",
    "max(\"test가\")\n",
    "min(\"test가\")"
   ]
  },
  {
   "cell_type": "code",
   "execution_count": 152,
   "id": "51253200",
   "metadata": {},
   "outputs": [
    {
     "data": {
      "text/plain": [
       "3.146"
      ]
     },
     "execution_count": 152,
     "metadata": {},
     "output_type": "execute_result"
    }
   ],
   "source": [
    "#pow():제곱\n",
    "pow(3,2)\n",
    "\n",
    "#round() : 반올림\n",
    "round(3,1)\n",
    "round(3.14592)\n",
    "round(3.14592,3)"
   ]
  },
  {
   "cell_type": "code",
   "execution_count": 154,
   "id": "5a2cabc4",
   "metadata": {},
   "outputs": [
    {
     "data": {
      "text/plain": [
       "'HI'"
      ]
     },
     "execution_count": 154,
     "metadata": {},
     "output_type": "execute_result"
    }
   ],
   "source": [
    "\"Hi\".lower()\n",
    "\"HI\".upper()"
   ]
  },
  {
   "cell_type": "code",
   "execution_count": 155,
   "id": "8d59a69b",
   "metadata": {},
   "outputs": [
    {
     "data": {
      "text/plain": [
       "[(1, 3), (2, 4)]"
      ]
     },
     "execution_count": 155,
     "metadata": {},
     "output_type": "execute_result"
    }
   ],
   "source": [
    "list(zip([1,2],[3,4]))"
   ]
  },
  {
   "cell_type": "code",
   "execution_count": 156,
   "id": "7d866b39",
   "metadata": {},
   "outputs": [
    {
     "data": {
      "text/plain": [
       "[(1, 3, 5), (2, 4, 6)]"
      ]
     },
     "execution_count": 156,
     "metadata": {},
     "output_type": "execute_result"
    }
   ],
   "source": [
    "list(zip([1,2],[3,4],[5,6,7]))"
   ]
  },
  {
   "cell_type": "code",
   "execution_count": null,
   "id": "017ff0e7",
   "metadata": {},
   "outputs": [],
   "source": [
    "#reduce(): 누적 함수"
   ]
  },
  {
   "cell_type": "code",
   "execution_count": 161,
   "id": "6d69df1c",
   "metadata": {},
   "outputs": [],
   "source": [
    "def myFunc(a,b):\n",
    "    return a+b"
   ]
  },
  {
   "cell_type": "code",
   "execution_count": 163,
   "id": "2524cd8c",
   "metadata": {},
   "outputs": [
    {
     "data": {
      "text/plain": [
       "150"
      ]
     },
     "execution_count": 163,
     "metadata": {},
     "output_type": "execute_result"
    }
   ],
   "source": [
    "from functools import reduce\n",
    "x=[10,20,30,40,50]\n",
    "reduce(myFunc,x) #누적합\n",
    "#파이썬 3. 대 버전에서는 지원이 안됨 -> import해야함\n",
    "#내장함수 : import를 하지 않아도 사용 가능한 함수"
   ]
  },
  {
   "cell_type": "code",
   "execution_count": null,
   "id": "7310133c",
   "metadata": {},
   "outputs": [],
   "source": [
    "#파일압축: run-length기법, 허프만 압축방식, ...\n",
    "\n",
    "#run-length기법:bmp파일\n",
    "\n",
    "#압축\n",
    "aaaaaaabbbbccc#16글자\n",
    "a8b5c3#6글자\n",
    "\n",
    "#해제\n",
    "a8b5c3\n",
    "aaaaaaabbbbccc"
   ]
  },
  {
   "cell_type": "code",
   "execution_count": 167,
   "id": "dced1a6a",
   "metadata": {},
   "outputs": [
    {
     "name": "stdout",
     "output_type": "stream",
     "text": [
      "a8b5c3\n"
     ]
    }
   ],
   "source": [
    "text = 'aaaaaaaabbbbbccc'\n",
    "\n",
    "result = text[0] # 'a'\n",
    "count = 0        #1\n",
    "\n",
    "for i in text:\n",
    "    if i == result[-1]: #b != a\n",
    "        count += 1\n",
    "    else:\n",
    "        result += str(count)+i\n",
    "        count = 1\n",
    "result += str(count)\n",
    "print(result)"
   ]
  },
  {
   "cell_type": "code",
   "execution_count": null,
   "id": "fd34267e",
   "metadata": {},
   "outputs": [],
   "source": []
  },
  {
   "cell_type": "code",
   "execution_count": null,
   "id": "57f116da",
   "metadata": {},
   "outputs": [],
   "source": []
  },
  {
   "cell_type": "code",
   "execution_count": null,
   "id": "77421bf4",
   "metadata": {},
   "outputs": [],
   "source": []
  },
  {
   "cell_type": "code",
   "execution_count": null,
   "id": "12dc4fa6",
   "metadata": {},
   "outputs": [],
   "source": []
  }
 ],
 "metadata": {
  "kernelspec": {
   "display_name": "Python 3",
   "language": "python",
   "name": "python3"
  },
  "language_info": {
   "codemirror_mode": {
    "name": "ipython",
    "version": 3
   },
   "file_extension": ".py",
   "mimetype": "text/x-python",
   "name": "python",
   "nbconvert_exporter": "python",
   "pygments_lexer": "ipython3",
   "version": "3.8.8"
  }
 },
 "nbformat": 4,
 "nbformat_minor": 5
}
