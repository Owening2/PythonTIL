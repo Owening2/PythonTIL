{
 "cells": [
  {
   "cell_type": "code",
   "execution_count": 3,
   "id": "ab613f69",
   "metadata": {},
   "outputs": [
    {
     "name": "stdout",
     "output_type": "stream",
     "text": [
      "홀수\n"
     ]
    }
   ],
   "source": [
    "# 1. 주어진 자연수가 홀수인지 짝수인지 판별해 주는 함수(is_odd)를 작성해 보자.\n",
    "# ex)is_odd(3) -> 홀수\n",
    "\n",
    "def is_odd(op):\n",
    "    if (op%2==1):\n",
    "        print(\"홀수\")\n",
    "    else:\n",
    "        print(\"짝수\")\n",
    "is_odd(7)"
   ]
  },
  {
   "cell_type": "code",
   "execution_count": 5,
   "id": "b6fa1db8",
   "metadata": {},
   "outputs": [
    {
     "name": "stdout",
     "output_type": "stream",
     "text": [
      "Life is too short\n"
     ]
    }
   ],
   "source": [
    "# 2. 다음은 \"test.txt\"라는 파일에 \"Life is too short\" 문자열을 저장한 후,\n",
    "# 다시 그 파일을 읽어서 출력하는 프로그램이다.\n",
    "\n",
    "f=open(\"test.txt\", \"w\")\n",
    "f.write(\"Life is too short\")\n",
    "f.close\n",
    "\n",
    "with open(\"test.txt\", \"r\") as f:\n",
    "    s=f.read()\n",
    "    print(s)\n"
   ]
  },
  {
   "cell_type": "code",
   "execution_count": 17,
   "id": "5bf14bca",
   "metadata": {},
   "outputs": [
    {
     "name": "stdout",
     "output_type": "stream",
     "text": [
      "Life is too short\n",
      "You need Java\n",
      "\n"
     ]
    }
   ],
   "source": [
    "# 3. 다음과 같은 내용을 지닌 파일 test.txt가 있다. \n",
    "\n",
    "line= [\"Life is too short\\n\",\"You need Java\"]\n",
    "with open(\"test.txt\", \"w\") as f:\n",
    "    f.writelines(line)\n",
    "with open(\"test.txt\", \"r\") as f:\n",
    "    line=None\n",
    "    while line !=\"\":\n",
    "        line=f.readline()\n",
    "        print(line.strip(\"\\n\"))\n",
    "#이 파일의 내용 중 \"Java\"라는 문자열을 \"Python\"으로 바꾸어서 저장해 보자.\n",
    "        \n",
    "       \n",
    "   "
   ]
  },
  {
   "cell_type": "code",
   "execution_count": 20,
   "id": "78049324",
   "metadata": {},
   "outputs": [
    {
     "name": "stdout",
     "output_type": "stream",
     "text": [
      "비트코인\n"
     ]
    }
   ],
   "source": [
    "# 4-5. \"비트코인\" 문자열을 화면에 출력하는 print_coin() 함수를 정의하라.\n",
    "# -함수 정의 및 호출\n",
    "def print_coin():\n",
    "    print(\"비트코인\")\n",
    "print_coin()"
   ]
  },
  {
   "cell_type": "code",
   "execution_count": 21,
   "id": "521c8d78",
   "metadata": {},
   "outputs": [
    {
     "name": "stdout",
     "output_type": "stream",
     "text": [
      "비트코인\n",
      "비트코인\n",
      "비트코인\n",
      "비트코인\n",
      "비트코인\n",
      "비트코인\n",
      "비트코인\n",
      "비트코인\n",
      "비트코인\n",
      "비트코인\n",
      "비트코인\n",
      "비트코인\n",
      "비트코인\n",
      "비트코인\n",
      "비트코인\n",
      "비트코인\n",
      "비트코인\n",
      "비트코인\n",
      "비트코인\n",
      "비트코인\n",
      "비트코인\n",
      "비트코인\n",
      "비트코인\n",
      "비트코인\n",
      "비트코인\n",
      "비트코인\n",
      "비트코인\n",
      "비트코인\n",
      "비트코인\n",
      "비트코인\n",
      "비트코인\n",
      "비트코인\n",
      "비트코인\n",
      "비트코인\n",
      "비트코인\n",
      "비트코인\n",
      "비트코인\n",
      "비트코인\n",
      "비트코인\n",
      "비트코인\n",
      "비트코인\n",
      "비트코인\n",
      "비트코인\n",
      "비트코인\n",
      "비트코인\n",
      "비트코인\n",
      "비트코인\n",
      "비트코인\n",
      "비트코인\n",
      "비트코인\n",
      "비트코인\n",
      "비트코인\n",
      "비트코인\n",
      "비트코인\n",
      "비트코인\n",
      "비트코인\n",
      "비트코인\n",
      "비트코인\n",
      "비트코인\n",
      "비트코인\n",
      "비트코인\n",
      "비트코인\n",
      "비트코인\n",
      "비트코인\n",
      "비트코인\n",
      "비트코인\n",
      "비트코인\n",
      "비트코인\n",
      "비트코인\n",
      "비트코인\n",
      "비트코인\n",
      "비트코인\n",
      "비트코인\n",
      "비트코인\n",
      "비트코인\n",
      "비트코인\n",
      "비트코인\n",
      "비트코인\n",
      "비트코인\n",
      "비트코인\n",
      "비트코인\n",
      "비트코인\n",
      "비트코인\n",
      "비트코인\n",
      "비트코인\n",
      "비트코인\n",
      "비트코인\n",
      "비트코인\n",
      "비트코인\n",
      "비트코인\n",
      "비트코인\n",
      "비트코인\n",
      "비트코인\n",
      "비트코인\n",
      "비트코인\n",
      "비트코인\n",
      "비트코인\n",
      "비트코인\n",
      "비트코인\n",
      "비트코인\n"
     ]
    }
   ],
   "source": [
    "# 6. 4에서 정의한 print_coin 함수를 100번호출하라.\n",
    "for i in range(100):\n",
    "    i+=1\n",
    "    print_coin()\n",
    "    "
   ]
  },
  {
   "cell_type": "code",
   "execution_count": 30,
   "id": "a0a943df",
   "metadata": {},
   "outputs": [
    {
     "name": "stdout",
     "output_type": "stream",
     "text": [
      "비트코인\n",
      "비트코인\n",
      "비트코인\n",
      "비트코인\n",
      "비트코인\n",
      "비트코인\n",
      "비트코인\n",
      "비트코인\n",
      "비트코인\n",
      "비트코인\n",
      "비트코인\n",
      "비트코인\n",
      "비트코인\n",
      "비트코인\n",
      "비트코인\n",
      "비트코인\n",
      "비트코인\n",
      "비트코인\n",
      "비트코인\n",
      "비트코인\n",
      "비트코인\n",
      "비트코인\n",
      "비트코인\n",
      "비트코인\n",
      "비트코인\n",
      "비트코인\n",
      "비트코인\n",
      "비트코인\n",
      "비트코인\n",
      "비트코인\n",
      "비트코인\n",
      "비트코인\n",
      "비트코인\n",
      "비트코인\n",
      "비트코인\n",
      "비트코인\n",
      "비트코인\n",
      "비트코인\n",
      "비트코인\n",
      "비트코인\n",
      "비트코인\n",
      "비트코인\n",
      "비트코인\n",
      "비트코인\n",
      "비트코인\n",
      "비트코인\n",
      "비트코인\n",
      "비트코인\n",
      "비트코인\n",
      "비트코인\n",
      "비트코인\n",
      "비트코인\n",
      "비트코인\n",
      "비트코인\n",
      "비트코인\n",
      "비트코인\n",
      "비트코인\n",
      "비트코인\n",
      "비트코인\n",
      "비트코인\n",
      "비트코인\n",
      "비트코인\n",
      "비트코인\n",
      "비트코인\n",
      "비트코인\n",
      "비트코인\n",
      "비트코인\n",
      "비트코인\n",
      "비트코인\n",
      "비트코인\n",
      "비트코인\n",
      "비트코인\n",
      "비트코인\n",
      "비트코인\n",
      "비트코인\n",
      "비트코인\n",
      "비트코인\n",
      "비트코인\n",
      "비트코인\n",
      "비트코인\n",
      "비트코인\n",
      "비트코인\n",
      "비트코인\n",
      "비트코인\n",
      "비트코인\n",
      "비트코인\n",
      "비트코인\n",
      "비트코인\n",
      "비트코인\n",
      "비트코인\n",
      "비트코인\n",
      "비트코인\n",
      "비트코인\n",
      "비트코인\n",
      "비트코인\n",
      "비트코인\n",
      "비트코인\n",
      "비트코인\n",
      "비트코인\n",
      "비트코인\n"
     ]
    }
   ],
   "source": [
    "# 7. \"비트코인\" 문자열을 100번 화면에 출력하는 print_coins() 함수를 정의하라.\n",
    "\n",
    "def print_coin():\n",
    "    for i in range(100):\n",
    "        i+=1 \n",
    "        print(\"비트코인\")\n",
    "print_coin()\n"
   ]
  },
  {
   "cell_type": "code",
   "execution_count": 27,
   "id": "47de4f2d",
   "metadata": {},
   "outputs": [
    {
     "name": "stdout",
     "output_type": "stream",
     "text": [
      "드가자:D\n"
     ]
    }
   ],
   "source": [
    "# 8. 하나의 문자를 입력받아 문자열 끝에 \":D\" 스마일 문자열을 이어 붙여 출력하는 \n",
    "#print_with_smile 함수를 정의하라.\n",
    "\n",
    "def print_with_smile(s) :\n",
    "    print(s+\":D\")\n",
    "print_with_smile(\"드가자\")   "
   ]
  },
  {
   "cell_type": "code",
   "execution_count": 57,
   "id": "589935ee",
   "metadata": {},
   "outputs": [
    {
     "name": "stdout",
     "output_type": "stream",
     "text": [
      "[100, 90]\n"
     ]
    }
   ],
   "source": [
    "# 9.  priceList에 저장된 상위 20% 내에 해당되는 값을 출력하는 print_upper_price 함수를 정의하라.\n",
    "# priceList=[90,100,10,20,30,40,50,60,70,80]에서 상위 20% 내에 해당하는 값들을 출력 => 90, 100 출력\n",
    "\n",
    "\n",
    "priceList=[90,100,10,20,30,40,50,60,70,80]\n",
    "def print_upper_price(price) :\n",
    "    price.sort(reverse=True)\n",
    "    top20=len(price)*0.2\n",
    "    top20=int(top20)\n",
    "    print(price[:top20])\n",
    "print_upper_price(priceList)                \n",
    "\n"
   ]
  },
  {
   "cell_type": "code",
   "execution_count": 112,
   "id": "a97f74f6",
   "metadata": {
    "scrolled": true
   },
   "outputs": [
    {
     "name": "stdout",
     "output_type": "stream",
     "text": [
      "[2, 4, 6, 8]\n"
     ]
    }
   ],
   "source": [
    "# 10. 하나의 리스트를 입력받아 짝수만 화면에 출력하는 print_even 함수를 정의하라.\n",
    "# 입력 -> 리스트에 저장 -> 짝수만 출력\n",
    "\n",
    "even=[]\n",
    "def print_even(a):\n",
    "    for i in a:\n",
    "        if i %2 ==0:\n",
    "            even.append(i)\n",
    "    return even\n",
    "print(print_even([1,2,3,4,5,6,7,8]))"
   ]
  },
  {
   "cell_type": "code",
   "execution_count": 64,
   "id": "b32ff65b",
   "metadata": {},
   "outputs": [
    {
     "name": "stdout",
     "output_type": "stream",
     "text": [
      "name age addr bt "
     ]
    }
   ],
   "source": [
    "# 11. 딕셔너리의 key 값을 화면에 출력하는 print_keys 함수를 정의하라.\n",
    "# {'name':'kim', 'age':30, 'addr':'seoul', 'bt':'AB'}\n",
    "\n",
    "# 출력 결과 => 'name', .., 'bt'\n",
    "\n",
    "def print_keys(dic):\n",
    "    for keys in dic.keys():\n",
    "        print(keys, end=\" \")\n",
    "print_keys({'name':'kim', 'age':30, 'addr':'seoul', 'bt':'AB'})"
   ]
  },
  {
   "cell_type": "code",
   "execution_count": 11,
   "id": "f4b85ebf",
   "metadata": {},
   "outputs": [
    {
     "name": "stdout",
     "output_type": "stream",
     "text": [
      "he\n",
      "ll\n",
      "o\n"
     ]
    }
   ],
   "source": [
    "# 12. 문자열과 한줄에 출력될 글자 수를 입력을 받아 한 줄에 입력된 글자 수만큼 출력하는 \n",
    "# print_mxn(string) 함수를 작성하라.\n",
    "\n",
    "# ex) print_mxn(\"hello\", 2)\n",
    "# he\n",
    "# ll\n",
    "# o\n",
    "\n",
    "def print_mxn(line, num):\n",
    "    pack = int(len(line) / num)\n",
    "    for x in range(pack + 1) :\n",
    "        print(line[x * num: x * num + num])\n",
    "print_mxn(\"hello\", 2)"
   ]
  },
  {
   "cell_type": "code",
   "execution_count": 84,
   "id": "da6f8a3a",
   "metadata": {},
   "outputs": [
    {
     "data": {
      "text/plain": [
       "100"
      ]
     },
     "execution_count": 84,
     "metadata": {},
     "output_type": "execute_result"
    }
   ],
   "source": [
    "# 13. 연봉을 입력받아 월급을 계산하는 calc_monthly_salary(annual_salary) 함수를 정의하라. \n",
    "# 회사는 연봉을 12개월로 나누어 분할 지급하며, 이 때 1원 미만은 버림한다.\n",
    "\n",
    "def calc_monthly_salary(annual_salary) :\n",
    "    monthly_salary = annual_salary / 12\n",
    "    monthly_salary = int(monthly_salary - monthly_salary % 10)\n",
    "    return monthly_salary\n",
    "calc_monthly_salary(1245)\n"
   ]
  },
  {
   "cell_type": "code",
   "execution_count": 6,
   "id": "3c39bf9b",
   "metadata": {},
   "outputs": [
    {
     "data": {
      "text/plain": [
       "'www.naver.com'"
      ]
     },
     "execution_count": 6,
     "metadata": {},
     "output_type": "execute_result"
    }
   ],
   "source": [
    "# 14. 문자열 하나를 입력받아 인터넷 주소를 반환하는 make_url 함수를 정의하라.\n",
    "# make_url(\"naver\") -> 출력 결과 => www.naver.com\n",
    "# 참고) www.(입력받은 문자열).com으로 끝나는 인터넷 주소로 가정하여 해결\n",
    "\n",
    "\n",
    "def make_url(s):\n",
    "    return \"www.\"+s+\".com\"\n",
    "make_url(\"naver\")"
   ]
  },
  {
   "cell_type": "code",
   "execution_count": 8,
   "id": "ffbf0bd5",
   "metadata": {},
   "outputs": [
    {
     "data": {
      "text/plain": [
       "['a', 'b', 'c', 'd', 'e']"
      ]
     },
     "execution_count": 8,
     "metadata": {},
     "output_type": "execute_result"
    }
   ],
   "source": [
    "# 15. 문자열을 입력받아 각 문자들로 구성된 리스트로 반환하는 make_list 함수를 정의하라.\n",
    "# make_list (\"abcde\") 호출 -> 실행 결과 => [ 'a','b',...,'e]\n",
    "\n",
    "def make_list(s) :\n",
    "    return list(s)\n",
    "make_list(\"abcde\")"
   ]
  },
  {
   "cell_type": "code",
   "execution_count": null,
   "id": "b97606b9",
   "metadata": {},
   "outputs": [],
   "source": [
    "# 16. 게임 기업 입사문제(시간 되면)\n",
    "\n",
    "# 어떤 자연수 n이 있을 때, d(n)을 n의 각 자릿수 숫자들과 n 자신을 더한 숫자라고 정의하자.\n",
    "# 예를 들어\n",
    "# d(91) = 9 + 1 + 91 = 101\n",
    "# d(100)=1+0+0+100=101\n",
    "# 이 때, n을 d(n)의 제네레이터(generator)라고 한다. 위의 예에서 91은 101의 제네레이터이다.\n",
    "\n",
    "# 어떤 숫자들은 하나 이상의 제네레이터를 가지고 있는데, \n",
    "# 101의 제네레이터는 91 뿐 아니라 100도 있다. 그런데 반대로, 제네레이터가 없는 숫자들도 있으며, \n",
    "# 이런 숫자를 인도의 수학자 Kaprekar가 셀프 넘버(self-number)라 이름 붙였다. \n",
    "# 예를 들어 1,3,5,7,9,20,31 은 셀프 넘버 들이다.\n",
    "\n",
    "#문제 :  1 이상이고 5000 보다 작은 모든 셀프 넘버들의 합을 구하라."
   ]
  },
  {
   "cell_type": "code",
   "execution_count": 21,
   "id": "5f31f03d",
   "metadata": {},
   "outputs": [
    {
     "name": "stdout",
     "output_type": "stream",
     "text": [
      "1227365\n"
     ]
    }
   ],
   "source": [
    "def generator(n):\n",
    "    s = n\n",
    "    while n > 0:\n",
    "        s += n % 10\n",
    "        n //= 10\n",
    "    return s\n",
    "print(sum([i for i in range(1, 5000) if i not in [generator(i) for i in range(1, 5000)]]))"
   ]
  },
  {
   "cell_type": "code",
   "execution_count": null,
   "id": "614aec32",
   "metadata": {},
   "outputs": [],
   "source": []
  }
 ],
 "metadata": {
  "kernelspec": {
   "display_name": "Python 3",
   "language": "python",
   "name": "python3"
  },
  "language_info": {
   "codemirror_mode": {
    "name": "ipython",
    "version": 3
   },
   "file_extension": ".py",
   "mimetype": "text/x-python",
   "name": "python",
   "nbconvert_exporter": "python",
   "pygments_lexer": "ipython3",
   "version": "3.8.8"
  }
 },
 "nbformat": 4,
 "nbformat_minor": 5
}
