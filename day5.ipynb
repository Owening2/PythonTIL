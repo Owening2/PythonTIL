{
 "cells": [
  {
   "cell_type": "code",
   "execution_count": 3,
   "id": "53f5fc7d",
   "metadata": {},
   "outputs": [
    {
     "name": "stdout",
     "output_type": "stream",
     "text": [
      "3과 같다\n"
     ]
    }
   ],
   "source": [
    "# explicit(명시적) language : 파이썬, 자바, ......\n",
    "# 명시적 언어의 한계 : 일부 작업에서는 모든 조건을 다 나열할 수 없을 정도로 조건이 많음\n",
    "    \n",
    "# ->\n",
    "# implicit(묵시적) language 등장 : 머신러닝(인공지능) 언어\n",
    "# 모든 조건을 나열하는 것이 아닌, 확률(통계)적 접근하여 문제 해결\n",
    "    \n",
    "# ex)\n",
    "# 이세돌 <-> 알파고\n",
    "# if 이세돌 1번 위치에 돌을 놓으면:\n",
    "#     알파고에게 9번위치\n",
    "#     if 이세돌 12번 위치에 돌을 놓으면:\n",
    "#         알파고에게..\n",
    "#     elif\n",
    "    \n",
    "    \n",
    "elif 2번위치\"\n",
    "...\n",
    "elif 19*19번 위치:\n",
    "\n",
    "#*자동차가 운행중 정지를 해야하는 상황\n",
    "\n",
    "# if 신호등==빨강:\n",
    "#     정지\n",
    "# if 카메라==물체감지 and 카메라==동물감지:\n",
    "#     정지\n",
    "    \n",
    "#not, and, or\n",
    "\n",
    "\n",
    "# if 코로나단계==3:\n",
    "#     집에서 식사 #의사(pseudo)코드\n",
    "# if 코로나단계==2:\n",
    "#     편의점에서 식사\n",
    "# if 코로나단계==1:\n",
    "#     식당에서 식사\n",
    "    \n",
    "# if 조건식:\n",
    "#     처리구문1\n",
    "#     처리구문2\n",
    "#     처리구문3\n",
    "#     ...\n",
    "#     처리구문n\n",
    "# x=3    \n",
    "# if x==3:\n",
    "#     print(\"3과 같다\")"
   ]
  },
  {
   "cell_type": "code",
   "execution_count": 4,
   "id": "363ec93a",
   "metadata": {},
   "outputs": [],
   "source": [
    "x=3\n",
    "if x==3:\n",
    "    pass  #나중에 코드 구현\n",
    "else:\n",
    "    print(\"다름\")\n",
    "#파이썬에서만 존재하는 문법, 조건 만족시 아무 작업도 수행하지 않고 다음 줄로 이동\n",
    "#조건을 만족했을때 처리해야할 구문이 아직 정해지지 않은 상황"
   ]
  },
  {
   "cell_type": "code",
   "execution_count": 5,
   "id": "3790cfd4",
   "metadata": {},
   "outputs": [],
   "source": [
    "# 주머니에 3000원 이상 있으면 택시를 이용하겠다.\n",
    "\n",
    "# if money>=3000: #if True:\n",
    "#     택시이용\n",
    "# else:\n",
    "#     택시 \n",
    "\n",
    "#else는 if없이 독립적으로 사용될 수 없다\n"
   ]
  },
  {
   "cell_type": "code",
   "execution_count": 14,
   "id": "f14a5084",
   "metadata": {},
   "outputs": [
    {
     "name": "stdout",
     "output_type": "stream",
     "text": [
      "도보이용\n"
     ]
    }
   ],
   "source": [
    "주머니의돈=2000\n",
    "if 주머니의돈>=3000: #if True:\n",
    "    print(\"택시이용\")\n",
    "    print(\"지하철이용\")\n",
    "else:\n",
    "    print(\"도보이용\")"
   ]
  },
  {
   "cell_type": "code",
   "execution_count": 15,
   "id": "77c13e40",
   "metadata": {},
   "outputs": [],
   "source": [
    "돈=2000\n",
    "카드=True"
   ]
  },
  {
   "cell_type": "code",
   "execution_count": 18,
   "id": "9b8b0a54",
   "metadata": {},
   "outputs": [
    {
     "name": "stdout",
     "output_type": "stream",
     "text": [
      "택시\n"
     ]
    }
   ],
   "source": [
    "if 돈>=3000 or 카드:\n",
    "    print(\"택시\")\n",
    "else:\n",
    "    print(\"도보\")"
   ]
  },
  {
   "cell_type": "code",
   "execution_count": 19,
   "id": "3433dc58",
   "metadata": {},
   "outputs": [
    {
     "ename": "SyntaxError",
     "evalue": "invalid syntax (<ipython-input-19-d193db74f890>, line 2)",
     "output_type": "error",
     "traceback": [
      "\u001b[1;36m  File \u001b[1;32m\"<ipython-input-19-d193db74f890>\"\u001b[1;36m, line \u001b[1;32m2\u001b[0m\n\u001b[1;33m    if 신호등 1번째칸==화살표:\u001b[0m\n\u001b[1;37m           ^\u001b[0m\n\u001b[1;31mSyntaxError\u001b[0m\u001b[1;31m:\u001b[0m invalid syntax\n"
     ]
    }
   ],
   "source": [
    "# if 신호등2번째칸==빨강:\n",
    "#     if 신호등 1번째칸==화살표:\n",
    "#         좌회전\n",
    "#     else:\n",
    "#         정지"
   ]
  },
  {
   "cell_type": "code",
   "execution_count": 21,
   "id": "d1b509e8",
   "metadata": {},
   "outputs": [
    {
     "ename": "IndentationError",
     "evalue": "unindent does not match any outer indentation level (<tokenize>, line 4)",
     "output_type": "error",
     "traceback": [
      "\u001b[1;36m  File \u001b[1;32m\"<tokenize>\"\u001b[1;36m, line \u001b[1;32m4\u001b[0m\n\u001b[1;33m    if x==5:\u001b[0m\n\u001b[1;37m    ^\u001b[0m\n\u001b[1;31mIndentationError\u001b[0m\u001b[1;31m:\u001b[0m unindent does not match any outer indentation level\n"
     ]
    }
   ],
   "source": [
    "x=5\n",
    "if x>=0\n",
    "     print(\"0 이상\")\n",
    "    if x==5:\n",
    "        print(\"5\")\n",
    "    if x==10:\n",
    "        print(\"10\")"
   ]
  },
  {
   "cell_type": "code",
   "execution_count": 23,
   "id": "6e5c8c50",
   "metadata": {},
   "outputs": [
    {
     "name": "stdout",
     "output_type": "stream",
     "text": [
      "여성\n"
     ]
    }
   ],
   "source": [
    "#바람직하지 않은 코드\n",
    "\n",
    "성별='여성'\n",
    "if 성별=='여성':\n",
    "    print(\"여성\")\n",
    "if 성별=='남성':\n",
    "    print(\"남성\")"
   ]
  },
  {
   "cell_type": "code",
   "execution_count": 24,
   "id": "add340d5",
   "metadata": {},
   "outputs": [
    {
     "name": "stdout",
     "output_type": "stream",
     "text": [
      "여성\n"
     ]
    }
   ],
   "source": [
    "#바람직한 코드\n",
    "\n",
    "성별='여성'\n",
    "if 성별=='여성':\n",
    "    print(\"여성\")\n",
    "else :\n",
    "    print(\"남성\")"
   ]
  },
  {
   "cell_type": "code",
   "execution_count": 26,
   "id": "bd779970",
   "metadata": {},
   "outputs": [
    {
     "name": "stdout",
     "output_type": "stream",
     "text": [
      "A\n"
     ]
    }
   ],
   "source": [
    "점수=95\n",
    "if 점수>=90:\n",
    "    print(\"A\")\n",
    "elif 점수>=80:\n",
    "    print(\"B\")\n",
    "elif 점수>=70:\n",
    "    print(\"C\")\n",
    "elif 점수>=60:\n",
    "    print(\"D\")\n",
    "elif 점수<60:\n",
    "    print(\"F\")"
   ]
  },
  {
   "cell_type": "code",
   "execution_count": 27,
   "id": "3b65e4c5",
   "metadata": {},
   "outputs": [
    {
     "name": "stdout",
     "output_type": "stream",
     "text": [
      "점수 입력:99\n",
      "합격\n"
     ]
    }
   ],
   "source": [
    "score=int(input(\"점수 입력:\"))\n",
    "if score>=80:\n",
    "    print(\"합격\")\n",
    "else:\n",
    "    print(\"불합격\")"
   ]
  },
  {
   "cell_type": "code",
   "execution_count": null,
   "id": "00789b67",
   "metadata": {},
   "outputs": [],
   "source": [
    "# 참수행문장(변수=값) if  조건문 else 거짓수행문장(값)"
   ]
  },
  {
   "cell_type": "code",
   "execution_count": 29,
   "id": "d61c2e52",
   "metadata": {},
   "outputs": [],
   "source": [
    "x=1\n",
    "# if x==0:\n",
    "#     y=x\n",
    "# else:\n",
    "#     y=0\n",
    "\n",
    "# y=x if x==0 else 0 (:(콜론)없이 사용)\n",
    "# x와 0이 같다면 x값을 y에게, 같지 않다면 0을 y에게 대입해라"
   ]
  },
  {
   "cell_type": "code",
   "execution_count": 30,
   "id": "3c761cfc",
   "metadata": {},
   "outputs": [
    {
     "name": "stdout",
     "output_type": "stream",
     "text": [
      "0\n"
     ]
    }
   ],
   "source": [
    "print(y)"
   ]
  },
  {
   "cell_type": "code",
   "execution_count": 32,
   "id": "f4103d2c",
   "metadata": {},
   "outputs": [],
   "source": [
    "if False: # True:\n",
    "    print(\"참\")"
   ]
  },
  {
   "cell_type": "code",
   "execution_count": 33,
   "id": "78fff737",
   "metadata": {},
   "outputs": [
    {
     "name": "stdout",
     "output_type": "stream",
     "text": [
      "출력2\n"
     ]
    }
   ],
   "source": [
    "if None: #None은 거짓\n",
    "    print(\"출력1\")\n",
    "else:\n",
    "    print(\"출력2\")"
   ]
  },
  {
   "cell_type": "code",
   "execution_count": 34,
   "id": "08a86479",
   "metadata": {},
   "outputs": [
    {
     "name": "stdout",
     "output_type": "stream",
     "text": [
      "출력\n"
     ]
    }
   ],
   "source": [
    "if 0.0000001: #0은 거짓\n",
    "    print(\"출력\")"
   ]
  },
  {
   "cell_type": "code",
   "execution_count": 35,
   "id": "40a8da34",
   "metadata": {},
   "outputs": [],
   "source": [
    "# if 0:\n",
    "# else : "
   ]
  },
  {
   "cell_type": "code",
   "execution_count": 36,
   "id": "0debeda2",
   "metadata": {},
   "outputs": [
    {
     "name": "stdout",
     "output_type": "stream",
     "text": [
      "하이\n"
     ]
    }
   ],
   "source": [
    "if \"hi\": #참\n",
    "    print(\"하이\")"
   ]
  },
  {
   "cell_type": "code",
   "execution_count": 37,
   "id": "6cf2e247",
   "metadata": {},
   "outputs": [
    {
     "name": "stdout",
     "output_type": "stream",
     "text": [
      "하이\n"
     ]
    }
   ],
   "source": [
    "if \" \": #참\n",
    "    print(\"하이\")"
   ]
  },
  {
   "cell_type": "code",
   "execution_count": 38,
   "id": "7f578614",
   "metadata": {},
   "outputs": [],
   "source": [
    "if \"\": #거짓\n",
    "    print(\"하이\")"
   ]
  },
  {
   "cell_type": "code",
   "execution_count": 39,
   "id": "6b4e76ee",
   "metadata": {},
   "outputs": [
    {
     "name": "stdout",
     "output_type": "stream",
     "text": [
      "True\n"
     ]
    }
   ],
   "source": [
    "print(not 0)"
   ]
  },
  {
   "cell_type": "code",
   "execution_count": 40,
   "id": "0ab6acdd",
   "metadata": {},
   "outputs": [
    {
     "name": "stdout",
     "output_type": "stream",
     "text": [
      "참\n"
     ]
    }
   ],
   "source": [
    "if not 0:\n",
    "    print(\"참\")"
   ]
  },
  {
   "cell_type": "code",
   "execution_count": 41,
   "id": "597f6ae2",
   "metadata": {},
   "outputs": [
    {
     "name": "stdout",
     "output_type": "stream",
     "text": [
      "참\n"
     ]
    }
   ],
   "source": [
    "if not None:\n",
    "    print(\"참\")"
   ]
  },
  {
   "cell_type": "code",
   "execution_count": 42,
   "id": "d71c4c3a",
   "metadata": {},
   "outputs": [
    {
     "name": "stdout",
     "output_type": "stream",
     "text": [
      "참\n"
     ]
    }
   ],
   "source": [
    "if not '':\n",
    "    print(\"참\")"
   ]
  },
  {
   "cell_type": "code",
   "execution_count": 44,
   "id": "1aa9797d",
   "metadata": {},
   "outputs": [],
   "source": [
    "#x=[] #비어 있는 리스트(튜플, 셋, 딕셔너리)는 거짓\n",
    "x=[1]"
   ]
  },
  {
   "cell_type": "code",
   "execution_count": 45,
   "id": "d3a2ad95",
   "metadata": {},
   "outputs": [
    {
     "name": "stdout",
     "output_type": "stream",
     "text": [
      "참\n"
     ]
    }
   ],
   "source": [
    "if x: #[]: 거짓\n",
    "    print(\"참\")"
   ]
  },
  {
   "cell_type": "code",
   "execution_count": 47,
   "id": "8f27c4a3",
   "metadata": {},
   "outputs": [
    {
     "name": "stdout",
     "output_type": "stream",
     "text": [
      "비었다\n"
     ]
    }
   ],
   "source": [
    "x=[]\n",
    "if not len(x):\n",
    "    print(\"비었다\")"
   ]
  },
  {
   "cell_type": "code",
   "execution_count": 48,
   "id": "28499765",
   "metadata": {},
   "outputs": [
    {
     "name": "stdout",
     "output_type": "stream",
     "text": [
      "비었다\n"
     ]
    }
   ],
   "source": [
    "if not x:\n",
    "    print(\"비었다\")"
   ]
  },
  {
   "cell_type": "code",
   "execution_count": 49,
   "id": "b71c9630",
   "metadata": {},
   "outputs": [],
   "source": [
    "x=5"
   ]
  },
  {
   "cell_type": "code",
   "execution_count": 51,
   "id": "2233e3ef",
   "metadata": {},
   "outputs": [
    {
     "name": "stdout",
     "output_type": "stream",
     "text": [
      "작은수\n"
     ]
    }
   ],
   "source": [
    "#x가 0이상 10 미만이면 작은수를 출력\n",
    "\n",
    "if x>=0:\n",
    "    if x<10:\n",
    "        print(\"작은수\")\n",
    "        \n",
    "if x>=0 and x<10:\n",
    "    print(\"작은수\")"
   ]
  },
  {
   "cell_type": "code",
   "execution_count": 52,
   "id": "a42608fb",
   "metadata": {},
   "outputs": [
    {
     "name": "stdout",
     "output_type": "stream",
     "text": [
      "작은수\n"
     ]
    }
   ],
   "source": [
    "if 0<=x and x<10: #r개발<->python개발\n",
    "    print(\"작은수\")\n",
    "#if 0<=x<10 와 같은 코드는 r에서 에러 발생"
   ]
  },
  {
   "cell_type": "code",
   "execution_count": 53,
   "id": "9634ec5a",
   "metadata": {},
   "outputs": [],
   "source": [
    "# if 조건:\n",
    "#     수행문장\n",
    "# elif 조건:\n",
    "#     수행문장\n",
    "# ...\n",
    "# elif 조건:\n",
    "#     수행문장\n",
    "# else:\n",
    "#     수행문장\n",
    "\n",
    "#에러발생\n",
    "#if\n",
    "#else\n",
    "#elif"
   ]
  },
  {
   "cell_type": "code",
   "execution_count": 54,
   "id": "268aee81",
   "metadata": {},
   "outputs": [],
   "source": [
    "# a in 리스트(튜플, 문자열)\n",
    "# not in"
   ]
  },
  {
   "cell_type": "code",
   "execution_count": 56,
   "id": "3978f075",
   "metadata": {},
   "outputs": [
    {
     "name": "stdout",
     "output_type": "stream",
     "text": [
      "들어있습니다\n"
     ]
    }
   ],
   "source": [
    "if 1 in [1,2,3]:\n",
    "    print(\"들어있습니다\")"
   ]
  },
  {
   "cell_type": "code",
   "execution_count": 58,
   "id": "6841c2ab",
   "metadata": {},
   "outputs": [
    {
     "name": "stdout",
     "output_type": "stream",
     "text": [
      "들어있습니다.\n"
     ]
    }
   ],
   "source": [
    "if \"1\" in (\"1\",\"2\",\"3\"):\n",
    "    print(\"들어있습니다.\")"
   ]
  },
  {
   "cell_type": "code",
   "execution_count": 59,
   "id": "896c0988",
   "metadata": {},
   "outputs": [
    {
     "name": "stdout",
     "output_type": "stream",
     "text": [
      "들어있습니다\n"
     ]
    }
   ],
   "source": [
    "if 1 in (1,2,3):\n",
    "    print(\"들어있습니다\")"
   ]
  },
  {
   "cell_type": "code",
   "execution_count": 60,
   "id": "6365782a",
   "metadata": {},
   "outputs": [
    {
     "data": {
      "text/plain": [
       "{1: 'a', 2: 'b'}"
      ]
     },
     "execution_count": 60,
     "metadata": {},
     "output_type": "execute_result"
    }
   ],
   "source": [
    "x={1:'a',2:'b'}\n",
    "x"
   ]
  },
  {
   "cell_type": "code",
   "execution_count": 64,
   "id": "1b614392",
   "metadata": {},
   "outputs": [
    {
     "name": "stdout",
     "output_type": "stream",
     "text": [
      "존재합니다\n"
     ]
    }
   ],
   "source": [
    "if 2 in x:\n",
    "    print(\"존재합니다\")"
   ]
  },
  {
   "cell_type": "code",
   "execution_count": 65,
   "id": "9f31aa75",
   "metadata": {},
   "outputs": [],
   "source": [
    "s=70"
   ]
  },
  {
   "cell_type": "code",
   "execution_count": 66,
   "id": "fcc09ca0",
   "metadata": {},
   "outputs": [],
   "source": [
    "# s에 저장된 값이 60이상이면 합격 아니면 불합격을 출력하시오"
   ]
  },
  {
   "cell_type": "code",
   "execution_count": 67,
   "id": "6fe28c3d",
   "metadata": {},
   "outputs": [
    {
     "name": "stdout",
     "output_type": "stream",
     "text": [
      "합격\n"
     ]
    }
   ],
   "source": [
    "if s>=60 :\n",
    "    print(\"합격\")\n",
    "else :\n",
    "    (\"불합격\")"
   ]
  },
  {
   "cell_type": "code",
   "execution_count": null,
   "id": "c49a8178",
   "metadata": {},
   "outputs": [],
   "source": [
    "#참수행문장(변수=값) if s>=60 else 거짓수행문장(값)"
   ]
  },
  {
   "cell_type": "code",
   "execution_count": 70,
   "id": "400c8203",
   "metadata": {},
   "outputs": [],
   "source": [
    "s=50"
   ]
  },
  {
   "cell_type": "code",
   "execution_count": 71,
   "id": "222aead2",
   "metadata": {},
   "outputs": [],
   "source": [
    "# print(\"합격\") if s>=60 else print(\"불합격\")\n",
    "msg=\"합격\" if s>=60 else \"불합격\""
   ]
  },
  {
   "cell_type": "code",
   "execution_count": 72,
   "id": "c0f4947d",
   "metadata": {},
   "outputs": [
    {
     "name": "stdout",
     "output_type": "stream",
     "text": [
      "불합격\n"
     ]
    }
   ],
   "source": [
    "print(msg)"
   ]
  },
  {
   "cell_type": "code",
   "execution_count": 73,
   "id": "7a2c9e97",
   "metadata": {},
   "outputs": [],
   "source": [
    "ani=\"dog\"\n",
    "cat=\"cat\"\n",
    "dog=\"dog\""
   ]
  },
  {
   "cell_type": "code",
   "execution_count": 74,
   "id": "54dfa36e",
   "metadata": {},
   "outputs": [
    {
     "name": "stdout",
     "output_type": "stream",
     "text": [
      "같다\n"
     ]
    }
   ],
   "source": [
    "if ani==dog:\n",
    "    print(\"같다\")"
   ]
  },
  {
   "cell_type": "code",
   "execution_count": 75,
   "id": "e89c06c7",
   "metadata": {},
   "outputs": [
    {
     "name": "stdout",
     "output_type": "stream",
     "text": [
      "dog\n"
     ]
    }
   ],
   "source": [
    "#A if 조건 else B\n",
    "res=dog if ani==dog else cat\n",
    "print(res)"
   ]
  },
  {
   "cell_type": "code",
   "execution_count": 76,
   "id": "611984eb",
   "metadata": {},
   "outputs": [],
   "source": [
    "#if elif else 구조\n",
    "#A if 조건 else B if 조건 else C"
   ]
  },
  {
   "cell_type": "code",
   "execution_count": 80,
   "id": "cf325d1e",
   "metadata": {},
   "outputs": [],
   "source": [
    "res=dog if ani==dog else cat if ani==cat else \"cow\"\n",
    "# 만약에 ani==dog면 dog이 저장, 그렇지않고 \n",
    "# 만약에 ani==cat면 cat이 저장, 그렇지 않으면 cow가 저장\n",
    "\n",
    "# if ani==dog:\n",
    "#     res=dog\n",
    "# elif ani==cat:\n",
    "#     res=cat\n",
    "# else\n",
    "#     res=\"cow\""
   ]
  },
  {
   "cell_type": "code",
   "execution_count": 78,
   "id": "7e2def4f",
   "metadata": {},
   "outputs": [
    {
     "name": "stdout",
     "output_type": "stream",
     "text": [
      "dog\n"
     ]
    }
   ],
   "source": [
    "print(res)"
   ]
  },
  {
   "cell_type": "code",
   "execution_count": 81,
   "id": "add1afa8",
   "metadata": {},
   "outputs": [],
   "source": [
    "# 반복문(for)\n",
    "# 재귀호출(DFS) -> 재귀적 문제 해결"
   ]
  },
  {
   "cell_type": "code",
   "execution_count": 83,
   "id": "c5e7ae9a",
   "metadata": {},
   "outputs": [],
   "source": [
    "# 50명 고객\n",
    "# 50! 경로(경우)의 수를 모두 비교(pruning) -> 가장 짧은 경로 1개 추출\n",
    "# -> 솔루션(알고리즘) 없음 (NP 문제)\n",
    "# # => AI로 이용한 확률적 접근 -> 근사해"
   ]
  },
  {
   "cell_type": "code",
   "execution_count": 84,
   "id": "09bc624e",
   "metadata": {},
   "outputs": [],
   "source": [
    "# for 변수 in range(횟수):\n",
    "#     반복문장\n"
   ]
  },
  {
   "cell_type": "code",
   "execution_count": 85,
   "id": "bb5c9dfc",
   "metadata": {},
   "outputs": [],
   "source": [
    "sum=0"
   ]
  },
  {
   "cell_type": "code",
   "execution_count": 91,
   "id": "673bddec",
   "metadata": {},
   "outputs": [
    {
     "name": "stdout",
     "output_type": "stream",
     "text": [
      "1\n",
      "3\n"
     ]
    }
   ],
   "source": [
    "# for i in range(10): #range(10) 범위: 0~9까지의 값이 차례대로 i저장\n",
    "#     print(i)\n",
    "\n",
    "# i=1\n",
    "# for _ in range(10):\n",
    "#     print(i)\n",
    "\n",
    "\n",
    "x,_,z=1,2,3\n",
    "print(x)\n",
    "print(z)\n"
   ]
  },
  {
   "cell_type": "code",
   "execution_count": 95,
   "id": "72629ab9",
   "metadata": {},
   "outputs": [
    {
     "name": "stdout",
     "output_type": "stream",
     "text": [
      "55\n"
     ]
    }
   ],
   "source": [
    "#1~10\n",
    "sum=0\n",
    "for i in range(1,11): #0~9\n",
    "    sum+=i\n",
    "#sum+=10\n",
    "print(sum)"
   ]
  },
  {
   "cell_type": "code",
   "execution_count": 102,
   "id": "f77017da",
   "metadata": {},
   "outputs": [
    {
     "name": "stdout",
     "output_type": "stream",
     "text": [
      "9\n",
      "8\n",
      "7\n",
      "6\n",
      "5\n",
      "4\n",
      "3\n",
      "2\n",
      "1\n",
      "0\n"
     ]
    }
   ],
   "source": [
    "# for i in range(10,0,-1):\n",
    "#     print(i)\n",
    "\n",
    "for i in reversed(range(10)):\n",
    "    print(i)"
   ]
  },
  {
   "cell_type": "code",
   "execution_count": 107,
   "id": "43235d04",
   "metadata": {
    "scrolled": true
   },
   "outputs": [
    {
     "name": "stdout",
     "output_type": "stream",
     "text": [
      "반복 횟수 입력:3\n",
      "3\n",
      "3\n",
      "3\n"
     ]
    }
   ],
   "source": [
    "c=int(input(\"반복 횟수 입력:\"))\n",
    "for i in range(c):\n",
    "    print(c)"
   ]
  },
  {
   "cell_type": "code",
   "execution_count": 105,
   "id": "bc4299a5",
   "metadata": {},
   "outputs": [
    {
     "name": "stdout",
     "output_type": "stream",
     "text": [
      "10\n",
      "13\n",
      "16\n",
      "19\n"
     ]
    }
   ],
   "source": [
    "for i in range(10,20,3):\n",
    "    print(i)"
   ]
  },
  {
   "cell_type": "code",
   "execution_count": 109,
   "id": "14a99b51",
   "metadata": {},
   "outputs": [
    {
     "name": "stdout",
     "output_type": "stream",
     "text": [
      "01234"
     ]
    }
   ],
   "source": [
    "for i in range(5):\n",
    "    print(i, end=\"\") #end=\"\" end옵션 :붙여서 출력시 연결문자"
   ]
  },
  {
   "cell_type": "code",
   "execution_count": 110,
   "id": "b54aab04",
   "metadata": {},
   "outputs": [],
   "source": [
    "#for문에 sequence객체를 작성하여 반복처리   ##순서가 없는 객체는 sequence객체가 아니다(셋, 딕셔너리)\n",
    "#sequence객체? 리스트, 튜플, 문자열 등\n",
    "#set, dict는 시퀀스객체로 볼 수 없지만, 최근 버전에서는 for문으로 처리가 되도록 업데이트 됨(사용하지 않)\n",
    "#[1,2,3]"
   ]
  },
  {
   "cell_type": "code",
   "execution_count": 111,
   "id": "b1d6e62c",
   "metadata": {},
   "outputs": [
    {
     "name": "stdout",
     "output_type": "stream",
     "text": [
      "10\n",
      "20\n",
      "30\n"
     ]
    }
   ],
   "source": [
    "for i in [10,20,30]: #for 변수 in 시퀀스객체:\n",
    "    print(i)"
   ]
  },
  {
   "cell_type": "code",
   "execution_count": 112,
   "id": "44db8e55",
   "metadata": {},
   "outputs": [
    {
     "name": "stdout",
     "output_type": "stream",
     "text": [
      "1\n",
      "2\n",
      "3\n"
     ]
    }
   ],
   "source": [
    "# for i in {10,20,30}: #for 변수 in 시퀀스객체:\n",
    "#     print(i)\n",
    "for i in {1:10,2:20,3:30}: #for 변수 in 시퀀스객체:\n",
    "    print(i) #키"
   ]
  },
  {
   "cell_type": "code",
   "execution_count": 113,
   "id": "5d4d676f",
   "metadata": {},
   "outputs": [
    {
     "name": "stdout",
     "output_type": "stream",
     "text": [
      "a\n",
      "b\n",
      "c\n"
     ]
    }
   ],
   "source": [
    "for f in ('a','b','c'):\n",
    "    print(f)"
   ]
  },
  {
   "cell_type": "code",
   "execution_count": 114,
   "id": "d9a60488",
   "metadata": {},
   "outputs": [
    {
     "name": "stdout",
     "output_type": "stream",
     "text": [
      "h\n",
      "e\n",
      "l\n",
      "l\n",
      "o\n"
     ]
    }
   ],
   "source": [
    "for s in \"hello\":\n",
    "    print(s)"
   ]
  },
  {
   "cell_type": "code",
   "execution_count": 115,
   "id": "76aacf70",
   "metadata": {},
   "outputs": [
    {
     "name": "stdout",
     "output_type": "stream",
     "text": [
      "1\n",
      "2\n",
      "3\n",
      "4\n",
      "5\n",
      "6\n",
      "7\n",
      "8\n",
      "9\n",
      "10\n",
      "11\n",
      "12\n",
      "13\n",
      "14\n",
      "15\n",
      "16\n",
      "17\n",
      "18\n",
      "19\n",
      "20\n",
      "21\n",
      "22\n",
      "23\n",
      "24\n",
      "25\n",
      "26\n",
      "27\n",
      "28\n",
      "29\n",
      "30\n",
      "31\n",
      "32\n",
      "33\n",
      "34\n",
      "35\n",
      "36\n",
      "37\n",
      "38\n",
      "39\n",
      "40\n",
      "41\n",
      "42\n",
      "43\n",
      "44\n",
      "45\n",
      "46\n",
      "47\n",
      "48\n",
      "49\n",
      "50\n",
      "51\n",
      "52\n",
      "53\n",
      "54\n",
      "55\n",
      "56\n",
      "57\n",
      "58\n",
      "59\n",
      "60\n",
      "61\n",
      "62\n",
      "63\n",
      "64\n",
      "65\n",
      "66\n",
      "67\n",
      "68\n",
      "69\n",
      "70\n",
      "71\n",
      "72\n",
      "73\n",
      "74\n",
      "75\n",
      "76\n",
      "77\n",
      "78\n",
      "79\n",
      "80\n",
      "81\n",
      "82\n",
      "83\n",
      "84\n",
      "85\n",
      "86\n",
      "87\n",
      "88\n",
      "89\n",
      "90\n",
      "91\n",
      "92\n",
      "93\n",
      "94\n",
      "95\n",
      "96\n",
      "97\n",
      "98\n",
      "99\n",
      "100\n",
      "101\n"
     ]
    }
   ],
   "source": [
    "i=0 #초기값\n",
    "while i<100:  #i 변수값이 101보다 작다는 조건을 만족하는 동안 반복\n",
    "    i+=1\n",
    "    print(i)\n"
   ]
  },
  {
   "cell_type": "code",
   "execution_count": 116,
   "id": "bc36b64d",
   "metadata": {},
   "outputs": [],
   "source": [
    "#파이썬 모듈(module, 관련함수, 변수, 클래스의 집합, 일반적으로 파이썬 파일)\n",
    "#패키지(라이브러리) : 관련 모듈의 모임, 폴더, 패키지도 포함\n",
    "\n",
    "#라이브러리:파이썬 표준 라이브러리(모듈, 패키지 모두 포함)\n",
    "#파이썬 표준 라이브러리 설치"
   ]
  },
  {
   "cell_type": "code",
   "execution_count": 117,
   "id": "9f011697",
   "metadata": {},
   "outputs": [],
   "source": [
    "#import 파이썬 모듈 불러오기\n",
    "import math\n",
    "#impot 모듈1, 모듈2, 모듈3,...."
   ]
  },
  {
   "cell_type": "code",
   "execution_count": 118,
   "id": "31b09cfd",
   "metadata": {},
   "outputs": [],
   "source": [
    "# math.함수()\n",
    "# math.변수\n",
    "# math.클래스()"
   ]
  },
  {
   "cell_type": "code",
   "execution_count": 120,
   "id": "3075f0c8",
   "metadata": {},
   "outputs": [
    {
     "data": {
      "text/plain": [
       "2.0"
      ]
     },
     "execution_count": 120,
     "metadata": {},
     "output_type": "execute_result"
    }
   ],
   "source": [
    "math.pi\n",
    "math.sqrt(4)"
   ]
  },
  {
   "cell_type": "code",
   "execution_count": 121,
   "id": "2ab3ab6f",
   "metadata": {},
   "outputs": [
    {
     "data": {
      "text/plain": [
       "2.0"
      ]
     },
     "execution_count": 121,
     "metadata": {},
     "output_type": "execute_result"
    }
   ],
   "source": [
    "math.sqrt(4)"
   ]
  },
  {
   "cell_type": "code",
   "execution_count": 122,
   "id": "abae848e",
   "metadata": {},
   "outputs": [],
   "source": [
    "import math as mt #축약형"
   ]
  },
  {
   "cell_type": "code",
   "execution_count": 123,
   "id": "c767620f",
   "metadata": {},
   "outputs": [
    {
     "data": {
      "text/plain": [
       "2.0"
      ]
     },
     "execution_count": 123,
     "metadata": {},
     "output_type": "execute_result"
    }
   ],
   "source": [
    "mt.sqrt(4)"
   ]
  },
  {
   "cell_type": "code",
   "execution_count": 124,
   "id": "ee462202",
   "metadata": {},
   "outputs": [],
   "source": [
    "#from 모듈명 import 함수(변수)명\n",
    "from math import sqrt as s"
   ]
  },
  {
   "cell_type": "code",
   "execution_count": 125,
   "id": "7e8d6bce",
   "metadata": {},
   "outputs": [
    {
     "data": {
      "text/plain": [
       "2.0"
      ]
     },
     "execution_count": 125,
     "metadata": {},
     "output_type": "execute_result"
    }
   ],
   "source": [
    "s(4)"
   ]
  },
  {
   "cell_type": "code",
   "execution_count": 126,
   "id": "54b08a31",
   "metadata": {},
   "outputs": [],
   "source": [
    "#import math"
   ]
  },
  {
   "cell_type": "code",
   "execution_count": 127,
   "id": "57ca777f",
   "metadata": {},
   "outputs": [],
   "source": [
    "import math"
   ]
  },
  {
   "cell_type": "code",
   "execution_count": 128,
   "id": "b227ba77",
   "metadata": {},
   "outputs": [],
   "source": [
    "#math 사용완료"
   ]
  },
  {
   "cell_type": "code",
   "execution_count": 129,
   "id": "4f3f63a0",
   "metadata": {},
   "outputs": [],
   "source": [
    "del math #메모리에서 math모듈이 제거됨"
   ]
  },
  {
   "cell_type": "code",
   "execution_count": 130,
   "id": "d7d52360",
   "metadata": {},
   "outputs": [],
   "source": [
    "import random"
   ]
  },
  {
   "cell_type": "code",
   "execution_count": 138,
   "id": "a0e452c6",
   "metadata": {},
   "outputs": [
    {
     "name": "stdout",
     "output_type": "stream",
     "text": [
      "22\n",
      "44\n",
      "11\n",
      "18\n",
      "1\n",
      "44\n"
     ]
    }
   ],
   "source": [
    "for i in range(6):\n",
    "    print(random.randint(1,45)) #1~3 범위에서 난수 1개 발생\n",
    "#모듈이름.함수(변수,클래스)명"
   ]
  },
  {
   "cell_type": "code",
   "execution_count": 146,
   "id": "d0f30aff",
   "metadata": {},
   "outputs": [
    {
     "name": "stdout",
     "output_type": "stream",
     "text": [
      "6\n",
      "1\n",
      "2\n",
      "5\n"
     ]
    }
   ],
   "source": [
    "i=0\n",
    "while i !=5:\n",
    "    i=random.randint(1,6)\n",
    "    print(i)"
   ]
  },
  {
   "cell_type": "code",
   "execution_count": 147,
   "id": "567a912b",
   "metadata": {},
   "outputs": [
    {
     "data": {
      "text/plain": [
       "'l'"
      ]
     },
     "execution_count": 147,
     "metadata": {},
     "output_type": "execute_result"
    }
   ],
   "source": [
    "#random.choice([1,2,3]) #1,2,3 중에서 1개를 임의로 선택\n",
    "#random.choice(시퀀스객체)\n",
    "random.choice(\"hello\")"
   ]
  },
  {
   "cell_type": "code",
   "execution_count": 166,
   "id": "5932ec61",
   "metadata": {},
   "outputs": [
    {
     "name": "stdout",
     "output_type": "stream",
     "text": [
      "2\n"
     ]
    },
    {
     "data": {
      "text/plain": [
       "[2, 1]"
      ]
     },
     "execution_count": 166,
     "metadata": {},
     "output_type": "execute_result"
    }
   ],
   "source": [
    "#random.choice([1,2,3]) #복원 추출\n",
    "\n",
    "\n",
    "s=set()\n",
    "# s.add(1)\n",
    "# s.add(1)\n",
    "# s.add(2)\n",
    "# print(len(s))\n",
    "\n",
    "while len(s)!=6:\n",
    "r=random.choice(range(1,46))\n",
    "s.add(r)\n",
    "# if len(s)==6:\n",
    "#     print(s)\n",
    "\n",
    "\n",
    "#random.sample(시퀀스객체, 추출데이터개수) #비복원 추출\n",
    "\n",
    "#데이터 전체를 셔플(shuffle, 뒤섞음)\n",
    "random.sample([1,2,3],2)\n",
    "\n"
   ]
  },
  {
   "cell_type": "code",
   "execution_count": 165,
   "id": "4e0707e7",
   "metadata": {},
   "outputs": [
    {
     "name": "stdout",
     "output_type": "stream",
     "text": [
      "[25, 11, 23, 45, 44, 29]\n",
      "[32, 17, 18, 7, 28, 16]\n",
      "[30, 1, 33, 4, 13, 44]\n",
      "[4, 35, 13, 26, 15, 22]\n",
      "[17, 5, 3, 1, 42, 35]\n"
     ]
    }
   ],
   "source": [
    "#이번 주 로또예상 당첨 번호 : 5셋\n",
    "#1~45\n",
    "\n",
    "#random.sample((range(1,46)),6)\n",
    "\n",
    "for i in range(5):\n",
    "    print(random.sample(range(1,46),6))"
   ]
  },
  {
   "cell_type": "code",
   "execution_count": 170,
   "id": "b322ab3f",
   "metadata": {},
   "outputs": [],
   "source": [
    "cond=1\n",
    "#while True: #조건식의 결과가 항상 참이므로 계속(무한) 반복\n",
    "#while 999: #0이 아니면 모두 참\n",
    "# while \"Hello\":\n",
    "while \"\":\n",
    "    print(\"1\")\n",
    "    if cond==10:\n",
    "        break\n",
    "    cond=cond+1"
   ]
  },
  {
   "cell_type": "code",
   "execution_count": 173,
   "id": "fc1dfa6c",
   "metadata": {},
   "outputs": [
    {
     "name": "stdout",
     "output_type": "stream",
     "text": [
      "*\n",
      "*\n",
      "*\n",
      "*\n",
      "*\n",
      "*\n",
      "*\n",
      "*\n",
      "*\n",
      "*\n",
      "*\n"
     ]
    }
   ],
   "source": [
    "c=0\n",
    "while True:\n",
    "    print(\"*\")\n",
    "    c+=1\n",
    "    if c<2:\n",
    "        continue #계속 반복해라 -> 반복문의 시작위치로 이동\n",
    "    if c>10:\n",
    "        break #반복을 멈춰라 -> 반복문의 블록을 벗어남"
   ]
  },
  {
   "cell_type": "code",
   "execution_count": 175,
   "id": "bd89ac85",
   "metadata": {},
   "outputs": [
    {
     "name": "stdout",
     "output_type": "stream",
     "text": [
      "1\n",
      "3\n",
      "5\n",
      "7\n",
      "9\n"
     ]
    }
   ],
   "source": [
    "c=0\n",
    "while c<10:\n",
    "    \n",
    "    c+=1\n",
    "    if c%2==0:\n",
    "        continue \n",
    "    print(c)"
   ]
  },
  {
   "cell_type": "code",
   "execution_count": 176,
   "id": "78964c24",
   "metadata": {},
   "outputs": [],
   "source": [
    "# for i in range(10):\n",
    "#     pass\n",
    "\n",
    "# while True:\n",
    "#     pass"
   ]
  },
  {
   "cell_type": "code",
   "execution_count": null,
   "id": "c63ff621",
   "metadata": {},
   "outputs": [],
   "source": []
  }
 ],
 "metadata": {
  "kernelspec": {
   "display_name": "Python 3",
   "language": "python",
   "name": "python3"
  },
  "language_info": {
   "codemirror_mode": {
    "name": "ipython",
    "version": 3
   },
   "file_extension": ".py",
   "mimetype": "text/x-python",
   "name": "python",
   "nbconvert_exporter": "python",
   "pygments_lexer": "ipython3",
   "version": "3.8.8"
  }
 },
 "nbformat": 4,
 "nbformat_minor": 5
}
