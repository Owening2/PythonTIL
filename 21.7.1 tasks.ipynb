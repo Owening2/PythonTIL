{
 "cells": [
  {
   "cell_type": "code",
   "execution_count": 3,
   "id": "049d3d0b",
   "metadata": {},
   "outputs": [
    {
     "name": "stdout",
     "output_type": "stream",
     "text": [
      "Pt\n"
     ]
    }
   ],
   "source": [
    "#1\n",
    "letters = 'Python'\n",
    "print(letters[0]+letters[2])"
   ]
  },
  {
   "cell_type": "code",
   "execution_count": 18,
   "id": "b149a6e6",
   "metadata": {},
   "outputs": [
    {
     "name": "stdout",
     "output_type": "stream",
     "text": [
      "2210\n"
     ]
    }
   ],
   "source": [
    "#2\n",
    "cn=\"24가 2210\"\n",
    "print(cn[-4:])"
   ]
  },
  {
   "cell_type": "code",
   "execution_count": 4,
   "id": "de745769",
   "metadata": {},
   "outputs": [
    {
     "name": "stdout",
     "output_type": "stream",
     "text": [
      "['파', '파', '파', '']\n"
     ]
    }
   ],
   "source": [
    "#3\n",
    "s=\"파이썬파이썬파이썬\"\n",
    "res=s.split(\"이썬\")\n",
    "print(res)"
   ]
  },
  {
   "cell_type": "code",
   "execution_count": 17,
   "id": "61ff8dd6",
   "metadata": {},
   "outputs": [
    {
     "name": "stdout",
     "output_type": "stream",
     "text": [
      "720\n",
      "<class 'int'>\n"
     ]
    }
   ],
   "source": [
    "#4\n",
    "num_str = \"720\"\n",
    "print(int(num_str))\n",
    "print(type(int(num_str)))"
   ]
  },
  {
   "cell_type": "code",
   "execution_count": 8,
   "id": "db8d4be5",
   "metadata": {},
   "outputs": [
    {
     "name": "stdout",
     "output_type": "stream",
     "text": [
      "15.79\n"
     ]
    }
   ],
   "source": [
    "#5\n",
    "data = \"15.79\"\n",
    "print(float(data))"
   ]
  },
  {
   "cell_type": "code",
   "execution_count": 9,
   "id": "1c71ded1",
   "metadata": {},
   "outputs": [
    {
     "name": "stdout",
     "output_type": "stream",
     "text": [
      "1749024\n"
     ]
    }
   ],
   "source": [
    "#6\n",
    "ac=48584*36\n",
    "print(ac)\n"
   ]
  },
  {
   "cell_type": "code",
   "execution_count": 21,
   "id": "b02315ca",
   "metadata": {},
   "outputs": [
    {
     "name": "stdout",
     "output_type": "stream",
     "text": [
      "850701 2234567\n",
      "여자\n",
      "태어난 월07\n"
     ]
    }
   ],
   "source": [
    "#7\n",
    "jumin=\"850701-1234567\"\n",
    "a,b=jumin.split(\"-\")\n",
    "print(a,b)\n",
    "\n",
    "#성별\n",
    "if b[0]==\"1\" :\n",
    "    print(\"남자\")\n",
    "else :\n",
    "    print(\"여자\")\n",
    "\n",
    "#월\n",
    "c=a[2:4]\n",
    "print(\"태어난 월\"+c)"
   ]
  },
  {
   "cell_type": "code",
   "execution_count": null,
   "id": "39f54a12",
   "metadata": {},
   "outputs": [],
   "source": []
  }
 ],
 "metadata": {
  "kernelspec": {
   "display_name": "Python 3",
   "language": "python",
   "name": "python3"
  },
  "language_info": {
   "codemirror_mode": {
    "name": "ipython",
    "version": 3
   },
   "file_extension": ".py",
   "mimetype": "text/x-python",
   "name": "python",
   "nbconvert_exporter": "python",
   "pygments_lexer": "ipython3",
   "version": "3.8.8"
  }
 },
 "nbformat": 4,
 "nbformat_minor": 5
}
