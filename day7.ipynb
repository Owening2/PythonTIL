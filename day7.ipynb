{
 "cells": [
  {
   "cell_type": "code",
   "execution_count": 1,
   "id": "a5e216ab",
   "metadata": {},
   "outputs": [
    {
     "name": "stdout",
     "output_type": "stream",
     "text": [
      "7\n"
     ]
    }
   ],
   "source": [
    "#33번문제\n",
    "\n",
    "diff = []\n",
    "gravity = [7,4,2,0,0,6,0,7,0]\n",
    "for i in range(len(gravity)-1):\n",
    "    cnt = 0\n",
    "    for j in range(i+1, len(gravity)):\n",
    "        if gravity[i] <= gravity[j]:\n",
    "            cnt+=1\n",
    "            #가로길이-자기자신1-i-겹치는것\n",
    "            diff.append((len(gravity)-1)-i-cnt)\n",
    "        \n",
    "print(max(diff))"
   ]
  },
  {
   "cell_type": "code",
   "execution_count": 2,
   "id": "d268f6e1",
   "metadata": {},
   "outputs": [],
   "source": [
    "#파이썬 2.7버전\n",
    "str(range(1,10001)).count('8')\n",
    "\n",
    "cnt=0\n",
    "for i in range(1,10001):\n",
    "    cnt+=str(i).count('8')"
   ]
  },
  {
   "cell_type": "code",
   "execution_count": 3,
   "id": "b88adaa2",
   "metadata": {},
   "outputs": [
    {
     "data": {
      "text/plain": [
       "4000"
      ]
     },
     "execution_count": 3,
     "metadata": {},
     "output_type": "execute_result"
    }
   ],
   "source": [
    "cnt"
   ]
  },
  {
   "cell_type": "code",
   "execution_count": 4,
   "id": "2f303c28",
   "metadata": {},
   "outputs": [
    {
     "ename": "NameError",
     "evalue": "name 'sw' is not defined",
     "output_type": "error",
     "traceback": [
      "\u001b[1;31m---------------------------------------------------------------------------\u001b[0m",
      "\u001b[1;31mNameError\u001b[0m                                 Traceback (most recent call last)",
      "\u001b[1;32m<ipython-input-4-a045ca948cf7>\u001b[0m in \u001b[0;36m<module>\u001b[1;34m\u001b[0m\n\u001b[0;32m      4\u001b[0m         \u001b[1;32mif\u001b[0m \u001b[0mnum\u001b[0m \u001b[1;33m%\u001b[0m \u001b[0mi\u001b[0m \u001b[1;33m==\u001b[0m\u001b[1;36m0\u001b[0m \u001b[1;32mand\u001b[0m \u001b[0mnum\u001b[0m \u001b[1;33m!=\u001b[0m \u001b[0mi\u001b[0m\u001b[1;33m:\u001b[0m \u001b[1;31m#나누어 떨어짐 & 자기자신이 아님\u001b[0m\u001b[1;33m\u001b[0m\u001b[1;33m\u001b[0m\u001b[0m\n\u001b[0;32m      5\u001b[0m             \u001b[0msw\u001b[0m\u001b[1;33m=\u001b[0m\u001b[1;36m1\u001b[0m \u001b[1;31m#소수가 아님\u001b[0m\u001b[1;33m\u001b[0m\u001b[1;33m\u001b[0m\u001b[0m\n\u001b[1;32m----> 6\u001b[1;33m     \u001b[1;32mif\u001b[0m \u001b[0msw\u001b[0m \u001b[1;33m==\u001b[0m \u001b[1;36m1\u001b[0m \u001b[1;33m:\u001b[0m\u001b[1;33m\u001b[0m\u001b[1;33m\u001b[0m\u001b[0m\n\u001b[0m\u001b[0;32m      7\u001b[0m         \u001b[0mprint\u001b[0m\u001b[1;33m(\u001b[0m\u001b[0mnum\u001b[0m\u001b[1;33m,\u001b[0m \u001b[1;34m\"소수가 아님\"\u001b[0m\u001b[1;33m)\u001b[0m\u001b[1;33m\u001b[0m\u001b[1;33m\u001b[0m\u001b[0m\n\u001b[0;32m      8\u001b[0m \u001b[0mprint\u001b[0m\u001b[1;33m(\u001b[0m\u001b[0mresult\u001b[0m\u001b[1;33m)\u001b[0m\u001b[1;33m\u001b[0m\u001b[1;33m\u001b[0m\u001b[0m\n",
      "\u001b[1;31mNameError\u001b[0m: name 'sw' is not defined"
     ]
    }
   ],
   "source": [
    "result = []\n",
    "for num in range(2,100): #2~99\n",
    "    for i in range(2,num+1):\n",
    "        if num % i ==0 and num != i: #나누어 떨어짐 & 자기자신이 아님\n",
    "            sw=1 #소수가 아님\n",
    "    if sw == 1 :\n",
    "        print(num, \"소수가 아님\")\n",
    "print(result)"
   ]
  },
  {
   "cell_type": "code",
   "execution_count": null,
   "id": "c657a3bf",
   "metadata": {},
   "outputs": [],
   "source": [
    "for i in range(5):\n",
    "    if i==6:\n",
    "        print(\"break를 만나서 반복을 종료\")\n",
    "        break\n",
    "else:  #break를 만나지 않고 (중간에 탈출하지 않고) for가 정상 종료한 경우\n",
    "    print(\"break를 만나지 않고 반복을 종료\")"
   ]
  },
  {
   "cell_type": "code",
   "execution_count": null,
   "id": "464fd4e3",
   "metadata": {},
   "outputs": [],
   "source": []
  },
  {
   "cell_type": "code",
   "execution_count": null,
   "id": "37c4d591",
   "metadata": {},
   "outputs": [],
   "source": [
    "#파이썬 파일 읽기/쓰기"
   ]
  },
  {
   "cell_type": "code",
   "execution_count": null,
   "id": "a71f9aeb",
   "metadata": {},
   "outputs": [],
   "source": [
    "# 파일 열기(open) -> 읽기(read)/쓰기(write) -> 파일 닫기(close)"
   ]
  },
  {
   "cell_type": "code",
   "execution_count": 5,
   "id": "fe2928bc",
   "metadata": {},
   "outputs": [],
   "source": [
    "f=open(\"test.txt\",\"w\") #파일을 쓰기위해 열겠다 \n",
    "f.write(\"hihello\") #파일에 문자열 저장\n",
    "f.close() #파일 닫기"
   ]
  },
  {
   "cell_type": "code",
   "execution_count": null,
   "id": "7989dafc",
   "metadata": {},
   "outputs": [],
   "source": []
  },
  {
   "cell_type": "code",
   "execution_count": 6,
   "id": "ff913f34",
   "metadata": {},
   "outputs": [
    {
     "name": "stdout",
     "output_type": "stream",
     "text": [
      "hihello\n"
     ]
    }
   ],
   "source": [
    "f=open(\"test.txt\",\"r\") #파일을 읽기위해 열겠다 \n",
    "s=f.read() #파일에 문자열 읽기\n",
    "print(s)\n",
    "f.close() #파일 닫기"
   ]
  },
  {
   "cell_type": "code",
   "execution_count": 7,
   "id": "384ddd1f",
   "metadata": {},
   "outputs": [
    {
     "name": "stdout",
     "output_type": "stream",
     "text": [
      "hihello\n"
     ]
    }
   ],
   "source": [
    "# f=open(\"test.txt\",\"r\") #파일을 읽기위해 열겠다 \n",
    "# s=f.read() #파일에 문자열 읽기\n",
    "# print(s)\n",
    "# f.close() #파일 닫기\n",
    "\n",
    "# 두 구문은 동일함\n",
    "\n",
    "with open(\"test.txt\", \"r\") as f:\n",
    "    s=f.read()\n",
    "    print(s)"
   ]
  },
  {
   "cell_type": "code",
   "execution_count": null,
   "id": "c80fd8a6",
   "metadata": {},
   "outputs": [],
   "source": []
  },
  {
   "cell_type": "code",
   "execution_count": 1,
   "id": "184bf660",
   "metadata": {},
   "outputs": [],
   "source": [
    "#여러 줄 저장\n",
    "\n",
    "with open(\"test.txt\", \"w\") as f:\n",
    "     for i in range(3):\n",
    "        #write(\"hello world{0}\\n\".format(i+1))\n",
    "        f.write(\"hello world %d\" %(i+1))\n"
   ]
  },
  {
   "cell_type": "code",
   "execution_count": null,
   "id": "d47ca710",
   "metadata": {},
   "outputs": [],
   "source": [
    "#         f.write(\"{2}hello{1} world {0}\".format(i+1, 999, 3.14)) #{0}-> i+1로 치환\n",
    "        \n",
    "#         s=\"hello world\" + str(i+1)+\"\\n\"\n",
    "#         f.write(s)\n",
    "\n",
    "       # f.write(\"hello world\",i+1)\n",
    "       # f.write(\"hello world\\n\")   \n",
    "#     f.write(\"hello world\\n\") #\\n: new line\n",
    "#     f.write(\"hello world\\n\")\n",
    "#     f.write(\"hello world\\n\")"
   ]
  },
  {
   "cell_type": "code",
   "execution_count": null,
   "id": "b24509e2",
   "metadata": {},
   "outputs": [],
   "source": []
  },
  {
   "cell_type": "code",
   "execution_count": 3,
   "id": "25dfb511",
   "metadata": {},
   "outputs": [],
   "source": [
    "lines=[\"hello world1\\n\", \"hello world2\\n\", \"hello world3\\n\"]"
   ]
  },
  {
   "cell_type": "code",
   "execution_count": 4,
   "id": "9b1da54b",
   "metadata": {},
   "outputs": [],
   "source": [
    "# with open(\"test2.txt\", \"w\") as f:\n",
    "#     for i in range(len(lines)):\n",
    "#         f.write(lines[i]+\"\\n\")\n",
    "\n",
    "\n",
    "with open(\"test2.txt\", \"w\") as f:\n",
    "    #f.writelines(lines+\"\\n\") 에러 발생\n",
    "    f.writelines(lines)\n",
    "    "
   ]
  },
  {
   "cell_type": "code",
   "execution_count": null,
   "id": "02226f20",
   "metadata": {},
   "outputs": [],
   "source": []
  },
  {
   "cell_type": "code",
   "execution_count": 11,
   "id": "fed912eb",
   "metadata": {},
   "outputs": [
    {
     "name": "stdout",
     "output_type": "stream",
     "text": [
      "['hello world1\\n', 'hello world2\\n', 'hello world3\\n']\n"
     ]
    }
   ],
   "source": [
    "with open(\"test2.txt\", \"r\") as f:\n",
    "    s=f.readlines() #한 번에 모든 줄을 읽어들임\n",
    "    #print(type(s))\n",
    "    print(s)\n",
    "#read:파일을 읽어서 문자열로 가져옴\n",
    "#readlines:파일을 읽어서 리스트 형태로 가져옴"
   ]
  },
  {
   "cell_type": "code",
   "execution_count": 12,
   "id": "2eedb6b5",
   "metadata": {},
   "outputs": [
    {
     "name": "stdout",
     "output_type": "stream",
     "text": [
      "hello world1\n",
      "hello world2\n",
      "hello world3\n"
     ]
    }
   ],
   "source": [
    "with open(\"test2.txt\", \"r\") as f:\n",
    "    while True:\n",
    "        s=f.readline() #한 번에 모든 줄을 읽어들임, 'hello world 1\\n'\n",
    "        if s!=\"\":\n",
    "            print(s.strip(\"\\n\")) #'hello world1\\n' -> 'hello world1'\n",
    "        else:\n",
    "            break"
   ]
  },
  {
   "cell_type": "code",
   "execution_count": 1,
   "id": "dd7190ec",
   "metadata": {},
   "outputs": [
    {
     "name": "stdout",
     "output_type": "stream",
     "text": [
      "hello world1\n",
      "hello world2\n",
      "hello world3\n",
      "\n"
     ]
    }
   ],
   "source": [
    "with open(\"test2.txt\", \"r\") as f:\n",
    "    line=None\n",
    "    while line !=\"\":\n",
    "        line=f.readline()#한 번에 모든 줄을 읽어들임, 'hello world 1\\n'\n",
    "        print(line.strip(\"\\n\"))#'hello world1\\n' -> 'hello world1'"
   ]
  },
  {
   "cell_type": "code",
   "execution_count": 15,
   "id": "f46a4f1b",
   "metadata": {},
   "outputs": [],
   "source": [
    "#피클(pickle)모듈 : 객체를 파일로 저장"
   ]
  },
  {
   "cell_type": "code",
   "execution_count": null,
   "id": "24ac3656",
   "metadata": {},
   "outputs": [],
   "source": [
    "# 객체? 클래스(붕어빵, 꽃게빵 기계)로부터 파생된 실체(인스턴스, 붕어빵, 꽃게빵)\n",
    "\n",
    "# ex) 게임\n",
    "# 클래스    : 유저 npc ...\n",
    "# 객체      : 캐릭터1,....캐릭터n 등 유저클래스 객체들\n",
    "#             상인1,상인2,....창고1,창고2,...,스킬1,스킬2,...퀘스트1,...퀘스트n등 npc클래스\n",
    "# 객체 구성(캐릭터, 유저클래스) :\n",
    "#        - 특성 : 종족, 힘, 마나, ...\n",
    "#        - 동작 : 칼을 휘두른다, 마법을 부린다, ...\n",
    "# ex) 캐럭터1이 날새기로 게임하여 캐릭터 레벨업을 많이 했다.\n",
    "# 몹시 오늘 하루가 보람됐다. (lv 10) -> 게임종료 -> 게임 시작(lv 1)\n",
    "        \n",
    "# 종료 시점\n",
    "# 캐릭터 아이템, 레벨, 경험치, 위치, ... 등 캐릭터 정보가 한꺼번에 저장하고자 할때,\n",
    "# 캐릭터 정보를 pickle 저장\n",
    "# 위치={'좌표':270, 'y좌표':902.283, 'z좌표':223.3343}\n",
    "# 아이템={0,1,0,0,01}"
   ]
  },
  {
   "cell_type": "code",
   "execution_count": 16,
   "id": "279b5108",
   "metadata": {},
   "outputs": [],
   "source": [
    "import pickle"
   ]
  },
  {
   "cell_type": "code",
   "execution_count": 19,
   "id": "3bb60be6",
   "metadata": {},
   "outputs": [],
   "source": [
    "#게임을 모드 마치고 취침하려고 할 때 서버에서 일어나는 일\n",
    "uid='kim'\n",
    "lv=50\n",
    "ch='human'\n",
    "items={''} \n",
    "items={'sword':1, 're':10}"
   ]
  },
  {
   "cell_type": "code",
   "execution_count": 21,
   "id": "57bac91c",
   "metadata": {},
   "outputs": [],
   "source": [
    "with open(\"user1.p\",'wb')as f: #write binary(객체는 2진수로 저장)\n",
    "    pickle.dump(id, f)\n",
    "    pickle.dump(lv, f)\n",
    "    pickle.dump(ch, f)\n",
    "    pickle.dump(items, f)"
   ]
  },
  {
   "cell_type": "code",
   "execution_count": null,
   "id": "a4c7ec46",
   "metadata": {},
   "outputs": [],
   "source": [
    "#기상하자마자 게임 접속"
   ]
  },
  {
   "cell_type": "code",
   "execution_count": null,
   "id": "3a4d42a0",
   "metadata": {},
   "outputs": [],
   "source": [
    "with open(\"user1.p\", \"rb\") as f:\n",
    "    uid=pickle.load(f)\n",
    "    lv=pickle.load(f)\n",
    "    ch=pickle.load(f)\n",
    "    items=pickle.load(f)"
   ]
  },
  {
   "cell_type": "code",
   "execution_count": 23,
   "id": "1356d6d3",
   "metadata": {},
   "outputs": [
    {
     "name": "stdout",
     "output_type": "stream",
     "text": [
      "kim 50 human {'sword': 1, 're': 10}\n"
     ]
    }
   ],
   "source": [
    "print(uid, lv, ch, items)"
   ]
  },
  {
   "cell_type": "code",
   "execution_count": null,
   "id": "f5ab9708",
   "metadata": {},
   "outputs": [],
   "source": []
  },
  {
   "cell_type": "code",
   "execution_count": 28,
   "id": "57239077",
   "metadata": {},
   "outputs": [
    {
     "name": "stdout",
     "output_type": "stream",
     "text": [
      "입력:abcba\n",
      "True\n"
     ]
    }
   ],
   "source": [
    "w=input(\"입력:\")\n",
    "#print(w)\n",
    "#print(w[::-1])\n",
    "print(w==w[::-1])"
   ]
  },
  {
   "cell_type": "code",
   "execution_count": 29,
   "id": "3a20e10a",
   "metadata": {},
   "outputs": [
    {
     "data": {
      "text/plain": [
       "['a', 'b', 'c', 'b', 'a']"
      ]
     },
     "execution_count": 29,
     "metadata": {},
     "output_type": "execute_result"
    }
   ],
   "source": [
    "w=\"abcba\"\n",
    "list(w)"
   ]
  },
  {
   "cell_type": "code",
   "execution_count": 32,
   "id": "edcdb28b",
   "metadata": {},
   "outputs": [
    {
     "data": {
      "text/plain": [
       "['a', 'b', 'c', 'b', 'a']"
      ]
     },
     "execution_count": 32,
     "metadata": {},
     "output_type": "execute_result"
    }
   ],
   "source": [
    "list(reversed(w))"
   ]
  },
  {
   "cell_type": "code",
   "execution_count": 33,
   "id": "0181113f",
   "metadata": {},
   "outputs": [
    {
     "data": {
      "text/plain": [
       "True"
      ]
     },
     "execution_count": 33,
     "metadata": {},
     "output_type": "execute_result"
    }
   ],
   "source": [
    "list(w)==list(reversed(w))"
   ]
  },
  {
   "cell_type": "code",
   "execution_count": 35,
   "id": "d5246e8f",
   "metadata": {},
   "outputs": [
    {
     "data": {
      "text/plain": [
       "True"
      ]
     },
     "execution_count": 35,
     "metadata": {},
     "output_type": "execute_result"
    }
   ],
   "source": [
    "w==\"\".join(reversed(w))"
   ]
  },
  {
   "cell_type": "code",
   "execution_count": null,
   "id": "50223256",
   "metadata": {},
   "outputs": [],
   "source": [
    "n 그램 : 문자열(문장)에서 n개의 연속된 문자(단어)를 추출하는 것\n",
    "n=2, 2-gram\n",
    "n=3, 3-gram\n",
    "...\n",
    "ex)\n",
    "삼성동에 코로나가 퍼지고 있습니다\n",
    "n=2, 2=gram\n",
    "문장 ->단어 단위(2-gram)로 추출\n",
    "공백 단위로 구분했다면 = [삼성동에, 코로나가, 퍼지고, 있습니다]\n",
    "단어 단위(2-gram)로 추출 후 =>[삼성동에, 코로나가], [코로나가, 퍼지고], [퍼지고, 있습니다]\n",
    "\n",
    "문장 -> 글자 단위(2-gram)로 추출\n",
    "삼성동에 코로나가 퍼지고 있습니다\n",
    "글자 단위(2-gram)로 추출 후 => ['삼성', '성동', '동에', '에 ',' 코'.....]\n",
    "\n",
    "ex)\n",
    "hello -> 2-gram => he, el, ll, lo\n",
    "\n"
   ]
  },
  {
   "cell_type": "code",
   "execution_count": 39,
   "id": "e0baa079",
   "metadata": {},
   "outputs": [
    {
     "name": "stdout",
     "output_type": "stream",
     "text": [
      "he\n",
      "el\n",
      "ll\n",
      "lo\n"
     ]
    }
   ],
   "source": [
    "Zzz=\"hello\"\n",
    "for i in range(len(Zzz)-1):\n",
    "    print(Zzz[i:i+2])\n",
    "#2-gram => he, el, ll, lo"
   ]
  },
  {
   "cell_type": "code",
   "execution_count": 41,
   "id": "4381cee1",
   "metadata": {},
   "outputs": [
    {
     "name": "stdout",
     "output_type": "stream",
     "text": [
      "he\n",
      "el\n",
      "ll\n",
      "lo\n"
     ]
    }
   ],
   "source": [
    "for i in range(len(Zzz)-1): #i = 0 to 3\n",
    "    print(Zzz[i], Zzz[i+1], sep=\"\")"
   ]
  },
  {
   "cell_type": "code",
   "execution_count": 43,
   "id": "86c8da7e",
   "metadata": {},
   "outputs": [
    {
     "name": "stdout",
     "output_type": "stream",
     "text": [
      "['he', 'el', 'll', 'lo']\n"
     ]
    }
   ],
   "source": [
    "Zzz = 'hello'\n",
    "li=[]\n",
    "for i in range(len(Zzz)-1):\n",
    "    li.append(Zzz[i:i+2])\n",
    "print(li)"
   ]
  },
  {
   "cell_type": "code",
   "execution_count": 45,
   "id": "6318d65b",
   "metadata": {},
   "outputs": [],
   "source": [
    "Zzz2=\"this is python program\""
   ]
  },
  {
   "cell_type": "code",
   "execution_count": 52,
   "id": "4c24fd83",
   "metadata": {},
   "outputs": [
    {
     "name": "stdout",
     "output_type": "stream",
     "text": [
      "this is\n",
      "is python\n",
      "python program\n"
     ]
    }
   ],
   "source": [
    "#2-gram단위로 단어 추출\n",
    "\n",
    "w=Zzz2.split() #공백문자 기준으로 분리\n",
    "for i in range(len(w)-1): #i = 0 to 2\n",
    "    print(w[i],w[i+1], sep=\" \")"
   ]
  },
  {
   "cell_type": "code",
   "execution_count": null,
   "id": "ed4dd50c",
   "metadata": {},
   "outputs": [],
   "source": []
  },
  {
   "cell_type": "code",
   "execution_count": null,
   "id": "45b63620",
   "metadata": {},
   "outputs": [],
   "source": [
    "#언어 모델 : 단어(문자)의 순서에 확률을 적용한 모델\n",
    "나는 아침에 줌에 접속하여 (QR) 인증을 하였다\n",
    "\n",
    "#언어 모델을 만드는 유형 : 통계적 방법, 신경망 방법\n",
    "#N-gram은 통계적 방법중의 하나"
   ]
  },
  {
   "cell_type": "code",
   "execution_count": null,
   "id": "070553b7",
   "metadata": {},
   "outputs": [],
   "source": [
    "# 나는 버스를 탔다 > 나는 버스를 먹었다\n",
    "쉬는 시간이 다가오자, 무척 졸렸다 > 쉬는 시간이 다가오자, 무척 열심히 했다"
   ]
  },
  {
   "cell_type": "code",
   "execution_count": null,
   "id": "9b4f7342",
   "metadata": {},
   "outputs": [],
   "source": [
    "# P(갔다 | 나는, 오늘, 학교에 )\n",
    "# P(안갔다 | 나는, 오늘, 학교에 )\n",
    "# P(버스를 | 나는, 오늘, 학교에 )\n",
    "# ....\n"
   ]
  },
  {
   "cell_type": "code",
   "execution_count": null,
   "id": "db4130cb",
   "metadata": {},
   "outputs": [],
   "source": [
    "# 전체 문장에서\n",
    "\n",
    "# count(나는 오늘 학교에 갔다) = 100번\n",
    "# ----------------------------------- = 1% = P(갔다 | 나는, 오늘, 학교에 )\n",
    "#  count(나는 오늘 학교에) = 10000번\n",
    "     \n",
    "#     count(나는 오늘 학교에 왔다) = 300번\n",
    "# ----------------------------------- = 3% P(왔다 | 나는, 오늘, 학교에 )\n",
    "#   count(나는 오늘 학교에) = 10000번\n",
    "#     ..."
   ]
  },
  {
   "cell_type": "code",
   "execution_count": null,
   "id": "025f07bc",
   "metadata": {},
   "outputs": [],
   "source": [
    "#n-gram 활용\n",
    "#copykiller"
   ]
  },
  {
   "cell_type": "code",
   "execution_count": 53,
   "id": "3eef0087",
   "metadata": {},
   "outputs": [],
   "source": [
    "x=\"머신러닝은 인공지능의 한 분류입니다\"  #내가 작성한 숙제\n",
    "y=\"러닝머신은 운동 기구중의 하나입니다\"  #다른 사람이 작성한 숙제\n",
    "\n",
    "#닝은 != 신은 \n",
    "\n",
    "#내가 작성한 숙제의 표절율?"
   ]
  },
  {
   "cell_type": "code",
   "execution_count": null,
   "id": "f08a674f",
   "metadata": {},
   "outputs": [],
   "source": [
    "# 2=gram(bi-gram) 단위로 글자 분리\n",
    "x => ['머신', '신러', ...'니다']\n",
    "y => ['런닝', '닝머', ...'니다']"
   ]
  },
  {
   "cell_type": "code",
   "execution_count": null,
   "id": "c15f57ec",
   "metadata": {},
   "outputs": [],
   "source": [
    "유사도 = 중복되는 단어 개수 / x를 2글씩 분리한 리스트의 전체 길이"
   ]
  },
  {
   "cell_type": "code",
   "execution_count": null,
   "id": "b7154146",
   "metadata": {},
   "outputs": [],
   "source": []
  }
 ],
 "metadata": {
  "kernelspec": {
   "display_name": "Python 3",
   "language": "python",
   "name": "python3"
  },
  "language_info": {
   "codemirror_mode": {
    "name": "ipython",
    "version": 3
   },
   "file_extension": ".py",
   "mimetype": "text/x-python",
   "name": "python",
   "nbconvert_exporter": "python",
   "pygments_lexer": "ipython3",
   "version": "3.8.8"
  }
 },
 "nbformat": 4,
 "nbformat_minor": 5
}
