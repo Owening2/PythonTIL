{
 "cells": [
  {
   "cell_type": "code",
   "execution_count": 1,
   "id": "b3d0df11",
   "metadata": {},
   "outputs": [
    {
     "name": "stdout",
     "output_type": "stream",
     "text": [
      "[1, 2, 3, 4, 5]\n"
     ]
    }
   ],
   "source": [
    "# a = [1,1,2,2,3,3,4,4,5,5]\n",
    "# print(list(set(a)))"
   ]
  },
  {
   "cell_type": "code",
   "execution_count": 2,
   "id": "25ddee6a",
   "metadata": {},
   "outputs": [
    {
     "ename": "SyntaxError",
     "evalue": "invalid syntax (<ipython-input-2-0ed09f72e07f>, line 1)",
     "output_type": "error",
     "traceback": [
      "\u001b[1;36m  File \u001b[1;32m\"<ipython-input-2-0ed09f72e07f>\"\u001b[1;36m, line \u001b[1;32m1\u001b[0m\n\u001b[1;33m    시간복잡도 :  단순하게 표현하자면..실행해야 할 프로그램 소스코드 문장의 수\u001b[0m\n\u001b[1;37m                  ^\u001b[0m\n\u001b[1;31mSyntaxError\u001b[0m\u001b[1;31m:\u001b[0m invalid syntax\n"
     ]
    }
   ],
   "source": [
    "# 시간복잡도 :  단순하게 표현하자면..실행해야 할 프로그램 소스코드 문장의 수\n",
    "# 0(빅오) - 표기법 : 시간복잡도 표기 방법\n",
    "\n",
    "# 0 표기법\n",
    "# <<<< 빠름                                                              느림 >>>>>\n",
    "# 0(1) > 0(log n) > 0(n) > 0(n log n) > 0(n제곱) >0(n세제곱) > 0(2의 n제곱) > 0(n!)"
   ]
  },
  {
   "cell_type": "code",
   "execution_count": 5,
   "id": "21cae0db",
   "metadata": {},
   "outputs": [
    {
     "name": "stdout",
     "output_type": "stream",
     "text": [
      "0\n",
      "1\n",
      "2\n",
      "3\n",
      "4\n",
      "5\n",
      "6\n",
      "7\n",
      "8\n",
      "9\n",
      "10\n",
      "11\n",
      "12\n",
      "13\n",
      "14\n",
      "15\n",
      "16\n",
      "17\n",
      "18\n",
      "19\n",
      "20\n",
      "21\n",
      "22\n",
      "23\n",
      "24\n",
      "25\n",
      "26\n",
      "27\n",
      "28\n",
      "29\n",
      "30\n",
      "31\n",
      "32\n",
      "33\n",
      "34\n",
      "35\n",
      "36\n",
      "37\n",
      "38\n",
      "39\n",
      "40\n",
      "41\n",
      "42\n",
      "43\n",
      "44\n",
      "45\n",
      "46\n",
      "47\n",
      "48\n",
      "49\n",
      "50\n",
      "51\n",
      "52\n",
      "53\n",
      "54\n",
      "55\n",
      "56\n",
      "57\n",
      "58\n",
      "59\n",
      "60\n",
      "61\n",
      "62\n",
      "63\n",
      "64\n",
      "65\n",
      "66\n",
      "67\n",
      "68\n",
      "69\n",
      "70\n",
      "71\n",
      "72\n",
      "73\n",
      "74\n",
      "75\n",
      "76\n",
      "77\n",
      "78\n",
      "79\n",
      "80\n",
      "81\n",
      "82\n",
      "83\n",
      "84\n",
      "85\n",
      "86\n",
      "87\n",
      "88\n",
      "89\n",
      "90\n",
      "91\n",
      "92\n",
      "93\n",
      "94\n",
      "95\n",
      "96\n",
      "97\n",
      "98\n",
      "99\n"
     ]
    }
   ],
   "source": [
    "# i=0\n",
    "# while True:\n",
    "#     print(i)\n",
    "#     i+=1\n",
    "#     if i==100:\n",
    "#         break\n",
    "for i in range(10000):  \n",
    "    print(i)\n",
    "    if i==99:\n",
    "        break"
   ]
  },
  {
   "cell_type": "code",
   "execution_count": 10,
   "id": "9d605e05",
   "metadata": {},
   "outputs": [
    {
     "name": "stdout",
     "output_type": "stream",
     "text": [
      "2\n",
      "4\n",
      "6\n",
      "8\n",
      "10\n"
     ]
    }
   ],
   "source": [
    " #i가 짝수인 경우에만 출력, continue\n",
    "for i in range(10):\n",
    "    i+=1\n",
    "    if i%2!=0 :\n",
    "        continue\n",
    "    print(i)"
   ]
  },
  {
   "cell_type": "code",
   "execution_count": null,
   "id": "7b1570b2",
   "metadata": {},
   "outputs": [],
   "source": [
    "# for i in range(횟수):      #i=0,   1, 2\n",
    "#     for j in range(횟수):  #j=0, 1\n",
    "#         문장1       #3*2번 수행\n",
    "#         문장2       #3*2번\n",
    "#     문장3           #3번\n",
    "#     문장4           #3번\n",
    "# 문장5               #1번\n",
    "# 문장6               #1번\n",
    "\n"
   ]
  },
  {
   "cell_type": "code",
   "execution_count": 21,
   "id": "dc201181",
   "metadata": {},
   "outputs": [
    {
     "ename": "NameError",
     "evalue": "name 'end' is not defined",
     "output_type": "error",
     "traceback": [
      "\u001b[1;31m---------------------------------------------------------------------------\u001b[0m",
      "\u001b[1;31mNameError\u001b[0m                                 Traceback (most recent call last)",
      "\u001b[1;32m<ipython-input-21-0e0ebdce9913>\u001b[0m in \u001b[0;36m<module>\u001b[1;34m\u001b[0m\n\u001b[0;32m     11\u001b[0m \u001b[1;32mfor\u001b[0m \u001b[0mi\u001b[0m \u001b[1;32min\u001b[0m \u001b[0mrange\u001b[0m\u001b[1;33m(\u001b[0m\u001b[1;36m4\u001b[0m\u001b[1;33m)\u001b[0m\u001b[1;33m:\u001b[0m\u001b[1;33m\u001b[0m\u001b[1;33m\u001b[0m\u001b[0m\n\u001b[0;32m     12\u001b[0m     \u001b[1;32mfor\u001b[0m \u001b[0mj\u001b[0m \u001b[1;32min\u001b[0m \u001b[0mrange\u001b[0m\u001b[1;33m(\u001b[0m\u001b[1;36m3\u001b[0m\u001b[1;33m)\u001b[0m\u001b[1;33m:\u001b[0m\u001b[1;33m\u001b[0m\u001b[1;33m\u001b[0m\u001b[0m\n\u001b[1;32m---> 13\u001b[1;33m         \u001b[0mprint\u001b[0m\u001b[1;33m(\u001b[0m\u001b[1;34m\"*\"\u001b[0m\u001b[1;33m,\u001b[0m \u001b[0mend\u001b[0m\u001b[1;33m==\u001b[0m\u001b[1;34m\"\"\u001b[0m\u001b[1;33m)\u001b[0m\u001b[1;33m\u001b[0m\u001b[1;33m\u001b[0m\u001b[0m\n\u001b[0m\u001b[0;32m     14\u001b[0m     \u001b[0mprint\u001b[0m\u001b[1;33m(\u001b[0m\u001b[1;33m)\u001b[0m\u001b[1;33m\u001b[0m\u001b[1;33m\u001b[0m\u001b[0m\n",
      "\u001b[1;31mNameError\u001b[0m: name 'end' is not defined"
     ]
    }
   ],
   "source": [
    "# ***\n",
    "# ***\n",
    "# ***\n",
    "# ***\n",
    "# 이중 for문 활용\n",
    "\n",
    "# for i in range(1):  ##내가 한것\n",
    "#     for j in range(4):\n",
    "#         print(\"***\")\n",
    "\n",
    "for i in range(4):\n",
    "    for j in range(3):\n",
    "        print(\"*\", end==\"\")\n",
    "    print()"
   ]
  },
  {
   "cell_type": "code",
   "execution_count": 35,
   "id": "cf70261c",
   "metadata": {},
   "outputs": [
    {
     "data": {
      "text/plain": [
       "[10]"
      ]
     },
     "execution_count": 35,
     "metadata": {},
     "output_type": "execute_result"
    }
   ],
   "source": [
    "a=[]\n",
    "a.append(10)\n",
    "a"
   ]
  },
  {
   "cell_type": "code",
   "execution_count": 36,
   "id": "283ee56c",
   "metadata": {},
   "outputs": [
    {
     "data": {
      "text/plain": [
       "[10, 20, 30]"
      ]
     },
     "execution_count": 36,
     "metadata": {},
     "output_type": "execute_result"
    }
   ],
   "source": [
    "a.extend([20,30])\n",
    "a"
   ]
  },
  {
   "cell_type": "code",
   "execution_count": 37,
   "id": "cac2283a",
   "metadata": {},
   "outputs": [],
   "source": [
    "a.insert(1, 15)"
   ]
  },
  {
   "cell_type": "code",
   "execution_count": 25,
   "id": "5b96281c",
   "metadata": {},
   "outputs": [
    {
     "data": {
      "text/plain": [
       "[10, 15, 20, 30]"
      ]
     },
     "execution_count": 25,
     "metadata": {},
     "output_type": "execute_result"
    }
   ],
   "source": [
    "a"
   ]
  },
  {
   "cell_type": "code",
   "execution_count": 38,
   "id": "24011955",
   "metadata": {},
   "outputs": [],
   "source": [
    "a.insert(len(a), 40)"
   ]
  },
  {
   "cell_type": "code",
   "execution_count": 27,
   "id": "a0ee753b",
   "metadata": {},
   "outputs": [
    {
     "data": {
      "text/plain": [
       "[10, 15, 20, 30, 40]"
      ]
     },
     "execution_count": 27,
     "metadata": {},
     "output_type": "execute_result"
    }
   ],
   "source": [
    "a"
   ]
  },
  {
   "cell_type": "code",
   "execution_count": 32,
   "id": "484e00d2",
   "metadata": {},
   "outputs": [],
   "source": [
    "# 20과 30 사이에 한 번에 25, 27\n",
    "# a.insert(3, a.extend([25,27]))"
   ]
  },
  {
   "cell_type": "code",
   "execution_count": 33,
   "id": "d258b22a",
   "metadata": {},
   "outputs": [
    {
     "data": {
      "text/plain": [
       "[10, 15, 20, None, 30, 40, 40, 40, 25, 27, None, 25, 27]"
      ]
     },
     "execution_count": 33,
     "metadata": {},
     "output_type": "execute_result"
    }
   ],
   "source": [
    "a"
   ]
  },
  {
   "cell_type": "code",
   "execution_count": 39,
   "id": "89e274aa",
   "metadata": {},
   "outputs": [
    {
     "data": {
      "text/plain": [
       "[10, 15, 20, 25, 27, 30, 40]"
      ]
     },
     "execution_count": 39,
     "metadata": {},
     "output_type": "execute_result"
    }
   ],
   "source": [
    "a[:3]+[25,27]+a[3:]"
   ]
  },
  {
   "cell_type": "code",
   "execution_count": 40,
   "id": "5f406514",
   "metadata": {},
   "outputs": [],
   "source": [
    "#시작번호와 끝번호를 동일하게 하면 여러개의 데이터를 추가할 수 있음\n",
    "a=[10, 15, 20, 30, 40]"
   ]
  },
  {
   "cell_type": "code",
   "execution_count": 41,
   "id": "e311e7fa",
   "metadata": {},
   "outputs": [],
   "source": [
    "a[3:3]= [25,27]"
   ]
  },
  {
   "cell_type": "code",
   "execution_count": 42,
   "id": "976b0a13",
   "metadata": {},
   "outputs": [
    {
     "data": {
      "text/plain": [
       "[10, 15, 20, 25, 27, 30, 40]"
      ]
     },
     "execution_count": 42,
     "metadata": {},
     "output_type": "execute_result"
    }
   ],
   "source": [
    "a"
   ]
  },
  {
   "cell_type": "code",
   "execution_count": null,
   "id": "c3cde565",
   "metadata": {},
   "outputs": [],
   "source": [
    "a=[10,15,20,30,40]"
   ]
  },
  {
   "cell_type": "code",
   "execution_count": null,
   "id": "84f63d96",
   "metadata": {},
   "outputs": [],
   "source": [
    "#pop:마지막 요소, 특정 번호의 데이터 삭제\n",
    "#remove:데이터 값을 찾아서 삭제"
   ]
  },
  {
   "cell_type": "code",
   "execution_count": 45,
   "id": "f1d782a1",
   "metadata": {},
   "outputs": [],
   "source": [
    "a=[3,5,6]\n",
    "#a.pop()\n",
    "#a.pop(1)\n",
    "\n",
    "del a[1]"
   ]
  },
  {
   "cell_type": "code",
   "execution_count": 46,
   "id": "8371919c",
   "metadata": {},
   "outputs": [
    {
     "data": {
      "text/plain": [
       "[3, 6]"
      ]
     },
     "execution_count": 46,
     "metadata": {},
     "output_type": "execute_result"
    }
   ],
   "source": [
    "a"
   ]
  },
  {
   "cell_type": "code",
   "execution_count": 47,
   "id": "381b5691",
   "metadata": {},
   "outputs": [],
   "source": [
    "a=[4,5,6]\n",
    "a.remove(5)"
   ]
  },
  {
   "cell_type": "code",
   "execution_count": 48,
   "id": "cc0238bd",
   "metadata": {},
   "outputs": [
    {
     "data": {
      "text/plain": [
       "[4, 6]"
      ]
     },
     "execution_count": 48,
     "metadata": {},
     "output_type": "execute_result"
    }
   ],
   "source": [
    "a"
   ]
  },
  {
   "cell_type": "code",
   "execution_count": 50,
   "id": "c74930df",
   "metadata": {},
   "outputs": [
    {
     "data": {
      "text/plain": [
       "1"
      ]
     },
     "execution_count": 50,
     "metadata": {},
     "output_type": "execute_result"
    }
   ],
   "source": [
    "a=[4,5,6]\n",
    "#a.index(6)\n",
    "a.count(4)"
   ]
  },
  {
   "cell_type": "code",
   "execution_count": 57,
   "id": "26023150",
   "metadata": {},
   "outputs": [],
   "source": [
    "a=[4,5,6,4]\n",
    "a.sort()\n",
    "#a.sort(reverse=True) #a에는 정렬된 결과가 저장됨\n",
    "#a.reverse()"
   ]
  },
  {
   "cell_type": "code",
   "execution_count": 58,
   "id": "ff1da6b4",
   "metadata": {},
   "outputs": [
    {
     "data": {
      "text/plain": [
       "[4, 4, 5, 6]"
      ]
     },
     "execution_count": 58,
     "metadata": {},
     "output_type": "execute_result"
    }
   ],
   "source": [
    "a"
   ]
  },
  {
   "cell_type": "code",
   "execution_count": 53,
   "id": "663e58a7",
   "metadata": {},
   "outputs": [
    {
     "data": {
      "text/plain": [
       "[4, 4, 5, 6]"
      ]
     },
     "execution_count": 53,
     "metadata": {},
     "output_type": "execute_result"
    }
   ],
   "source": [
    "a=[4,5,6,4]\n",
    "sorted(a)"
   ]
  },
  {
   "cell_type": "code",
   "execution_count": 54,
   "id": "6e6a6714",
   "metadata": {},
   "outputs": [
    {
     "data": {
      "text/plain": [
       "[4, 5, 6, 4]"
      ]
     },
     "execution_count": 54,
     "metadata": {},
     "output_type": "execute_result"
    }
   ],
   "source": [
    "a"
   ]
  },
  {
   "cell_type": "code",
   "execution_count": 62,
   "id": "a3231bc5",
   "metadata": {},
   "outputs": [
    {
     "data": {
      "text/plain": [
       "[]"
      ]
     },
     "execution_count": 62,
     "metadata": {},
     "output_type": "execute_result"
    }
   ],
   "source": [
    "a=[4,5,6,4]\n",
    "#a.clear()\n",
    "del a[:]#전체를 의미\n",
    "a"
   ]
  },
  {
   "cell_type": "code",
   "execution_count": 66,
   "id": "6d568141",
   "metadata": {},
   "outputs": [
    {
     "data": {
      "text/plain": [
       "[100, 200, 300, 400]"
      ]
     },
     "execution_count": 66,
     "metadata": {},
     "output_type": "execute_result"
    }
   ],
   "source": [
    "a=[100,200]\n",
    "#[100,200,300,400]\n",
    "# a.extend([300,400])\n",
    "a[len(a):]=[300,400]\n",
    "a"
   ]
  },
  {
   "cell_type": "code",
   "execution_count": 68,
   "id": "43cb03d5",
   "metadata": {},
   "outputs": [
    {
     "name": "stdout",
     "output_type": "stream",
     "text": [
      "비어있지 않음\n"
     ]
    }
   ],
   "source": [
    "a\n",
    "if len(a): #len(a) != 0\n",
    "    print(\"비어있지 않음\")\n",
    "else:\n",
    "    print(\"비어있음\")"
   ]
  },
  {
   "cell_type": "code",
   "execution_count": 69,
   "id": "26472fe3",
   "metadata": {},
   "outputs": [
    {
     "name": "stdout",
     "output_type": "stream",
     "text": [
      "비어있지 않음\n"
     ]
    }
   ],
   "source": [
    "if a: #a에 데이터가 있으므로 참\n",
    "    print(\"비어있지 않음\")"
   ]
  },
  {
   "cell_type": "code",
   "execution_count": 70,
   "id": "684a3a63",
   "metadata": {},
   "outputs": [],
   "source": [
    "if not a :\n",
    "    print(\"비어있음\")"
   ]
  },
  {
   "cell_type": "code",
   "execution_count": 74,
   "id": "d8b8c815",
   "metadata": {},
   "outputs": [
    {
     "name": "stdout",
     "output_type": "stream",
     "text": [
      "1 3\n",
      "2 1\n",
      "3 2\n",
      "4 4\n",
      "5 5\n"
     ]
    }
   ],
   "source": [
    "a=[3,1,2,4,5]\n",
    "for idx, v in enumerate(a, start=1):\n",
    "#     print(idx) #index번호\n",
    "#     print(v)\n",
    "    print(idx,v)\n",
    "    #print(idx+1, v)"
   ]
  },
  {
   "cell_type": "code",
   "execution_count": 83,
   "id": "51fcf3c3",
   "metadata": {},
   "outputs": [],
   "source": [
    "a=[3,-2,5,1,-6]"
   ]
  },
  {
   "cell_type": "code",
   "execution_count": 76,
   "id": "65de6b38",
   "metadata": {},
   "outputs": [],
   "source": [
    "#a리스트에서 양수만 출력"
   ]
  },
  {
   "cell_type": "code",
   "execution_count": 88,
   "id": "bb1c528a",
   "metadata": {},
   "outputs": [
    {
     "name": "stdout",
     "output_type": "stream",
     "text": [
      "3 5 1 "
     ]
    }
   ],
   "source": [
    "# for idx, v in enumerate(a):\n",
    "#     if v>0:\n",
    "#         print(idx,v)\n",
    "a=[3,-2,5,1,-6]\n",
    "for i in a:\n",
    "    if i<0:\n",
    "        continue\n",
    "    else:\n",
    "        print(i, end=\" \")"
   ]
  },
  {
   "cell_type": "code",
   "execution_count": 89,
   "id": "8e610992",
   "metadata": {},
   "outputs": [],
   "source": [
    "a=[3,7,1,5,2]"
   ]
  },
  {
   "cell_type": "code",
   "execution_count": 92,
   "id": "867b9329",
   "metadata": {},
   "outputs": [
    {
     "name": "stdout",
     "output_type": "stream",
     "text": [
      "7\n"
     ]
    }
   ],
   "source": [
    "#a리스트에서 최소/최대값\n",
    "\n",
    "# small=a[0]    #최소값 구하기\n",
    "# for i in a:\n",
    "#     if i < small:\n",
    "#         small=i\n",
    "# print(small)\n",
    "\n",
    "big=a[0]    #최대값 구하기\n",
    "for i in a:\n",
    "    if i > big:\n",
    "        big=i\n",
    "print(big)"
   ]
  },
  {
   "cell_type": "code",
   "execution_count": 95,
   "id": "40d41584",
   "metadata": {},
   "outputs": [
    {
     "data": {
      "text/plain": [
       "[1, 2, 3, 5, 7]"
      ]
     },
     "execution_count": 95,
     "metadata": {},
     "output_type": "execute_result"
    }
   ],
   "source": [
    "a.sort()\n",
    "a"
   ]
  },
  {
   "cell_type": "code",
   "execution_count": 94,
   "id": "7a816949",
   "metadata": {},
   "outputs": [
    {
     "data": {
      "text/plain": [
       "1"
      ]
     },
     "execution_count": 94,
     "metadata": {},
     "output_type": "execute_result"
    }
   ],
   "source": [
    "a[0]  # sort(reverse=True)  a[len(a)-1]"
   ]
  },
  {
   "cell_type": "code",
   "execution_count": 96,
   "id": "60a45c1c",
   "metadata": {},
   "outputs": [
    {
     "data": {
      "text/plain": [
       "7"
      ]
     },
     "execution_count": 96,
     "metadata": {},
     "output_type": "execute_result"
    }
   ],
   "source": [
    "min(a)\n",
    "max(a)"
   ]
  },
  {
   "cell_type": "code",
   "execution_count": 97,
   "id": "f9bcc9db",
   "metadata": {},
   "outputs": [
    {
     "data": {
      "text/plain": [
       "[1, 2, 3, 5, 7]"
      ]
     },
     "execution_count": 97,
     "metadata": {},
     "output_type": "execute_result"
    }
   ],
   "source": [
    "a"
   ]
  },
  {
   "cell_type": "code",
   "execution_count": 98,
   "id": "dd96bbcc",
   "metadata": {},
   "outputs": [
    {
     "data": {
      "text/plain": [
       "18"
      ]
     },
     "execution_count": 98,
     "metadata": {},
     "output_type": "execute_result"
    }
   ],
   "source": [
    "sum(a)"
   ]
  },
  {
   "cell_type": "code",
   "execution_count": 102,
   "id": "db2f6c89",
   "metadata": {},
   "outputs": [
    {
     "data": {
      "text/plain": [
       "[0, 1, 2, 3, 4, 5, 6, 7, 8, 9]"
      ]
     },
     "execution_count": 102,
     "metadata": {},
     "output_type": "execute_result"
    }
   ],
   "source": [
    "#list comprehension(리스트 내포) : 리스트 내부에 for, if문 등을 사용\n",
    "#-> 리스트 생성\n",
    "\n",
    "#리스트 표현식 작성법\n",
    "# [식 for 변수 in 리스트]\n",
    "x=[x for x in range(10)]\n",
    "x"
   ]
  },
  {
   "cell_type": "code",
   "execution_count": 103,
   "id": "226f1516",
   "metadata": {},
   "outputs": [],
   "source": [
    "li=[]\n",
    "for i in range(10):\n",
    "    li+=[]"
   ]
  },
  {
   "cell_type": "code",
   "execution_count": 156,
   "id": "4ac880c9",
   "metadata": {},
   "outputs": [
    {
     "ename": "IndentationError",
     "evalue": "unexpected indent (<ipython-input-156-882fb4a768e5>, line 2)",
     "output_type": "error",
     "traceback": [
      "\u001b[1;36m  File \u001b[1;32m\"<ipython-input-156-882fb4a768e5>\"\u001b[1;36m, line \u001b[1;32m2\u001b[0m\n\u001b[1;33m    for i in range(10):\u001b[0m\n\u001b[1;37m    ^\u001b[0m\n\u001b[1;31mIndentationError\u001b[0m\u001b[1;31m:\u001b[0m unexpected indent\n"
     ]
    }
   ],
   "source": [
    "li=[]\n",
    "    for i in range(10):\n",
    "         li.append(i)\n",
    "\n",
    "# [x for x in range(10)]\n",
    "#list((x for x in range(10))) #제너레이터"
   ]
  },
  {
   "cell_type": "code",
   "execution_count": 106,
   "id": "758326a6",
   "metadata": {},
   "outputs": [
    {
     "data": {
      "text/plain": [
       "[1, 2, 3, 4, 5, 6, 7, 8, 9, 10]"
      ]
     },
     "execution_count": 106,
     "metadata": {},
     "output_type": "execute_result"
    }
   ],
   "source": [
    "[x+1 for x in range(10)]"
   ]
  },
  {
   "cell_type": "code",
   "execution_count": 110,
   "id": "b33c322b",
   "metadata": {},
   "outputs": [
    {
     "data": {
      "text/plain": [
       "[10, 11, 12, 13, 14, 15, 16, 17, 18, 19, 20]"
      ]
     },
     "execution_count": 110,
     "metadata": {},
     "output_type": "execute_result"
    }
   ],
   "source": [
    "#리스트 내포를 이용하여 10~20까지 값을 갖는 리스트를 생성\n",
    "\n",
    "[b for b in range(10,21)]\n",
    "b"
   ]
  },
  {
   "cell_type": "code",
   "execution_count": null,
   "id": "ab5b3fe9",
   "metadata": {},
   "outputs": [],
   "source": [
    "b=[b for b in range(10,21)]\n",
    "#변수b= [리스트]\n",
    "\n",
    "--> 요런식으로 변경하기 위 코드는 보기 불편\n",
    "mylist=[b for b in range(10,21)]\n",
    "mylist"
   ]
  },
  {
   "cell_type": "code",
   "execution_count": 116,
   "id": "0de8d0f9",
   "metadata": {},
   "outputs": [
    {
     "data": {
      "text/plain": [
       "[0, 5, 10, 15, 20, 25]"
      ]
     },
     "execution_count": 116,
     "metadata": {},
     "output_type": "execute_result"
    }
   ],
   "source": [
    "#[0, 5, 10, 15, 20, 25]\n",
    "#리스트 내포를 사용하여 생성\n",
    "\n",
    "#[x for x in range(0,26,5)]\n",
    "[x*5 for x in range(0,6)] "
   ]
  },
  {
   "cell_type": "code",
   "execution_count": 119,
   "id": "40b42c40",
   "metadata": {},
   "outputs": [
    {
     "data": {
      "text/plain": [
       "[0, 2, 4, 6, 8]"
      ]
     },
     "execution_count": 119,
     "metadata": {},
     "output_type": "execute_result"
    }
   ],
   "source": [
    "#[식 for 변수 리스트 if 조건식]\n",
    "[i for i in range(10) if i%2 ==0]\n",
    "\n",
    "# \"\"\"\n",
    "# 1) range(10)  => 0,1,2,.....,9\n",
    "# 2) if i%2 ==0 => 짝수만 뽑아냄\n",
    "# 3) 뽑아낸 짝수가 i에 전달되어 리스트가 생성 됨\n",
    "# \"\"\""
   ]
  },
  {
   "cell_type": "code",
   "execution_count": 121,
   "id": "3674a5c7",
   "metadata": {},
   "outputs": [
    {
     "data": {
      "text/plain": [
       "[3, 9, 15, 21, 27]"
      ]
     },
     "execution_count": 121,
     "metadata": {},
     "output_type": "execute_result"
    }
   ],
   "source": [
    "#0~9까지 숫자 중에서 홀수에 3을 곱한 리스트를 생성\n",
    "#[1,3,5,7,9]\n",
    "#[3,6,9,12,15,....,27]\n",
    "[x*3 for x in range(0,10) if x%2==1]"
   ]
  },
  {
   "cell_type": "code",
   "execution_count": 122,
   "id": "092e89db",
   "metadata": {},
   "outputs": [],
   "source": [
    "a=['a','b','c','d','e']\n",
    "b=['A','B','C','D','E']"
   ]
  },
  {
   "cell_type": "code",
   "execution_count": 131,
   "id": "e0fced56",
   "metadata": {},
   "outputs": [
    {
     "data": {
      "text/plain": [
       "['aA',\n",
       " 'aB',\n",
       " 'aC',\n",
       " 'aD',\n",
       " 'aE',\n",
       " 'bA',\n",
       " 'bB',\n",
       " 'bC',\n",
       " 'bD',\n",
       " 'bE',\n",
       " 'cA',\n",
       " 'cB',\n",
       " 'cC',\n",
       " 'cD',\n",
       " 'cE',\n",
       " 'dA',\n",
       " 'dB',\n",
       " 'dC',\n",
       " 'dD',\n",
       " 'dE',\n",
       " 'eA',\n",
       " 'eB',\n",
       " 'eC',\n",
       " 'eD',\n",
       " 'eE']"
      ]
     },
     "execution_count": 131,
     "metadata": {},
     "output_type": "execute_result"
    }
   ],
   "source": [
    "#[i+j for i in a for j in b]\n",
    "\n",
    "mylist=[]\n",
    "for i in a:\n",
    "    for j in b:\n",
    "        mylist.append(i+j)\n",
    "mylist"
   ]
  },
  {
   "cell_type": "code",
   "execution_count": 138,
   "id": "5be925a6",
   "metadata": {},
   "outputs": [
    {
     "name": "stdout",
     "output_type": "stream",
     "text": [
      "[2, 4, 6, 8, 10, 12, 14, 16, 18, 3, 6, 9, 12, 15, 18, 21, 24, 27, 4, 8, 12, 16, 20, 24, 28, 32, 36, 5, 10, 15, 20, 25, 30, 35, 40, 45, 6, 12, 18, 24, 30, 36, 42, 48, 54, 7, 14, 21, 28, 35, 42, 49, 56, 63, 8, 16, 24, 32, 40, 48, 56, 64, 72, 9, 18, 27, 36, 45, 54, 63, 72, 81]\n"
     ]
    }
   ],
   "source": [
    "#2단~9단 결과를 출력\n",
    "i=[]\n",
    "a=[2,3,4,5,6,7,8,9]\n",
    "b=[1,2,3,4,5,6,7,8,9]\n",
    "print([i*j for i in a for j in b])"
   ]
  },
  {
   "cell_type": "code",
   "execution_count": 135,
   "id": "5902545e",
   "metadata": {},
   "outputs": [],
   "source": [
    "mylist=[]\n",
    "for i in range(2,10): #단\n",
    "    for j in range(1,10):\n",
    "        mylist.append(i*j)"
   ]
  },
  {
   "cell_type": "code",
   "execution_count": 136,
   "id": "3ca0aed6",
   "metadata": {},
   "outputs": [
    {
     "name": "stdout",
     "output_type": "stream",
     "text": [
      "[2, 4, 6, 8, 10, 12, 14, 16, 18, 3, 6, 9, 12, 15, 18, 21, 24, 27, 4, 8, 12, 16, 20, 24, 28, 32, 36, 5, 10, 15, 20, 25, 30, 35, 40, 45, 6, 12, 18, 24, 30, 36, 42, 48, 54, 7, 14, 21, 28, 35, 42, 49, 56, 63, 8, 16, 24, 32, 40, 48, 56, 64, 72, 9, 18, 27, 36, 45, 54, 63, 72, 81]\n"
     ]
    }
   ],
   "source": [
    "print(mylist)"
   ]
  },
  {
   "cell_type": "code",
   "execution_count": 139,
   "id": "b5dd4092",
   "metadata": {},
   "outputs": [
    {
     "name": "stdout",
     "output_type": "stream",
     "text": [
      "[2, 4, 6, 8, 10, 12, 14, 16, 18, 3, 6, 9, 12, 15, 18, 21, 24, 27, 4, 8, 12, 16, 20, 24, 28, 32, 36, 5, 10, 15, 20, 25, 30, 35, 40, 45, 6, 12, 18, 24, 30, 36, 42, 48, 54, 7, 14, 21, 28, 35, 42, 49, 56, 63, 8, 16, 24, 32, 40, 48, 56, 64, 72, 9, 18, 27, 36, 45, 54, 63, 72, 81]\n"
     ]
    }
   ],
   "source": [
    "print([i*j for i in range(2,10)\n",
    "           for j in range(1,10)])"
   ]
  },
  {
   "cell_type": "code",
   "execution_count": 141,
   "id": "abea0754",
   "metadata": {},
   "outputs": [
    {
     "data": {
      "text/plain": [
       "[0, 6, 12, 18, 24]"
      ]
     },
     "execution_count": 141,
     "metadata": {},
     "output_type": "execute_result"
    }
   ],
   "source": [
    "[i for i in range(30) if i %2==0 and i%3 ==0]"
   ]
  },
  {
   "cell_type": "code",
   "execution_count": 143,
   "id": "2ab2d4d8",
   "metadata": {},
   "outputs": [],
   "source": [
    "#리스트 내포에서 else도 사용 가능, 단, elif는 불가\n",
    "\n",
    "# 0~9까지 수를 리스트에 저장하고자 하는데, \n",
    "# 짝수는 'even', 홀수는 'odd'\n",
    "#['even', 'odd','even', 'odd','even', 'odd','even', 'odd','even', 'odd','even', 'odd']\n"
   ]
  },
  {
   "cell_type": "code",
   "execution_count": 146,
   "id": "6a4a1a76",
   "metadata": {},
   "outputs": [
    {
     "data": {
      "text/plain": [
       "['even', 'odd', 'even', 'odd', 'even', 'odd', 'even', 'odd', 'even', 'odd']"
      ]
     },
     "execution_count": 146,
     "metadata": {},
     "output_type": "execute_result"
    }
   ],
   "source": [
    "['even'if i%2==0 else 'odd' for i in range(10)]"
   ]
  },
  {
   "cell_type": "code",
   "execution_count": 149,
   "id": "f9528af6",
   "metadata": {},
   "outputs": [
    {
     "data": {
      "text/plain": [
       "['zero', 'odd', 'even', 'odd', 'even', 'odd', 'even', 'odd', 'even', 'odd']"
      ]
     },
     "execution_count": 149,
     "metadata": {},
     "output_type": "execute_result"
    }
   ],
   "source": [
    "#['zero', 'odd','even', 'odd','even', 'odd','even', 'odd','even', 'odd','even', 'odd']\n",
    "\n",
    "['zero' if i==0 else 'even' if i%2==0 else'odd' for i in range(10)]"
   ]
  },
  {
   "cell_type": "code",
   "execution_count": 150,
   "id": "403d7756",
   "metadata": {},
   "outputs": [],
   "source": [
    "for i in range(10):\n",
    "    if i==0:\n",
    "        'zero'\n",
    "    elif i%2==0:\n",
    "        'even'\n",
    "    else:\n",
    "        'odd'"
   ]
  },
  {
   "cell_type": "code",
   "execution_count": null,
   "id": "5d8a2c15",
   "metadata": {},
   "outputs": [],
   "source": []
  }
 ],
 "metadata": {
  "kernelspec": {
   "display_name": "Python 3",
   "language": "python",
   "name": "python3"
  },
  "language_info": {
   "codemirror_mode": {
    "name": "ipython",
    "version": 3
   },
   "file_extension": ".py",
   "mimetype": "text/x-python",
   "name": "python",
   "nbconvert_exporter": "python",
   "pygments_lexer": "ipython3",
   "version": "3.8.8"
  }
 },
 "nbformat": 4,
 "nbformat_minor": 5
}
