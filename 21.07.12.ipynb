{
 "cells": [
  {
   "cell_type": "code",
   "execution_count": 1,
   "id": "53cf7f2d",
   "metadata": {},
   "outputs": [
    {
     "name": "stdout",
     "output_type": "stream",
     "text": [
      "27.77777777777778\n"
     ]
    }
   ],
   "source": [
    "# #1. 내가 작성한 숙제의 표절율은?\n",
    "x=\"머신러닝은 인공지능의 한 분류입니다\" #내가 작성한 숙제\n",
    "y=\"런닝머신은 운동 기구중의 하나입니다\" #다른 사람이 작성한 숙제\n",
    "xi=[]\n",
    "yi=[]\n",
    "for i in range(len(x)-1):\n",
    "    xi.append(x[i:i+2])\n",
    "for j in range(len(y)-1):\n",
    "    yi.append(y[j:j+2])    \n",
    "print(len(set.intersection(set(xi),set(yi)))/len(yi)*100)\n",
    "    "
   ]
  },
  {
   "cell_type": "code",
   "execution_count": 13,
   "id": "fca5a44c",
   "metadata": {},
   "outputs": [
    {
     "name": "stdout",
     "output_type": "stream",
     "text": [
      "2\n"
     ]
    }
   ],
   "source": [
    "# 2. 평탄화 작업\n",
    "boxes=[5,8,3,1,5,6,9,9,2,2,4]\n",
    "largest_value =0\n",
    "minimum_value =0\n",
    "for i in range(11):\n",
    "    largest_value = boxes.index(max(boxes))\n",
    "    minimum_value = boxes.index(min(boxes))\n",
    "    boxes[largest_value] -=1\n",
    "    boxes[minimum_value] +=1\n",
    "print(max(boxes) - min(boxes))\n",
    "    "
   ]
  },
  {
   "cell_type": "code",
   "execution_count": 4,
   "id": "51789131",
   "metadata": {},
   "outputs": [
    {
     "name": "stdout",
     "output_type": "stream",
     "text": [
      "hello\n",
      "ex01\n",
      "intro\n"
     ]
    }
   ],
   "source": [
    "# 3.  파일 이름이 저장된 리스트에서 확장자를 제거하고 파일 이름만 화면에 출력하라. \n",
    "li = ['hello.py', 'ex01.py', 'intro.hwp']\n",
    "\n",
    "for i in li :\n",
    "    split = i.split(\".\")\n",
    "    print(split[0])"
   ]
  },
  {
   "cell_type": "code",
   "execution_count": 3,
   "id": "9c9c8f0c",
   "metadata": {},
   "outputs": [
    {
     "name": "stdout",
     "output_type": "stream",
     "text": [
      "[50, 100, 30, 80, 0]\n"
     ]
    }
   ],
   "source": [
    "# 4. 리스트에 5일간의 저가, 고가 정보가 저장돼 있다. 고가와 저가의 차를 변동폭이라고 정의할 때, \n",
    "# low, high 두 개의 리스트를 사용해서 5일간의 변동폭을 volatility 리스트에 저장하라.\n",
    "low_prices  = [100, 200, 400, 800, 1000]\n",
    "high_prices = [150, 300, 430, 880, 1000]\n",
    "volatility = []\n",
    "for i in range(len(low_prices)) : \n",
    "    volatility.append(high_prices[i] - low_prices[i])\n",
    "print(volatility)"
   ]
  },
  {
   "cell_type": "code",
   "execution_count": 2,
   "id": "f5735fcc",
   "metadata": {},
   "outputs": [
    {
     "name": "stdout",
     "output_type": "stream",
     "text": [
      "101 호\n",
      "102 호\n",
      "------\n",
      "201 호\n",
      "202 호\n",
      "------\n",
      "301 호\n",
      "302 호\n",
      "------\n"
     ]
    }
   ],
   "source": [
    "# 5.리스트에 저장된 데이터를 아래와 같이 출력하라.\n",
    "apart = [ [101, 102], [201, 202], [301, 302] ]\n",
    "for row in apart:\n",
    "    for col in row:\n",
    "        print(col,\"호\")\n",
    "    print(\"------\")"
   ]
  },
  {
   "cell_type": "code",
   "execution_count": null,
   "id": "1c8f7021",
   "metadata": {},
   "outputs": [],
   "source": []
  }
 ],
 "metadata": {
  "kernelspec": {
   "display_name": "Python 3",
   "language": "python",
   "name": "python3"
  },
  "language_info": {
   "codemirror_mode": {
    "name": "ipython",
    "version": 3
   },
   "file_extension": ".py",
   "mimetype": "text/x-python",
   "name": "python",
   "nbconvert_exporter": "python",
   "pygments_lexer": "ipython3",
   "version": "3.8.8"
  }
 },
 "nbformat": 4,
 "nbformat_minor": 5
}
