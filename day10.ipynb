{
 "cells": [
  {
   "cell_type": "code",
   "execution_count": null,
   "id": "9a523f9f",
   "metadata": {},
   "outputs": [],
   "source": [
    "# 클래스로부터 객체는 생성됨\n",
    "# ex) 게임 캐릭터\n",
    "# 인간 클래스 -> 캐릭터 생성(아이디:홍길동, 객체)\n",
    "# 속성(특성) : 눈, 코, ...(사람)\n",
    "#              체력, 마나, 공격력, 방어력,  ...(게임캐릭터)\n",
    "# 매서드(동작, 함수) : 먹는다, 달린다, 걷는다, 말한다, 잔다, 생각한다, ...(사람)\n",
    "#                      벤다, 무찌른다, 마법을 사용한다, 스킬을 구사한다,...(게임캐릭터)\n",
    "        \n",
    "    \n",
    "#절차적프로그래밍(꼰대프로그래밍, 고전)    \n",
    "    \n",
    "# 객체지향프로그래밍 : 해결하려는 문제를 잘게 나누어서 객체를 생성.\n",
    "#             객체 간의 통신을 통해 주어진 문제를 해결(게임을 제작)\n",
    "# ex) 게임 -> 잘게 나누면 -> 캐릭터, NPC, 몬스터, 아이템, ...(객체)"
   ]
  },
  {
   "cell_type": "code",
   "execution_count": null,
   "id": "8430f41c",
   "metadata": {},
   "outputs": [],
   "source": [
    "# class 클래스이름: \n",
    "#     def 매서드(self):\n",
    "#         매서드가 수행할 코드(동작)"
   ]
  },
  {
   "cell_type": "code",
   "execution_count": 29,
   "id": "18f2d65a",
   "metadata": {},
   "outputs": [],
   "source": [
    "#게이머 클래스 정의\n",
    "#self : 클래스로부터 생성된 객체 자기 자신, this와 같음\n",
    "class User:\n",
    "    def move(self):\n",
    "        print(\"이동합니다\")\n",
    "    def hunt(self):\n",
    "        print(self.msg)\n",
    "        self.move()\n",
    "        print(\"사냥합니다\")\n",
    "        print(self.mp)\n",
    "    def __init__(self):\n",
    "        print(\"init 함수가 호출됐습니다\")\n",
    "        self.hp=100 #게임 캐릭터의 초기 체력이 100\n",
    "        self.mp=50  #게임 캐릭터의 초기 마법력 50\n",
    "        #self.속성명=속성값\n",
    "        self.msg=\"캐릭터를 생성하였습니다\""
   ]
  },
  {
   "cell_type": "code",
   "execution_count": 31,
   "id": "fe468fa0",
   "metadata": {},
   "outputs": [
    {
     "name": "stdout",
     "output_type": "stream",
     "text": [
      "init 함수가 호출됐습니다\n"
     ]
    },
    {
     "data": {
      "text/plain": [
       "<__main__.User at 0x2b5b938f2e0>"
      ]
     },
     "execution_count": 31,
     "metadata": {},
     "output_type": "execute_result"
    }
   ],
   "source": [
    "#게이머 객체 생성\n",
    "hong=User()"
   ]
  },
  {
   "cell_type": "code",
   "execution_count": 28,
   "id": "3e89c0ea",
   "metadata": {},
   "outputs": [
    {
     "name": "stdout",
     "output_type": "stream",
     "text": [
      "캐릭터를 생성하였습니다\n",
      "이동합니다\n",
      "사냥합니다\n"
     ]
    },
    {
     "data": {
      "text/plain": [
       "False"
      ]
     },
     "execution_count": 28,
     "metadata": {},
     "output_type": "execute_result"
    }
   ],
   "source": [
    "#메서드 수행\n",
    "#객체명.메서드명()\n",
    "\n",
    "#hong.move()\n",
    "hong.hunt()\n",
    "\n",
    "isinstance(hong, User2)\n",
    "#hong은 User 클래스의 인스턴스(객체)입니까?"
   ]
  },
  {
   "cell_type": "code",
   "execution_count": 19,
   "id": "01156853",
   "metadata": {},
   "outputs": [],
   "source": [
    "class User2:\n",
    "    pass"
   ]
  },
  {
   "cell_type": "code",
   "execution_count": null,
   "id": "0c698330",
   "metadata": {},
   "outputs": [],
   "source": []
  },
  {
   "cell_type": "code",
   "execution_count": null,
   "id": "9ec8415d",
   "metadata": {},
   "outputs": [],
   "source": [
    "#정규표현식(정규식, 바디 랭귀지):regex\n",
    "\n",
    "수집 문자 데이터 -> 문자열 전처리(preprocessing, ..., 정규식 작업)"
   ]
  },
  {
   "cell_type": "code",
   "execution_count": 47,
   "id": "83cdfb7e",
   "metadata": {},
   "outputs": [
    {
     "name": "stdout",
     "output_type": "stream",
     "text": [
      "정상입니다\n"
     ]
    }
   ],
   "source": [
    "# data=\"850101-1234567\"\n",
    "# =>\n",
    "# \"851001-*******\"\n",
    "\n",
    "data = \"850101-1234567\"\n",
    "#- 기호로 data를 분리\n",
    "spData = data.split(\"-\")\n",
    "spData[1].isdigit()    #is로시작하는 함수는 True,False로 나옴\n",
    "#문자열.isdigit()\n",
    "\n",
    "# data에 저장된 주민번호가 정상적인지 여부를 확인하는 코드 완성\n",
    "# 길이=14, -기호로 분리된 각각의 데이터는 모두 숫자로만 구성\n",
    "\n",
    "if True:\n",
    "    len(spData) == 14\n",
    "    if True:\n",
    "        type(spData) == int\n",
    "        print(\"정상입니다\")\n",
    "    else:\n",
    "        print(\"다시 작성하세요\")\n",
    "        \n",
    "        ## 작성덜함"
   ]
  },
  {
   "cell_type": "code",
   "execution_count": null,
   "id": "0b97fdf3",
   "metadata": {},
   "outputs": [],
   "source": [
    "def check_num(num):\n",
    "    if len(num) != 14:\n",
    "        print(\"정상적인 주민등록 번호가 아닙니다\")\n",
    "\n",
    "    else:\n",
    "        num_list = num.split('-')\n",
    "        if len(num_list[0]) == 6 and len(num_list[1]) ==7:\n",
    "            if num_list[0].isdigit() == True and num_list[1].isdigit() == True\n",
    "                print(\"주민등록 번호가 정상적으로 입력 되었습니다\")\n",
    "                \n",
    "                \n",
    "                print(\"정상적인 주민등록 번호가 아닙니다.\")\n",
    "                \n",
    "                ##작성덜함"
   ]
  },
  {
   "cell_type": "code",
   "execution_count": 48,
   "id": "cb119219",
   "metadata": {},
   "outputs": [
    {
     "data": {
      "text/plain": [
       "False"
      ]
     },
     "execution_count": 48,
     "metadata": {},
     "output_type": "execute_result"
    }
   ],
   "source": [
    "is_valid = lambda x: len(x)== 14 and all(map(lambda d: d.isdigit() and (len(d[0])==6 or len(d[1]) == 7), x.split(\"-\")))\n",
    "\n",
    "is_valid(\"850101-1234567\")"
   ]
  },
  {
   "cell_type": "code",
   "execution_count": 57,
   "id": "74b33a1a",
   "metadata": {},
   "outputs": [
    {
     "name": "stdout",
     "output_type": "stream",
     "text": [
      "850101-*******\n"
     ]
    },
    {
     "data": {
      "text/plain": [
       "True"
      ]
     },
     "execution_count": 57,
     "metadata": {},
     "output_type": "execute_result"
    }
   ],
   "source": [
    "data=\"850101-1234567\"\n",
    "def valid(id_num):\n",
    "    if len(id_num)==14:\n",
    "        id_num=id_num.split('-')\n",
    "        if len(id_num)==2:\n",
    "            if id_num[0].isdigit():\n",
    "                if id_num[1].isdigit():\n",
    "                    print(data[:6]+\"-\"+\"*******\")\n",
    "                    return True\n",
    "    return False\n",
    "valid(data)"
   ]
  },
  {
   "cell_type": "code",
   "execution_count": 56,
   "id": "fb7a789e",
   "metadata": {},
   "outputs": [
    {
     "data": {
      "text/plain": [
       "'850101-*******'"
      ]
     },
     "execution_count": 56,
     "metadata": {},
     "output_type": "execute_result"
    }
   ],
   "source": [
    "data=\"850101=1234567\"\n",
    "#data[7:]\n",
    "data[:6]+\"-\"+\"*******\""
   ]
  },
  {
   "cell_type": "code",
   "execution_count": null,
   "id": "84dddf0b",
   "metadata": {},
   "outputs": [],
   "source": [
    "정규표현식은 문자열의 패턴(규칙)에 대한 표현식을 작성"
   ]
  },
  {
   "cell_type": "code",
   "execution_count": 64,
   "id": "2efc42ca",
   "metadata": {},
   "outputs": [
    {
     "data": {
      "text/plain": [
       "'850101-*******'"
      ]
     },
     "execution_count": 64,
     "metadata": {},
     "output_type": "execute_result"
    }
   ],
   "source": [
    "import re\n",
    "data=\"850101-1234567\"\n",
    "pat=re.compile(\"(\\d{6})-\\d{7}\")\n",
    "pat.sub(\"\\g<1>-*******\", data)"
   ]
  },
  {
   "cell_type": "code",
   "execution_count": 67,
   "id": "0956066c",
   "metadata": {},
   "outputs": [],
   "source": [
    "#re.match(\"패턴\", \"문자열\") #문자열에 패턴이 있는지 확인\n",
    "re.match(\"hi\", \"hi hello world\") #\"hi hello world\"에 \"hi\"이 있는지 판단\n",
    "#패턴이 문자열에 있는 경우에는 매치된 패턴과 위치가 출력\n",
    "\n",
    "#match함수는 문자열의 최좌측부터 시작하여 패턴이 있는지 확인\n",
    "#처음부터 패턴이 문자열에 없다면 종료\n",
    "re.match(\"hello\", \"hi hello world\") #hi hello world\"에 \"hello\"패턴이 있는지 판단"
   ]
  },
  {
   "cell_type": "code",
   "execution_count": 68,
   "id": "df3338d7",
   "metadata": {},
   "outputs": [
    {
     "data": {
      "text/plain": [
       "<re.Match object; span=(0, 5), match='hello'>"
      ]
     },
     "execution_count": 68,
     "metadata": {},
     "output_type": "execute_result"
    }
   ],
   "source": [
    "#패턴이 문자열에 없다면 곧바로 종료\n",
    "#패턴이 문자열에 있다면 매치된 문자열이 출력\n",
    "re.match(\"hello\",\"hello world\")"
   ]
  },
  {
   "cell_type": "code",
   "execution_count": 76,
   "id": "2b314fce",
   "metadata": {},
   "outputs": [
    {
     "name": "stdout",
     "output_type": "stream",
     "text": [
      "None\n",
      "None\n",
      "<re.Match object; span=(0, 5), match='hello'>\n",
      "None\n"
     ]
    }
   ],
   "source": [
    "#re.match(\"패턴\", \"문자열\")\n",
    "print(re.match(\"hello\",\"hehllo world\")) #매치 안됨\n",
    "print(re.match(\"hello\",\"1hello world\")) #매치 안됨\n",
    "print(re.match(\"hello\",\"hello world\"))\n",
    "\n",
    "print(re.match(\"hello!\",\"hellohello world\"))"
   ]
  },
  {
   "cell_type": "code",
   "execution_count": null,
   "id": "a36e2135",
   "metadata": {},
   "outputs": [],
   "source": [
    "#정규표현식 메타문자()\n",
    "\n",
    "메타 데이터 : 데이터를 표현(설명)하는 데이터\n",
    "\n",
    "메타 문자 : 기호가 갖는 고유의 의미가 아닌, 정규표현식에서 식을 정의하는데\n",
    "    사용되는 특별한 의미의 문자(기호)\n",
    "메타 문자 종류 : () [] {} \\ | ? + * ^ $...\n",
    "    \n",
    "#메타버스? Meta-verse\n"
   ]
  },
  {
   "cell_type": "code",
   "execution_count": null,
   "id": "03c5cb6b",
   "metadata": {},
   "outputs": [],
   "source": [
    "\"\"\"\n",
    "#1. [] :  모든 문자가 대괄호 안에 올 수 있음\n",
    "ex) [abcde] : a,b,c,d,e 중에서 한 개의 문자와 매치\n",
    "\n",
    "\n",
    "\"\"\""
   ]
  },
  {
   "cell_type": "code",
   "execution_count": 90,
   "id": "7fc947bc",
   "metadata": {},
   "outputs": [
    {
     "name": "stdout",
     "output_type": "stream",
     "text": [
      "<re.Match object; span=(0, 1), match='a'>\n",
      "<re.Match object; span=(0, 1), match='e'>\n",
      "<re.Match object; span=(0, 1), match='a'>\n",
      "<re.Match object; span=(0, 1), match='a'>\n",
      "<re.Match object; span=(0, 4), match='abcd'>\n",
      "None\n",
      "<re.Match object; span=(0, 1), match='a'>\n",
      "<re.Match object; span=(0, 4), match='abcd'>\n",
      "<re.Match object; span=(0, 2), match='ab'>\n",
      "None\n"
     ]
    }
   ],
   "source": [
    "print(re.match(\"[abcde]\",\"a\"))\n",
    "print(re.match(\"[abcde]\",\"e\"))\n",
    "print(re.match(\"[abcde]\",\"ab\"))\n",
    "print(re.match(\"[abcde]\",\"abcd\"))\n",
    "print(re.match(\"[abcde]+\",\"abcd\")) #+는 한 문자 이상과 매치되는지 검사\n",
    "print(re.match(\"abcde+\",\"abcd\"))\n",
    "print(re.match(\"[decab]\",\"abcd\")) #1개의 문자에 대해서만 매치여부 확인, 순서없\n",
    "print(re.match(\"[decab]+\",\"abcd\"))\n",
    "print(re.match(\"[decab]+\",\"abfcd\")) #매치가 안되면 끝난시점에서 뒤는 검사안함\n",
    "print(re.match(\"[decab]+\",\"fabfcd\"))"
   ]
  },
  {
   "cell_type": "code",
   "execution_count": 89,
   "id": "a94351d5",
   "metadata": {},
   "outputs": [
    {
     "name": "stdout",
     "output_type": "stream",
     "text": [
      "None\n",
      "None\n",
      "<re.Match object; span=(0, 1), match='a'>\n"
     ]
    }
   ],
   "source": [
    "print(re.match(\"[abcd]+\",\"sky\"))\n",
    "print(re.match(\"[abcd]+\",\"saky\"))\n",
    "print(re.match(\"[abcd]+\",\"all\"))"
   ]
  },
  {
   "cell_type": "code",
   "execution_count": 99,
   "id": "f47b6737",
   "metadata": {},
   "outputs": [
    {
     "name": "stdout",
     "output_type": "stream",
     "text": [
      "<re.Match object; span=(0, 3), match='all'>\n",
      "<re.Match object; span=(0, 3), match='120'>\n",
      "<re.Match object; span=(0, 6), match='123225'>\n",
      "<re.Match object; span=(0, 5), match='HELLO'>\n",
      "<re.Match object; span=(0, 7), match='HELLO W'>\n",
      "<re.Match object; span=(0, 11), match='HELLO World'>\n"
     ]
    }
   ],
   "source": [
    "#영문자 소문자만 오면 모두 매치\n",
    "print(re.match(\"[a-z]+\",\"all\"))\n",
    "print(re.match(\"[10842]+\",\"120348\"))\n",
    "print(re.match(\"[0-9]+\",\"123225\"))\n",
    "print(re.match(\"[A-Z]+\",\"HELLO World\"))\n",
    "print(re.match(\"[A-Z ]+\",\"HELLO World\")) #공백을 넣으면 공백도 인식\n",
    "print(re.match(\"[A-Z a-z]+\",\"HELLO World\"))  "
   ]
  },
  {
   "cell_type": "code",
   "execution_count": 106,
   "id": "498a5730",
   "metadata": {},
   "outputs": [
    {
     "name": "stdout",
     "output_type": "stream",
     "text": [
      "<re.Match object; span=(0, 1), match='가'>\n",
      "<re.Match object; span=(0, 5), match='가다나가다'>\n",
      "<re.Match object; span=(0, 7), match='가다나가다라다'>\n",
      "<re.Match object; span=(0, 7), match='가다나가다라다'>\n",
      "<re.Match object; span=(0, 5), match='호에앵ㅋㅋ'>\n"
     ]
    }
   ],
   "source": [
    "print(re.match(\"[가나다]\",\"가다나가다라다\"))\n",
    "print(re.match(\"[가나다]+\",\"가다나가다라다\"))\n",
    "print(re.match(\"[라가나다]+\",\"가다나가다라다\"))\n",
    "print(re.match(\"[카라가나다]+\",\"가다나가다라다\"))\n",
    "print(re.match(\"[가-힣ㄱ-ㅎ]+\",\"호에앵ㅋㅋ\")) #가-힣 : 한글문자 전체를 나타냄"
   ]
  },
  {
   "cell_type": "code",
   "execution_count": 109,
   "id": "d7cae69c",
   "metadata": {},
   "outputs": [
    {
     "name": "stdout",
     "output_type": "stream",
     "text": [
      "<re.Match object; span=(0, 10), match='*&%$#$가나다 '>\n",
      "<re.Match object; span=(0, 6), match='*&%$#$'>\n"
     ]
    }
   ],
   "source": [
    "print(re.match(\"[^0-9]+\",\"*&%$#$가나다 8721344^%$#\")) #^ : 제외할때 사용\n",
    "#숫자가 아니면 매치\n",
    "print(re.match(\"[^ 0-9ㄱ-힣a-zA-Z]+\",\"*&%$#$가나다 8721344^%$#\"))"
   ]
  },
  {
   "cell_type": "code",
   "execution_count": null,
   "id": "03e0066a",
   "metadata": {},
   "outputs": [],
   "source": [
    "# [a-z]\n",
    "# [A-Z]\n",
    "# [a-zA-Z]\n",
    "# [0-9] == \\d\n",
    "# [^0-9] == \\D 숫자를 제외한 모든 문자\n",
    "# [0-9A-Za-z] == \\w\n",
    "# [0-9A-Za-z] == \\W\n",
    "# [ \\t\\n\\r] == \\s\n",
    "# [^ \\t\\n\\r] == \\s"
   ]
  },
  {
   "cell_type": "code",
   "execution_count": null,
   "id": "2ef24905",
   "metadata": {},
   "outputs": [],
   "source": []
  },
  {
   "cell_type": "code",
   "execution_count": 111,
   "id": "25fe5781",
   "metadata": {},
   "outputs": [
    {
     "name": "stdout",
     "output_type": "stream",
     "text": [
      "<re.Match object; span=(0, 5), match='hello'>\n",
      "None\n"
     ]
    }
   ],
   "source": [
    "print(re.match(\"hello\",\"hello world\"))\n",
    "print(re.match(\"hello\",\"world hello world\"))"
   ]
  },
  {
   "cell_type": "code",
   "execution_count": 115,
   "id": "40d8faad",
   "metadata": {},
   "outputs": [
    {
     "name": "stdout",
     "output_type": "stream",
     "text": [
      "<re.Match object; span=(0, 5), match='hello'>\n",
      "<re.Match object; span=(6, 11), match='hello'>\n",
      "<re.Match object; span=(1, 2), match='o'>\n"
     ]
    }
   ],
   "source": [
    "print(re.search(\"hello\",\"hello world\"))\n",
    "print(re.search(\"hello\",\"world hello world\"))\n",
    "print(re.search(\"[helo]+\",\"world hello world\"))"
   ]
  },
  {
   "cell_type": "code",
   "execution_count": 117,
   "id": "66ccf2e0",
   "metadata": {},
   "outputs": [],
   "source": [
    "re.search(\"hi\", \"hello, hi\")\n",
    "re.search(\"^hi\", \"hello, hi\")\n",
    "# ^ : ~시작하는지 판단, ^hi : hi로 시작하는 문자열\n",
    "# $ : ~끝나는지 판단, hi$ : hi로 끝나는 문자열"
   ]
  },
  {
   "cell_type": "code",
   "execution_count": 122,
   "id": "66aa986c",
   "metadata": {},
   "outputs": [
    {
     "name": "stdout",
     "output_type": "stream",
     "text": [
      "<re.Match object; span=(7, 9), match='hi'>\n",
      "None\n",
      "<re.Match object; span=(0, 5), match='hello'>\n",
      "<re.Match object; span=(7, 9), match='hi'>\n",
      "<re.Match object; span=(0, 2), match='he'>\n",
      "<re.Match object; span=(0, 2), match='hi'>\n"
     ]
    }
   ],
   "source": [
    "print(re.search(\"hi\", \"hello, hi\"))\n",
    "print(re.search(\"^hi\", \"hello, hi\"))\n",
    "print(re.search(\"^hello\", \"hello, hi\"))\n",
    "print(re.search(\"hi$\", \"hello, hi\"))\n",
    "\n",
    "print(re.search(\"hi|he\", \"hello, hi\")) # | : or\n",
    "\n",
    "print(re.search(\"hi|he|good|hello\", \"hi hello\"))\n"
   ]
  },
  {
   "cell_type": "code",
   "execution_count": null,
   "id": "97faef2b",
   "metadata": {},
   "outputs": [],
   "source": [
    "# * : 0개 이상 있는지 판단\n",
    "# + : 1개 이상 있는지 판단"
   ]
  },
  {
   "cell_type": "code",
   "execution_count": 128,
   "id": "56d19ee8",
   "metadata": {},
   "outputs": [
    {
     "name": "stdout",
     "output_type": "stream",
     "text": [
      "None\n",
      "문자열이 패턴식에 매치가 됐습니다\n"
     ]
    }
   ],
   "source": [
    "print(re.match(\"[0-9]\", \"x12a3b\"))\n",
    "\n",
    "#re.match(\"[0-9]+\", \"12a3b\")\n",
    "\n",
    "#re.match(\"[0-9]+\", \"x12a3b\")\n",
    "res=re.match(\"[0-9]\", \"12a3b\")\n",
    "if res:\n",
    "    print(\"문자열이 패턴식에 매치가 됐습니다\")\n",
    "else:\n",
    "    print(\"매치되지 않았습니다\")"
   ]
  },
  {
   "cell_type": "code",
   "execution_count": null,
   "id": "07f8765b",
   "metadata": {},
   "outputs": [],
   "source": [
    "# x=None\n",
    "# if x:\n",
    "#     print(\"None이 아님\")\n",
    "# else:\n",
    "#     print(\"None\")"
   ]
  },
  {
   "cell_type": "code",
   "execution_count": 133,
   "id": "f2f300f9",
   "metadata": {},
   "outputs": [
    {
     "name": "stdout",
     "output_type": "stream",
     "text": [
      "None\n"
     ]
    }
   ],
   "source": [
    "re.match(\"[0-9]+\", \"12a3b\")\n",
    "print(re.match(\"[0-9]+\", \"a2a3b\")) #None? 매치되지 않았다"
   ]
  },
  {
   "cell_type": "code",
   "execution_count": 134,
   "id": "b6447044",
   "metadata": {},
   "outputs": [
    {
     "name": "stdout",
     "output_type": "stream",
     "text": [
      "<re.Match object; span=(0, 2), match='12'>\n",
      "<re.Match object; span=(0, 0), match=''>\n"
     ]
    }
   ],
   "source": [
    "#* : 0개 이상이 매치되는지 확인\n",
    "print(re.match(\"[0-9]*\", \"12a3b\")) #0~9까지의 숫자가 0개 이상 매치되는지 확인\n",
    "print(re.match(\"[0-9]*\", \"a12a3b\")) #0개가 매치됐으므로 객체가 출력"
   ]
  },
  {
   "cell_type": "code",
   "execution_count": 138,
   "id": "e19f61fb",
   "metadata": {},
   "outputs": [
    {
     "name": "stdout",
     "output_type": "stream",
     "text": [
      "<re.Match object; span=(0, 1), match='a'>\n",
      "<re.Match object; span=(0, 0), match=''>\n",
      "None\n"
     ]
    }
   ],
   "source": [
    "print(re.match(\"[a-z]*\", \"a12a3b\"))\n",
    "print(re.match(\"[a-z]*\", \"12a3b\"))\n",
    "print(re.match(\"    [a-z]+\", \"12a3b\"))"
   ]
  },
  {
   "cell_type": "code",
   "execution_count": 146,
   "id": "ffc6a8d6",
   "metadata": {},
   "outputs": [
    {
     "name": "stdout",
     "output_type": "stream",
     "text": [
      "<re.Match object; span=(0, 1), match='b'>\n",
      "None\n",
      "<re.Match object; span=(0, 8), match='aaaaaaab'>\n",
      "<re.Match object; span=(0, 8), match='aaaaaaab'>\n",
      "<re.Match object; span=(0, 7), match='aaaaaaa'>\n"
     ]
    }
   ],
   "source": [
    "# print(re.match(\"a\", \"b\"))\n",
    "# print(re.match(\"a\", \"ab\"))\n",
    "# print(re.match(\"a\", \"ba\"))\n",
    "# print(re.match(\"a*\", \"ba\"))\n",
    "# print(re.match(\"a*\", \"b\"))\n",
    "# print(re.match(\"a*\", \"aaaaaaaaaaaaaaaaaab\"))\n",
    "\n",
    "# print(re.match(\"a+\", \"b\"))\n",
    "# print(re.match(\"a+\", \"ab\"))\n",
    "# print(re.match(\"a+\", \"aaaaaaaaaaaaab\"))\n",
    "\n",
    "print(re.match(\"a*b\", \"b\")) #a가 0개 이상 나온 후 이어서 b가 나와야함\n",
    "print(re.match(\"a*b\", \"aaaaaaa\")) #\n",
    "print(re.match(\"a*b\", \"aaaaaaabbbbb\")) # \n",
    "\n",
    "print(re.match(\"a+b\", \"aaaaaaabbbbb\"))\n",
    "print(re.match(\"a+b*\", \"aaaaaaa\"))\n"
   ]
  },
  {
   "cell_type": "code",
   "execution_count": 150,
   "id": "10b586bf",
   "metadata": {},
   "outputs": [
    {
     "data": {
      "text/plain": [
       "<re.Match object; span=(0, 9), match='가고싶은12입니다'>"
      ]
     },
     "execution_count": 150,
     "metadata": {},
     "output_type": "execute_result"
    }
   ],
   "source": [
    "re.search(\"[가-힣]+[0-9]+입니다\", \"가고싶은100입니다\")\n",
    "re.search(\"[가-힣]+[0-9]+입니다\", \"가고싶은12입니다\")\n",
    "\n"
   ]
  },
  {
   "cell_type": "code",
   "execution_count": 159,
   "id": "0c839784",
   "metadata": {},
   "outputs": [
    {
     "data": {
      "text/plain": [
       "['100', '200']"
      ]
     },
     "execution_count": 159,
     "metadata": {},
     "output_type": "execute_result"
    }
   ],
   "source": [
    "s=\"가나다 100 라마바 200\"\n",
    "#s에서 숫자를 추출\n",
    "#re.match(패턴식, s)\n",
    "\n",
    "#res=re.search(\"[0-9]+\", s)\n",
    "#res.group() #결과값 뽑아낼수있음\n",
    "\n",
    "# res=re.search(\"\\d+\", s)\n",
    "# res.group()\n",
    "\n",
    "re.findall(\"[0-9]+\", s)\n",
    "re.findall(\"\\d+\", s)\n",
    "#len(re.findall(\"\\d+\", s))\n"
   ]
  },
  {
   "cell_type": "code",
   "execution_count": 163,
   "id": "e355cd8e",
   "metadata": {},
   "outputs": [
    {
     "data": {
      "text/plain": [
       "['27.3도']"
      ]
     },
     "execution_count": 163,
     "metadata": {},
     "output_type": "execute_result"
    }
   ],
   "source": [
    "# 3.14\n",
    "# 27.3\n",
    "# 36\n",
    "\n",
    "#나이\n",
    "#re.findall(\"[0-9]+세\", \"20세 3.14 27.3도 36세\")\n",
    "\n",
    "#도\n",
    "re.findall(\"[0-9.]+도\", \"20세 3.14 27.3도 36세 39도 38.5도\")"
   ]
  },
  {
   "cell_type": "code",
   "execution_count": 164,
   "id": "1a294f69",
   "metadata": {},
   "outputs": [],
   "source": [
    "news=\"\"\"\n",
    "뜨거운 열기가 계속 쌓여만 가는 느낌인데요.\n",
    "\n",
    "현재 서울 기온은 34.5도까지 치솟으며 하루 만에 올여름 최고 기온을 경신했습니다.\n",
    "\n",
    "특히 비공식 기온이지만 서울 강북구 수유동은 무려 37.2도까지 치솟으며 사람 체온을 웃돌고 있습니다.\n",
    "\n",
    "반면, 대기 불안정으로 동쪽 지방은 호우특보 속에 요란한 소나기가 쏟아지고 있는데요.\n",
    "\n",
    "시설물 관리와 안전사고에 주의하셔야겠습니다.\n",
    "\n",
    "전국 대부분 지역에 폭염특보가 계속되는 가운데, 현재 전국에서 가장 더운 곳은 경기도 안성으로, 양성면의 기온이 37.7도까지 치솟았는데요.\n",
    "\n",
    "서울도 체감 35도 안팎의 찜통더위가 계속되고 있습니다.\n",
    "\n",
    "찌는 듯한 더위 속에 대기 불안정이 심해지면서 동쪽 내륙을 중심으로는 강한 소나기 구름이 발달하고 있는데요.\n",
    "\n",
    "강원 남부 내륙과 전북 동부에 호우특보가 내려진 가운데, 내일 새벽까지 돌풍과 벼락을 동반한 시간당 50mm 이상의 장대비가 쏟아지며, 100mm 이상의 강우량을 기록하는 곳도 있겠습니다.\n",
    "\n",
    "피해 없도록 주변 점검 철저히 해주시기 바랍니다.\n",
    "\n",
    "내일과 모레도 무더위 속에 기습적인 소나기가 지나겠고요, 일요일 전국에 비가 내린 뒤 다음 주에는 더 심한 더위가 찾아오겠습니다.\n",
    "\n",
    "연일 계속되는 무더위에 온열 질환에 걸릴 가능성도 커지고 있습니다.\n",
    "\n",
    "볕이 강한 오후 2~5시 사이 장시간의 야외 활동은 자제하시는 게 좋겠습니다.\n",
    "\n",
    "YTN 신미림입니다.\n",
    "\"\"\""
   ]
  },
  {
   "cell_type": "code",
   "execution_count": 165,
   "id": "86e406f1",
   "metadata": {},
   "outputs": [
    {
     "data": {
      "text/plain": [
       "'\\n뜨거운 열기가 계속 쌓여만 가는 느낌인데요.\\n\\n현재 서울 기온은 34.5도까지 치솟으며 하루 만에 올여름 최고 기온을 경신했습니다.\\n\\n특히 비공식 기온이지만 서울 강북구 수유동은 무려 37.2도까지 치솟으며 사람 체온을 웃돌고 있습니다.\\n\\n반면, 대기 불안정으로 동쪽 지방은 호우특보 속에 요란한 소나기가 쏟아지고 있는데요.\\n\\n시설물 관리와 안전사고에 주의하셔야겠습니다.\\n\\n전국 대부분 지역에 폭염특보가 계속되는 가운데, 현재 전국에서 가장 더운 곳은 경기도 안성으로, 양성면의 기온이 37.7도까지 치솟았는데요.\\n\\n서울도 체감 35도 안팎의 찜통더위가 계속되고 있습니다.\\n\\n찌는 듯한 더위 속에 대기 불안정이 심해지면서 동쪽 내륙을 중심으로는 강한 소나기 구름이 발달하고 있는데요.\\n\\n강원 남부 내륙과 전북 동부에 호우특보가 내려진 가운데, 내일 새벽까지 돌풍과 벼락을 동반한 시간당 50mm 이상의 장대비가 쏟아지며, 100mm 이상의 강우량을 기록하는 곳도 있겠습니다.\\n\\n피해 없도록 주변 점검 철저히 해주시기 바랍니다.\\n\\n내일과 모레도 무더위 속에 기습적인 소나기가 지나겠고요, 일요일 전국에 비가 내린 뒤 다음 주에는 더 심한 더위가 찾아오겠습니다.\\n\\n연일 계속되는 무더위에 온열 질환에 걸릴 가능성도 커지고 있습니다.\\n\\n볕이 강한 오후 2~5시 사이 장시간의 야외 활동은 자제하시는 게 좋겠습니다.\\n\\nYTN 신미림입니다.\\n'"
      ]
     },
     "execution_count": 165,
     "metadata": {},
     "output_type": "execute_result"
    }
   ],
   "source": [
    "news"
   ]
  },
  {
   "cell_type": "code",
   "execution_count": null,
   "id": "6ca83eca",
   "metadata": {},
   "outputs": [],
   "source": [
    "re.findall(\"[0-9.]+도\") ,mm로 "
   ]
  },
  {
   "cell_type": "code",
   "execution_count": null,
   "id": "452ee6b4",
   "metadata": {},
   "outputs": [],
   "source": []
  },
  {
   "cell_type": "code",
   "execution_count": null,
   "id": "95447733",
   "metadata": {},
   "outputs": [],
   "source": []
  },
  {
   "cell_type": "code",
   "execution_count": null,
   "id": "bb2ad552",
   "metadata": {},
   "outputs": [],
   "source": []
  },
  {
   "cell_type": "code",
   "execution_count": null,
   "id": "e335ca15",
   "metadata": {},
   "outputs": [],
   "source": []
  },
  {
   "cell_type": "code",
   "execution_count": null,
   "id": "4a54ad36",
   "metadata": {},
   "outputs": [],
   "source": []
  },
  {
   "cell_type": "code",
   "execution_count": null,
   "id": "e3992db7",
   "metadata": {},
   "outputs": [],
   "source": []
  },
  {
   "cell_type": "code",
   "execution_count": null,
   "id": "018eb125",
   "metadata": {},
   "outputs": [],
   "source": []
  },
  {
   "cell_type": "code",
   "execution_count": null,
   "id": "71e162b4",
   "metadata": {},
   "outputs": [],
   "source": []
  },
  {
   "cell_type": "code",
   "execution_count": null,
   "id": "5f09c5d6",
   "metadata": {},
   "outputs": [],
   "source": []
  },
  {
   "cell_type": "code",
   "execution_count": null,
   "id": "c4c26a2c",
   "metadata": {},
   "outputs": [],
   "source": []
  }
 ],
 "metadata": {
  "kernelspec": {
   "display_name": "Python 3",
   "language": "python",
   "name": "python3"
  },
  "language_info": {
   "codemirror_mode": {
    "name": "ipython",
    "version": 3
   },
   "file_extension": ".py",
   "mimetype": "text/x-python",
   "name": "python",
   "nbconvert_exporter": "python",
   "pygments_lexer": "ipython3",
   "version": "3.8.8"
  }
 },
 "nbformat": 4,
 "nbformat_minor": 5
}
