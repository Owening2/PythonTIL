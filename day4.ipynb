{
 "cells": [
  {
   "cell_type": "code",
   "execution_count": 3,
   "id": "563b67a1",
   "metadata": {},
   "outputs": [],
   "source": [
    "#insert함수: 리스트내의 특정 위치에 데이터를 삽입\n",
    "a=[10,20,30]\n",
    "a.append(100)"
   ]
  },
  {
   "cell_type": "code",
   "execution_count": 4,
   "id": "21f08278",
   "metadata": {},
   "outputs": [
    {
     "data": {
      "text/plain": [
       "[10, 20, 30, 100]"
      ]
     },
     "execution_count": 4,
     "metadata": {},
     "output_type": "execute_result"
    }
   ],
   "source": [
    "a"
   ]
  },
  {
   "cell_type": "code",
   "execution_count": 5,
   "id": "d6680166",
   "metadata": {},
   "outputs": [],
   "source": [
    "a.insert(1, 15)"
   ]
  },
  {
   "cell_type": "code",
   "execution_count": 6,
   "id": "5bbefd7a",
   "metadata": {},
   "outputs": [
    {
     "data": {
      "text/plain": [
       "[10, 15, 20, 30, 100]"
      ]
     },
     "execution_count": 6,
     "metadata": {},
     "output_type": "execute_result"
    }
   ],
   "source": [
    "a"
   ]
  },
  {
   "cell_type": "code",
   "execution_count": 7,
   "id": "7d8f97e0",
   "metadata": {},
   "outputs": [
    {
     "data": {
      "text/plain": [
       "[10, 15, 20, 30, 100, [50, 60]]"
      ]
     },
     "execution_count": 7,
     "metadata": {},
     "output_type": "execute_result"
    }
   ],
   "source": [
    "a.append([50,60])\n",
    "a"
   ]
  },
  {
   "cell_type": "code",
   "execution_count": 8,
   "id": "3351f247",
   "metadata": {},
   "outputs": [
    {
     "data": {
      "text/plain": [
       "[10, 15, 20, 30, 100, [50, 60], 70, 80]"
      ]
     },
     "execution_count": 8,
     "metadata": {},
     "output_type": "execute_result"
    }
   ],
   "source": [
    "a.extend([70,80])\n",
    "a"
   ]
  },
  {
   "cell_type": "code",
   "execution_count": 9,
   "id": "bb9a199d",
   "metadata": {},
   "outputs": [],
   "source": [
    "a=[10,20,10,20]"
   ]
  },
  {
   "cell_type": "code",
   "execution_count": 10,
   "id": "a4c08b8b",
   "metadata": {},
   "outputs": [],
   "source": [
    "#remove : 첫번째 데이터만 삭제\n",
    "a.remove(10)"
   ]
  },
  {
   "cell_type": "code",
   "execution_count": 11,
   "id": "e3f79a1d",
   "metadata": {},
   "outputs": [
    {
     "data": {
      "text/plain": [
       "[20, 10, 20]"
      ]
     },
     "execution_count": 11,
     "metadata": {},
     "output_type": "execute_result"
    }
   ],
   "source": [
    "a"
   ]
  },
  {
   "cell_type": "code",
   "execution_count": 12,
   "id": "2504ef73",
   "metadata": {},
   "outputs": [],
   "source": [
    "a.remove(10)"
   ]
  },
  {
   "cell_type": "code",
   "execution_count": 13,
   "id": "c29d8c6d",
   "metadata": {},
   "outputs": [
    {
     "data": {
      "text/plain": [
       "[20, 20]"
      ]
     },
     "execution_count": 13,
     "metadata": {},
     "output_type": "execute_result"
    }
   ],
   "source": [
    "a"
   ]
  },
  {
   "cell_type": "code",
   "execution_count": 22,
   "id": "cb4e670c",
   "metadata": {},
   "outputs": [],
   "source": [
    "a=[10,20,30]"
   ]
  },
  {
   "cell_type": "code",
   "execution_count": 23,
   "id": "e0428f80",
   "metadata": {},
   "outputs": [],
   "source": [
    "#pop : 가장 마지막 요소를 제거\n",
    "\n",
    "#a.pop() #가장 마지막 요소를 꺼낸다음 제거\n",
    "data=a.pop()"
   ]
  },
  {
   "cell_type": "code",
   "execution_count": 24,
   "id": "4937c68c",
   "metadata": {},
   "outputs": [
    {
     "data": {
      "text/plain": [
       "30"
      ]
     },
     "execution_count": 24,
     "metadata": {},
     "output_type": "execute_result"
    }
   ],
   "source": [
    "data"
   ]
  },
  {
   "cell_type": "code",
   "execution_count": 25,
   "id": "07c50789",
   "metadata": {},
   "outputs": [
    {
     "data": {
      "text/plain": [
       "[10, 20]"
      ]
     },
     "execution_count": 25,
     "metadata": {},
     "output_type": "execute_result"
    }
   ],
   "source": [
    "a"
   ]
  },
  {
   "cell_type": "code",
   "execution_count": 26,
   "id": "b592cf79",
   "metadata": {},
   "outputs": [],
   "source": [
    "a=[10,20,30]"
   ]
  },
  {
   "cell_type": "code",
   "execution_count": 27,
   "id": "3a2e6268",
   "metadata": {},
   "outputs": [
    {
     "data": {
      "text/plain": [
       "20"
      ]
     },
     "execution_count": 27,
     "metadata": {},
     "output_type": "execute_result"
    }
   ],
   "source": [
    "a.pop(1)"
   ]
  },
  {
   "cell_type": "code",
   "execution_count": 28,
   "id": "aadf4481",
   "metadata": {},
   "outputs": [
    {
     "data": {
      "text/plain": [
       "[10, 30]"
      ]
     },
     "execution_count": 28,
     "metadata": {},
     "output_type": "execute_result"
    }
   ],
   "source": [
    "a"
   ]
  },
  {
   "cell_type": "code",
   "execution_count": 29,
   "id": "97f401f6",
   "metadata": {},
   "outputs": [],
   "source": [
    "# 튜플? 리스트와 거의 비슷.\n",
    "# 리스트 : [] 튜플 : ()\n",
    "# 리스트는 데이터를 생성, 수정, 삭제 등 수행\n",
    "# 튜플은 데이터를 변경할 수 없음"
   ]
  },
  {
   "cell_type": "code",
   "execution_count": 37,
   "id": "a4a808b0",
   "metadata": {},
   "outputs": [
    {
     "data": {
      "text/plain": [
       "(1, 2)"
      ]
     },
     "execution_count": 37,
     "metadata": {},
     "output_type": "execute_result"
    }
   ],
   "source": [
    "tup1=()\n",
    "tup1\n",
    "type(tup1)\n",
    "\n",
    "tup2=(1)\n",
    "tup2\n",
    "type(tup2) #int형으로 출력, 그래서 ()가 필요없음\n",
    "\n",
    "tup2=(1,)\n",
    "tup2\n",
    "type(tup2)\n",
    "\n",
    "tup3=(10,20,30)\n",
    "tup3\n",
    "\n",
    "tup4=1,2\n",
    "tup4\n"
   ]
  },
  {
   "cell_type": "code",
   "execution_count": 38,
   "id": "be9e059a",
   "metadata": {},
   "outputs": [
    {
     "ename": "TypeError",
     "evalue": "'tuple' object does not support item assignment",
     "output_type": "error",
     "traceback": [
      "\u001b[1;31m---------------------------------------------------------------------------\u001b[0m",
      "\u001b[1;31mTypeError\u001b[0m                                 Traceback (most recent call last)",
      "\u001b[1;32m<ipython-input-38-e7985aeef596>\u001b[0m in \u001b[0;36m<module>\u001b[1;34m\u001b[0m\n\u001b[0;32m      5\u001b[0m \u001b[1;31m#tup4[1]=3\u001b[0m\u001b[1;33m\u001b[0m\u001b[1;33m\u001b[0m\u001b[1;33m\u001b[0m\u001b[0m\n\u001b[0;32m      6\u001b[0m \u001b[1;33m\u001b[0m\u001b[0m\n\u001b[1;32m----> 7\u001b[1;33m \u001b[0mtup4\u001b[0m\u001b[1;33m[\u001b[0m\u001b[1;36m3\u001b[0m\u001b[1;33m]\u001b[0m\u001b[1;33m=\u001b[0m\u001b[1;36m3\u001b[0m\u001b[1;33m\u001b[0m\u001b[1;33m\u001b[0m\u001b[0m\n\u001b[0m",
      "\u001b[1;31mTypeError\u001b[0m: 'tuple' object does not support item assignment"
     ]
    }
   ],
   "source": [
    "#에러 발생의 경우\n",
    "\n",
    "#del tup4[0]\n",
    "\n",
    "#tup4[1]=3\n",
    "\n",
    "tup4[3]=3"
   ]
  },
  {
   "cell_type": "code",
   "execution_count": 39,
   "id": "b0df2a20",
   "metadata": {},
   "outputs": [
    {
     "data": {
      "text/plain": [
       "(1, 2)"
      ]
     },
     "execution_count": 39,
     "metadata": {},
     "output_type": "execute_result"
    }
   ],
   "source": [
    "tup4"
   ]
  },
  {
   "cell_type": "code",
   "execution_count": 40,
   "id": "c4af3ba0",
   "metadata": {},
   "outputs": [],
   "source": [
    "l4=list(tup4) #튜플 -> 리스트"
   ]
  },
  {
   "cell_type": "code",
   "execution_count": 41,
   "id": "6e9c4db7",
   "metadata": {},
   "outputs": [
    {
     "data": {
      "text/plain": [
       "[1, 3]"
      ]
     },
     "execution_count": 41,
     "metadata": {},
     "output_type": "execute_result"
    }
   ],
   "source": [
    "l4[1]=3\n",
    "l4"
   ]
  },
  {
   "cell_type": "code",
   "execution_count": 43,
   "id": "9662b4f5",
   "metadata": {},
   "outputs": [],
   "source": [
    "tup4=tuple(l4)"
   ]
  },
  {
   "cell_type": "code",
   "execution_count": 45,
   "id": "e4422822",
   "metadata": {},
   "outputs": [
    {
     "data": {
      "text/plain": [
       "(1, 3)"
      ]
     },
     "execution_count": 45,
     "metadata": {},
     "output_type": "execute_result"
    }
   ],
   "source": [
    "tup4"
   ]
  },
  {
   "cell_type": "code",
   "execution_count": 46,
   "id": "c60b064d",
   "metadata": {},
   "outputs": [
    {
     "data": {
      "text/plain": [
       "(10, 20, '가', '나')"
      ]
     },
     "execution_count": 46,
     "metadata": {},
     "output_type": "execute_result"
    }
   ],
   "source": [
    "tup5=(10,20,'가','나')\n",
    "tup5"
   ]
  },
  {
   "cell_type": "code",
   "execution_count": 48,
   "id": "99e80937",
   "metadata": {},
   "outputs": [
    {
     "data": {
      "text/plain": [
       "('가', '나')"
      ]
     },
     "execution_count": 48,
     "metadata": {},
     "output_type": "execute_result"
    }
   ],
   "source": [
    "tup5[3]\n",
    "tup5[2:]"
   ]
  },
  {
   "cell_type": "code",
   "execution_count": 52,
   "id": "591793ca",
   "metadata": {},
   "outputs": [
    {
     "name": "stdout",
     "output_type": "stream",
     "text": [
      "(10, 20, '가', '나')\n",
      "(10, 20, 30)\n"
     ]
    },
    {
     "data": {
      "text/plain": [
       "(10, 20, '가', '나', 10, 20, 30)"
      ]
     },
     "execution_count": 52,
     "metadata": {},
     "output_type": "execute_result"
    }
   ],
   "source": [
    "print(tup5)\n",
    "print(tup3)\n",
    "tup5+tup3"
   ]
  },
  {
   "cell_type": "code",
   "execution_count": 50,
   "id": "cd760d7f",
   "metadata": {},
   "outputs": [
    {
     "data": {
      "text/plain": [
       "[1, 2, 3, 4]"
      ]
     },
     "execution_count": 50,
     "metadata": {},
     "output_type": "execute_result"
    }
   ],
   "source": [
    "li1=[1,2]\n",
    "li2=[3,4]\n",
    "li1+li2"
   ]
  },
  {
   "cell_type": "code",
   "execution_count": 53,
   "id": "0f34c797",
   "metadata": {},
   "outputs": [
    {
     "data": {
      "text/plain": [
       "[1, 2, 1, 2, 1, 2, 1, 2, 1, 2]"
      ]
     },
     "execution_count": 53,
     "metadata": {},
     "output_type": "execute_result"
    }
   ],
   "source": [
    "li1*5"
   ]
  },
  {
   "cell_type": "code",
   "execution_count": 54,
   "id": "613e79ed",
   "metadata": {},
   "outputs": [
    {
     "data": {
      "text/plain": [
       "(10, 20, '가', '나', 10, 20, '가', '나', 10, 20, '가', '나')"
      ]
     },
     "execution_count": 54,
     "metadata": {},
     "output_type": "execute_result"
    }
   ],
   "source": [
    "tup5*3"
   ]
  },
  {
   "cell_type": "code",
   "execution_count": 55,
   "id": "060ed33b",
   "metadata": {},
   "outputs": [
    {
     "data": {
      "text/plain": [
       "2"
      ]
     },
     "execution_count": 55,
     "metadata": {},
     "output_type": "execute_result"
    }
   ],
   "source": [
    "len(li1)"
   ]
  },
  {
   "cell_type": "code",
   "execution_count": 56,
   "id": "ad55222d",
   "metadata": {},
   "outputs": [
    {
     "data": {
      "text/plain": [
       "4"
      ]
     },
     "execution_count": 56,
     "metadata": {},
     "output_type": "execute_result"
    }
   ],
   "source": [
    "len(tup5)"
   ]
  },
  {
   "cell_type": "code",
   "execution_count": 57,
   "id": "fbde9d3a",
   "metadata": {},
   "outputs": [
    {
     "data": {
      "text/plain": [
       "range(0, 5)"
      ]
     },
     "execution_count": 57,
     "metadata": {},
     "output_type": "execute_result"
    }
   ],
   "source": [
    "range(5) #0~4"
   ]
  },
  {
   "cell_type": "code",
   "execution_count": 58,
   "id": "34d9e73b",
   "metadata": {},
   "outputs": [
    {
     "data": {
      "text/plain": [
       "(0, 1, 2, 3, 4)"
      ]
     },
     "execution_count": 58,
     "metadata": {},
     "output_type": "execute_result"
    }
   ],
   "source": [
    "tuple(range(5))"
   ]
  },
  {
   "cell_type": "code",
   "execution_count": 59,
   "id": "83d1d141",
   "metadata": {},
   "outputs": [
    {
     "data": {
      "text/plain": [
       "[0, 1, 2, 3, 4]"
      ]
     },
     "execution_count": 59,
     "metadata": {},
     "output_type": "execute_result"
    }
   ],
   "source": [
    "list(range(5))"
   ]
  },
  {
   "cell_type": "code",
   "execution_count": 60,
   "id": "ff00b404",
   "metadata": {},
   "outputs": [
    {
     "data": {
      "text/plain": [
       "(10, 11, 12, 13, 14)"
      ]
     },
     "execution_count": 60,
     "metadata": {},
     "output_type": "execute_result"
    }
   ],
   "source": [
    "tuple(range(10, 15))"
   ]
  },
  {
   "cell_type": "code",
   "execution_count": 61,
   "id": "7eeb8dfc",
   "metadata": {},
   "outputs": [
    {
     "data": {
      "text/plain": [
       "['d', 'a', 't', 'a']"
      ]
     },
     "execution_count": 61,
     "metadata": {},
     "output_type": "execute_result"
    }
   ],
   "source": [
    "list(\"data\")"
   ]
  },
  {
   "cell_type": "code",
   "execution_count": 62,
   "id": "d8a3abf1",
   "metadata": {},
   "outputs": [
    {
     "data": {
      "text/plain": [
       "('d', 'a', 't', 'a')"
      ]
     },
     "execution_count": 62,
     "metadata": {},
     "output_type": "execute_result"
    }
   ],
   "source": [
    "tuple(\"data\")"
   ]
  },
  {
   "cell_type": "code",
   "execution_count": 63,
   "id": "41c72c05",
   "metadata": {},
   "outputs": [],
   "source": [
    "#set(셋): 파이썬에서 집합을 의미\n",
    "#중괄호, 컴마로 구분"
   ]
  },
  {
   "cell_type": "code",
   "execution_count": 68,
   "id": "b6089beb",
   "metadata": {},
   "outputs": [
    {
     "data": {
      "text/plain": [
       "{1, 2, 3, 'a', 'b', 'c'}"
      ]
     },
     "execution_count": 68,
     "metadata": {},
     "output_type": "execute_result"
    }
   ],
   "source": [
    "s1={1,2,3,1,2,4}\n",
    "s1\n",
    "s2={'hi', 'hello', 'bye', 'hi'}\n",
    "s2 #자료가 랜덤하게 출력, 저장 순서가 없음 => 대괄호 기호를 사용하여\n",
    "#데이터 참조를 할 수 없음\n",
    "\n",
    "# s2 = {'a',3, 'b', 1, 'c', 1, 2, 3}\n",
    "# s2"
   ]
  },
  {
   "cell_type": "code",
   "execution_count": 69,
   "id": "ff5ddb8f",
   "metadata": {},
   "outputs": [
    {
     "ename": "TypeError",
     "evalue": "'set' object is not subscriptable",
     "output_type": "error",
     "traceback": [
      "\u001b[1;31m---------------------------------------------------------------------------\u001b[0m",
      "\u001b[1;31mTypeError\u001b[0m                                 Traceback (most recent call last)",
      "\u001b[1;32m<ipython-input-69-488b890e83a9>\u001b[0m in \u001b[0;36m<module>\u001b[1;34m\u001b[0m\n\u001b[0;32m      1\u001b[0m \u001b[1;31m#리스트나 튜플에서는 데이터 참조시 대괄호([]) 기호를 사용\u001b[0m\u001b[1;33m\u001b[0m\u001b[1;33m\u001b[0m\u001b[1;33m\u001b[0m\u001b[0m\n\u001b[0;32m      2\u001b[0m \u001b[1;31m#리스트변수명[3] : 3번 index 자료 추출\u001b[0m\u001b[1;33m\u001b[0m\u001b[1;33m\u001b[0m\u001b[1;33m\u001b[0m\u001b[0m\n\u001b[1;32m----> 3\u001b[1;33m \u001b[0ms2\u001b[0m\u001b[1;33m[\u001b[0m\u001b[1;36m1\u001b[0m\u001b[1;33m]\u001b[0m\u001b[1;33m\u001b[0m\u001b[1;33m\u001b[0m\u001b[0m\n\u001b[0m",
      "\u001b[1;31mTypeError\u001b[0m: 'set' object is not subscriptable"
     ]
    }
   ],
   "source": [
    "#리스트나 튜플에서는 데이터 참조시 대괄호([]) 기호를 사용\n",
    "#리스트변수명[3] : 3번 index 자료 추출\n",
    "#s2[1] 에러 발생\n"
   ]
  },
  {
   "cell_type": "code",
   "execution_count": 70,
   "id": "cb924d64",
   "metadata": {},
   "outputs": [
    {
     "data": {
      "text/plain": [
       "{'bye', 'hello', 'hi'}"
      ]
     },
     "execution_count": 70,
     "metadata": {},
     "output_type": "execute_result"
    }
   ],
   "source": [
    "s2={'hi', 'hello', 'bye','hi'}\n",
    "s2"
   ]
  },
  {
   "cell_type": "code",
   "execution_count": 76,
   "id": "c485be46",
   "metadata": {},
   "outputs": [
    {
     "data": {
      "text/plain": [
       "False"
      ]
     },
     "execution_count": 76,
     "metadata": {},
     "output_type": "execute_result"
    }
   ],
   "source": [
    "#in 연산자\n",
    "'key' in s2 # -> False\n",
    "'hello' in s2 #-> True\n",
    "\n",
    "#not in 연산자\n",
    "'bye' not in s2"
   ]
  },
  {
   "cell_type": "code",
   "execution_count": 77,
   "id": "b1768f3b",
   "metadata": {},
   "outputs": [
    {
     "data": {
      "text/plain": [
       "{'e', 'h', 'l', 'o'}"
      ]
     },
     "execution_count": 77,
     "metadata": {},
     "output_type": "execute_result"
    }
   ],
   "source": [
    "a=set('hello')\n",
    "a"
   ]
  },
  {
   "cell_type": "code",
   "execution_count": 78,
   "id": "27c8cb8a",
   "metadata": {},
   "outputs": [
    {
     "data": {
      "text/plain": [
       "range(0, 5)"
      ]
     },
     "execution_count": 78,
     "metadata": {},
     "output_type": "execute_result"
    }
   ],
   "source": [
    "range(5) #range객체: 0~4까지 범위를 갖는 값들을 포장해놓은 포장물(객체)\n",
    "\n",
    "#객체? 객체지향언어에 등장하는 클래스로부터 파생된 실체(인스턴스)\n"
   ]
  },
  {
   "cell_type": "code",
   "execution_count": 81,
   "id": "ec015610",
   "metadata": {},
   "outputs": [
    {
     "data": {
      "text/plain": [
       "{0, 1, 2, 3, 4}"
      ]
     },
     "execution_count": 81,
     "metadata": {},
     "output_type": "execute_result"
    }
   ],
   "source": [
    "list(range(5)) #포장지를 뜯어서 리스트 형태로 만듬\n",
    "tuple(range(5)) #포장지를 뜯어서 튜플 형태로 만듬\n",
    "set(range(5)) #포장지를 뜯어서 집합 형태로 만듬"
   ]
  },
  {
   "cell_type": "code",
   "execution_count": 82,
   "id": "1c790e9d",
   "metadata": {},
   "outputs": [
    {
     "data": {
      "text/plain": [
       "set()"
      ]
     },
     "execution_count": 82,
     "metadata": {},
     "output_type": "execute_result"
    }
   ],
   "source": [
    "c=set()\n",
    "c #공집합"
   ]
  },
  {
   "cell_type": "code",
   "execution_count": 84,
   "id": "6ad5946e",
   "metadata": {},
   "outputs": [
    {
     "data": {
      "text/plain": [
       "dict"
      ]
     },
     "execution_count": 84,
     "metadata": {},
     "output_type": "execute_result"
    }
   ],
   "source": [
    "c={} #dictionary\n",
    "type(c)"
   ]
  },
  {
   "cell_type": "code",
   "execution_count": 85,
   "id": "3f67b582",
   "metadata": {},
   "outputs": [
    {
     "data": {
      "text/plain": [
       "{'가', '반', '요', '워'}"
      ]
     },
     "execution_count": 85,
     "metadata": {},
     "output_type": "execute_result"
    }
   ],
   "source": [
    "set(\"반가워요반가워\")"
   ]
  },
  {
   "cell_type": "code",
   "execution_count": 86,
   "id": "dad02f54",
   "metadata": {},
   "outputs": [],
   "source": [
    "a={10,20,30}\n",
    "b={30,40,50}\n",
    "#c={}  타입이 dict\n"
   ]
  },
  {
   "cell_type": "code",
   "execution_count": 90,
   "id": "13b70eb7",
   "metadata": {},
   "outputs": [
    {
     "data": {
      "text/plain": [
       "{10, 20, 30, 40, 50}"
      ]
     },
     "execution_count": 90,
     "metadata": {},
     "output_type": "execute_result"
    }
   ],
   "source": [
    "a | b #or 연산자, 합집합(union)\n",
    "set.union(a,b)"
   ]
  },
  {
   "cell_type": "code",
   "execution_count": 92,
   "id": "5a81a97f",
   "metadata": {},
   "outputs": [
    {
     "data": {
      "text/plain": [
       "{30}"
      ]
     },
     "execution_count": 92,
     "metadata": {},
     "output_type": "execute_result"
    }
   ],
   "source": [
    "#교집합(intersection)\n",
    "a & b #and 연산자, 교집합\n",
    "set.intersection(a,b)"
   ]
  },
  {
   "cell_type": "code",
   "execution_count": 93,
   "id": "1b98be56",
   "metadata": {},
   "outputs": [
    {
     "data": {
      "text/plain": [
       "{10, 20}"
      ]
     },
     "execution_count": 93,
     "metadata": {},
     "output_type": "execute_result"
    }
   ],
   "source": [
    "#차집합(difference)\n",
    "a - b\n",
    "set.difference(a,b)"
   ]
  },
  {
   "cell_type": "code",
   "execution_count": 94,
   "id": "f3b18383",
   "metadata": {},
   "outputs": [
    {
     "data": {
      "text/plain": [
       "{10, 20, 40, 50}"
      ]
     },
     "execution_count": 94,
     "metadata": {},
     "output_type": "execute_result"
    }
   ],
   "source": [
    "#대칭차집합, XOR 연산\n",
    "a ^ b"
   ]
  },
  {
   "cell_type": "code",
   "execution_count": 103,
   "id": "42423d39",
   "metadata": {},
   "outputs": [],
   "source": [
    "a={10,20,30}"
   ]
  },
  {
   "cell_type": "code",
   "execution_count": 104,
   "id": "3a1243af",
   "metadata": {},
   "outputs": [],
   "source": [
    "a.add(40)"
   ]
  },
  {
   "cell_type": "code",
   "execution_count": 105,
   "id": "30f8ee73",
   "metadata": {},
   "outputs": [
    {
     "data": {
      "text/plain": [
       "{10, 20, 30, 40}"
      ]
     },
     "execution_count": 105,
     "metadata": {},
     "output_type": "execute_result"
    }
   ],
   "source": [
    "a"
   ]
  },
  {
   "cell_type": "code",
   "execution_count": 106,
   "id": "c886bf3d",
   "metadata": {},
   "outputs": [],
   "source": [
    "a.remove(20)"
   ]
  },
  {
   "cell_type": "code",
   "execution_count": 107,
   "id": "72cb81c6",
   "metadata": {},
   "outputs": [
    {
     "data": {
      "text/plain": [
       "{10, 30, 40}"
      ]
     },
     "execution_count": 107,
     "metadata": {},
     "output_type": "execute_result"
    }
   ],
   "source": [
    "a"
   ]
  },
  {
   "cell_type": "code",
   "execution_count": 113,
   "id": "0db458e7",
   "metadata": {},
   "outputs": [],
   "source": [
    "#a.remove(20) 에러 발생\n",
    "\n",
    "#a.discard(20) 에러 발생 안함\n",
    "\n",
    "a.discard(30)"
   ]
  },
  {
   "cell_type": "code",
   "execution_count": 129,
   "id": "0c618937",
   "metadata": {},
   "outputs": [
    {
     "data": {
      "text/plain": [
       "{10, 20, 30, 'k', '가', '나'}"
      ]
     },
     "execution_count": 129,
     "metadata": {},
     "output_type": "execute_result"
    }
   ],
   "source": [
    "a={'나',10,20,30,'가','k'}\n",
    "a"
   ]
  },
  {
   "cell_type": "code",
   "execution_count": 130,
   "id": "a2043a6f",
   "metadata": {},
   "outputs": [
    {
     "data": {
      "text/plain": [
       "'나'"
      ]
     },
     "execution_count": 130,
     "metadata": {},
     "output_type": "execute_result"
    }
   ],
   "source": [
    "a.pop()"
   ]
  },
  {
   "cell_type": "code",
   "execution_count": 131,
   "id": "46092219",
   "metadata": {},
   "outputs": [
    {
     "data": {
      "text/plain": [
       "{10, 20, 30, 'k', '가'}"
      ]
     },
     "execution_count": 131,
     "metadata": {},
     "output_type": "execute_result"
    }
   ],
   "source": [
    "a"
   ]
  },
  {
   "cell_type": "code",
   "execution_count": 133,
   "id": "e25b80f3",
   "metadata": {},
   "outputs": [
    {
     "data": {
      "text/plain": [
       "'k'"
      ]
     },
     "execution_count": 133,
     "metadata": {},
     "output_type": "execute_result"
    }
   ],
   "source": [
    "a.pop()"
   ]
  },
  {
   "cell_type": "code",
   "execution_count": 134,
   "id": "55f1c445",
   "metadata": {},
   "outputs": [
    {
     "data": {
      "text/plain": [
       "{20, 30, '가'}"
      ]
     },
     "execution_count": 134,
     "metadata": {},
     "output_type": "execute_result"
    }
   ],
   "source": [
    "a"
   ]
  },
  {
   "cell_type": "code",
   "execution_count": 135,
   "id": "125f9ff9",
   "metadata": {},
   "outputs": [],
   "source": [
    "#집합은 자료의 순서가 유지가 안됨\n",
    "\n",
    "#set 자료구조는 자료의 저장 순서가 필요없으면서 중복을 제거해야 하는 상황에서 사용"
   ]
  },
  {
   "cell_type": "code",
   "execution_count": 136,
   "id": "55cbe0ee",
   "metadata": {},
   "outputs": [],
   "source": [
    "a.clear()"
   ]
  },
  {
   "cell_type": "code",
   "execution_count": 137,
   "id": "608072ef",
   "metadata": {},
   "outputs": [
    {
     "data": {
      "text/plain": [
       "set()"
      ]
     },
     "execution_count": 137,
     "metadata": {},
     "output_type": "execute_result"
    }
   ],
   "source": [
    "a"
   ]
  },
  {
   "cell_type": "code",
   "execution_count": 138,
   "id": "bc84c9c0",
   "metadata": {},
   "outputs": [],
   "source": [
    "s={10,20,30}"
   ]
  },
  {
   "cell_type": "code",
   "execution_count": 139,
   "id": "9d841a02",
   "metadata": {},
   "outputs": [],
   "source": [
    "s2=s"
   ]
  },
  {
   "cell_type": "code",
   "execution_count": 140,
   "id": "3edddf66",
   "metadata": {},
   "outputs": [
    {
     "data": {
      "text/plain": [
       "{10, 20, 30}"
      ]
     },
     "execution_count": 140,
     "metadata": {},
     "output_type": "execute_result"
    }
   ],
   "source": [
    "s2"
   ]
  },
  {
   "cell_type": "code",
   "execution_count": 141,
   "id": "1b6a35e2",
   "metadata": {},
   "outputs": [],
   "source": [
    "#대입연산자로 새로운 변수에 할당하게 되면, 셋이 2개가 아니라 여전히 1개"
   ]
  },
  {
   "cell_type": "code",
   "execution_count": 142,
   "id": "f1718fc6",
   "metadata": {},
   "outputs": [
    {
     "data": {
      "text/plain": [
       "{10, 20, 30, 40}"
      ]
     },
     "execution_count": 142,
     "metadata": {},
     "output_type": "execute_result"
    }
   ],
   "source": [
    "s2.add(40)\n",
    "s2"
   ]
  },
  {
   "cell_type": "code",
   "execution_count": 143,
   "id": "3931a534",
   "metadata": {},
   "outputs": [
    {
     "data": {
      "text/plain": [
       "{10, 20, 30, 40}"
      ]
     },
     "execution_count": 143,
     "metadata": {},
     "output_type": "execute_result"
    }
   ],
   "source": [
    "s"
   ]
  },
  {
   "cell_type": "code",
   "execution_count": 144,
   "id": "58d67bff",
   "metadata": {},
   "outputs": [],
   "source": [
    "# is : s, s2 집합이 동일한 집합인지 확인하는 연산자"
   ]
  },
  {
   "cell_type": "code",
   "execution_count": 145,
   "id": "864188ab",
   "metadata": {},
   "outputs": [
    {
     "data": {
      "text/plain": [
       "True"
      ]
     },
     "execution_count": 145,
     "metadata": {},
     "output_type": "execute_result"
    }
   ],
   "source": [
    "s is s2"
   ]
  },
  {
   "cell_type": "code",
   "execution_count": 146,
   "id": "fc3a90dd",
   "metadata": {},
   "outputs": [],
   "source": [
    "#copy() : 두 개의 완전히 분리된 집합을 생성하기 위한 함수"
   ]
  },
  {
   "cell_type": "code",
   "execution_count": 147,
   "id": "21e3cf97",
   "metadata": {},
   "outputs": [],
   "source": [
    "a={10,20,30}"
   ]
  },
  {
   "cell_type": "code",
   "execution_count": 148,
   "id": "8b261af0",
   "metadata": {},
   "outputs": [],
   "source": [
    "#b=a 동일한 집합\n",
    "b=a.copy()"
   ]
  },
  {
   "cell_type": "code",
   "execution_count": 149,
   "id": "7e09ddd5",
   "metadata": {},
   "outputs": [
    {
     "data": {
      "text/plain": [
       "{10, 20, 30}"
      ]
     },
     "execution_count": 149,
     "metadata": {},
     "output_type": "execute_result"
    }
   ],
   "source": [
    "b"
   ]
  },
  {
   "cell_type": "code",
   "execution_count": 152,
   "id": "37e62d90",
   "metadata": {},
   "outputs": [
    {
     "name": "stdout",
     "output_type": "stream",
     "text": [
      "False\n",
      "True\n"
     ]
    }
   ],
   "source": [
    "#is : 두 집합이 동일한지 확인(메모리 상의 주소, 위치) 확인 , 요소가 동일한지 x\n",
    "print(a is b)\n",
    "#False의 의미? a 집합과 b 집합의 자료들이 메모리 상의 다른 위치에 저장을 의미\n",
    "\n",
    "# == : 두 집합에 속해있는 요소가 동일한지 확인\n",
    "print(a == b)"
   ]
  },
  {
   "cell_type": "code",
   "execution_count": 153,
   "id": "415224c2",
   "metadata": {},
   "outputs": [
    {
     "data": {
      "text/plain": [
       "{10, 20, 30}"
      ]
     },
     "execution_count": 153,
     "metadata": {},
     "output_type": "execute_result"
    }
   ],
   "source": [
    "a"
   ]
  },
  {
   "cell_type": "code",
   "execution_count": 154,
   "id": "3d439111",
   "metadata": {},
   "outputs": [
    {
     "data": {
      "text/plain": [
       "{10, 20, 30}"
      ]
     },
     "execution_count": 154,
     "metadata": {},
     "output_type": "execute_result"
    }
   ],
   "source": [
    "b"
   ]
  },
  {
   "cell_type": "code",
   "execution_count": 157,
   "id": "d35aedac",
   "metadata": {},
   "outputs": [
    {
     "data": {
      "text/plain": [
       "{10, 20, 30, 40}"
      ]
     },
     "execution_count": 157,
     "metadata": {},
     "output_type": "execute_result"
    }
   ],
   "source": [
    "b.add(40)\n",
    "b"
   ]
  },
  {
   "cell_type": "code",
   "execution_count": 156,
   "id": "fd32b3e8",
   "metadata": {},
   "outputs": [
    {
     "data": {
      "text/plain": [
       "{10, 20, 30}"
      ]
     },
     "execution_count": 156,
     "metadata": {},
     "output_type": "execute_result"
    }
   ],
   "source": [
    "a"
   ]
  },
  {
   "cell_type": "code",
   "execution_count": 158,
   "id": "a0e1fb5b",
   "metadata": {},
   "outputs": [],
   "source": [
    "#단어 : 설명\n",
    "#딕셔너리 -> 키 : 값\n",
    "#딕셔너리 : 키와 값(밸류, value)의 쌍으로 구성\n",
    "#json파일이 딕셔너리 구조"
   ]
  },
  {
   "cell_type": "code",
   "execution_count": 159,
   "id": "f9a963d3",
   "metadata": {},
   "outputs": [],
   "source": [
    "#딕셔너리={키1:값1, 키2:값2, ...., 키n:값n}"
   ]
  },
  {
   "cell_type": "code",
   "execution_count": 166,
   "id": "7958b8d9",
   "metadata": {},
   "outputs": [],
   "source": [
    "people={'name':'kim',\n",
    "        'cp':114,\n",
    "        'birth':'0707',\n",
    "        'gender' : None,\n",
    "       10:'ten',\n",
    "        'nicknamed':['ai', 'robot'],\n",
    "        #['ai', 'robot'] :'nickname',\n",
    "        'dic1':{'dic':'value1','dic3':'value2' },     \n",
    "       'cp':119} \n",
    "#키 이름이 중복되면 마지막 키에 해당하는 값이 저장"
   ]
  },
  {
   "cell_type": "code",
   "execution_count": 167,
   "id": "f7d9cd33",
   "metadata": {},
   "outputs": [
    {
     "data": {
      "text/plain": [
       "{'name': 'kim',\n",
       " 'cp': 119,\n",
       " 'birth': '0707',\n",
       " 'gender': None,\n",
       " 10: 'ten',\n",
       " 'nicknamed': ['ai', 'robot'],\n",
       " 'dic1': {'dic': 'value1', 'dic3': 'value2'}}"
      ]
     },
     "execution_count": 167,
     "metadata": {},
     "output_type": "execute_result"
    }
   ],
   "source": [
    "people"
   ]
  },
  {
   "cell_type": "code",
   "execution_count": 171,
   "id": "0a5be8b1",
   "metadata": {},
   "outputs": [],
   "source": [
    "# 변수명={\n",
    "#     성명:정연규,\n",
    "#     주소:잠실,\n",
    "#     성별:남자,\n",
    "#     별명:규,\n",
    "#     취미:낮잠\n",
    "# }\n",
    "a={ 'name':'yeongyu',\n",
    "    'adress':'jamsil',\n",
    "    'gender':'male',\n",
    "    'nickname':'gyu',\n",
    "    'hobby':'take nap'\n",
    "}"
   ]
  },
  {
   "cell_type": "code",
   "execution_count": 172,
   "id": "bce43453",
   "metadata": {},
   "outputs": [
    {
     "data": {
      "text/plain": [
       "{'name': 'yeongyu',\n",
       " 'adress': 'jamsil',\n",
       " 'gender': 'male',\n",
       " 'nickname': 'gyu',\n",
       " 'hobby': 'take nap'}"
      ]
     },
     "execution_count": 172,
     "metadata": {},
     "output_type": "execute_result"
    }
   ],
   "source": [
    "a"
   ]
  },
  {
   "cell_type": "code",
   "execution_count": 173,
   "id": "82393e6b",
   "metadata": {},
   "outputs": [],
   "source": [
    "s={}\n",
    "s=dict()"
   ]
  },
  {
   "cell_type": "code",
   "execution_count": 175,
   "id": "722a39c7",
   "metadata": {},
   "outputs": [
    {
     "data": {
      "text/plain": [
       "dict"
      ]
     },
     "execution_count": 175,
     "metadata": {},
     "output_type": "execute_result"
    }
   ],
   "source": [
    "type(s)"
   ]
  },
  {
   "cell_type": "code",
   "execution_count": 176,
   "id": "9830c292",
   "metadata": {},
   "outputs": [],
   "source": [
    "dict()\n",
    "\n",
    "#people={'name':'kim', 'cp':114}\n",
    "\n",
    "mydic=dict(name='kim', cp=114)\n",
    "\n",
    "#mydic=dict('name'='kim', 'cp'=114) 에러 발생\n",
    "#키에 작은/큰 따옴표를 사용하면 안됨!!"
   ]
  },
  {
   "cell_type": "code",
   "execution_count": 177,
   "id": "5a5cf8fe",
   "metadata": {},
   "outputs": [
    {
     "data": {
      "text/plain": [
       "{'name': 'kim', 'cp': 114}"
      ]
     },
     "execution_count": 177,
     "metadata": {},
     "output_type": "execute_result"
    }
   ],
   "source": [
    "mydic"
   ]
  },
  {
   "cell_type": "code",
   "execution_count": 210,
   "id": "06543641",
   "metadata": {},
   "outputs": [],
   "source": [
    "#dict(name='kim', cp=114, 10='ten')\n",
    "mydic={'name':'kim', 'cp':114, 10:'ten'}"
   ]
  },
  {
   "cell_type": "code",
   "execution_count": 201,
   "id": "ead525db",
   "metadata": {},
   "outputs": [
    {
     "data": {
      "text/plain": [
       "{'name': 'kim', 'cp': 114, 10: 'ten'}"
      ]
     },
     "execution_count": 201,
     "metadata": {},
     "output_type": "execute_result"
    }
   ],
   "source": [
    "mydic"
   ]
  },
  {
   "cell_type": "code",
   "execution_count": null,
   "id": "dedc66ee",
   "metadata": {},
   "outputs": [],
   "source": [
    "#dict함수와 zip함수를 활용하여 딕셔너리를 생성\n",
    "#잘 사용하지 않는 방법\n",
    "\n",
    "dict()\n"
   ]
  },
  {
   "cell_type": "code",
   "execution_count": 183,
   "id": "404c50e0",
   "metadata": {},
   "outputs": [
    {
     "data": {
      "text/plain": [
       "{'one': 1, 'two': 2}"
      ]
     },
     "execution_count": 183,
     "metadata": {},
     "output_type": "execute_result"
    }
   ],
   "source": [
    "mydic=dict(zip(['one', 'two'], [1,2]))"
   ]
  },
  {
   "cell_type": "code",
   "execution_count": 184,
   "id": "b6b33ff7",
   "metadata": {},
   "outputs": [],
   "source": [
    "mydic={'one':1,\n",
    "      'two':2}"
   ]
  },
  {
   "cell_type": "code",
   "execution_count": 185,
   "id": "0f553a8c",
   "metadata": {},
   "outputs": [
    {
     "data": {
      "text/plain": [
       "{'one': 1, 'two': 2}"
      ]
     },
     "execution_count": 185,
     "metadata": {},
     "output_type": "execute_result"
    }
   ],
   "source": [
    "mydic"
   ]
  },
  {
   "cell_type": "code",
   "execution_count": 187,
   "id": "42649ce0",
   "metadata": {},
   "outputs": [
    {
     "data": {
      "text/plain": [
       "1"
      ]
     },
     "execution_count": 187,
     "metadata": {},
     "output_type": "execute_result"
    }
   ],
   "source": [
    "#딕셔너리의 키에 연결된 값을 추출하는 작업\n",
    "mydic['one']"
   ]
  },
  {
   "cell_type": "code",
   "execution_count": 211,
   "id": "db8b3349",
   "metadata": {},
   "outputs": [],
   "source": [
    "mydic['bloodtype']='B'"
   ]
  },
  {
   "cell_type": "code",
   "execution_count": 197,
   "id": "f8b4b40b",
   "metadata": {},
   "outputs": [
    {
     "data": {
      "text/plain": [
       "{'one': 1, 'two': 2, 'cp': 119, 'bloodtype': 'B'}"
      ]
     },
     "execution_count": 197,
     "metadata": {},
     "output_type": "execute_result"
    }
   ],
   "source": [
    "mydic"
   ]
  },
  {
   "cell_type": "code",
   "execution_count": 207,
   "id": "7d54c759",
   "metadata": {},
   "outputs": [
    {
     "data": {
      "text/plain": [
       "True"
      ]
     },
     "execution_count": 207,
     "metadata": {},
     "output_type": "execute_result"
    }
   ],
   "source": [
    "#mydic['addr']\n",
    "\n",
    "#딕셔너리 키가 존재?\n",
    "'name'in mydic\n",
    "\n",
    "'addr'not in mydic"
   ]
  },
  {
   "cell_type": "code",
   "execution_count": 212,
   "id": "76a67c53",
   "metadata": {},
   "outputs": [
    {
     "data": {
      "text/plain": [
       "4"
      ]
     },
     "execution_count": 212,
     "metadata": {},
     "output_type": "execute_result"
    }
   ],
   "source": [
    "len(mydic)"
   ]
  },
  {
   "cell_type": "code",
   "execution_count": 215,
   "id": "51486b5b",
   "metadata": {},
   "outputs": [],
   "source": [
    "res=mydic.keys()"
   ]
  },
  {
   "cell_type": "code",
   "execution_count": 217,
   "id": "936efb95",
   "metadata": {},
   "outputs": [
    {
     "data": {
      "text/plain": [
       "['name', 'cp', 10, 'bloodtype']"
      ]
     },
     "execution_count": 217,
     "metadata": {},
     "output_type": "execute_result"
    }
   ],
   "source": [
    "list(res)"
   ]
  },
  {
   "cell_type": "code",
   "execution_count": 218,
   "id": "d1097db7",
   "metadata": {},
   "outputs": [
    {
     "name": "stdout",
     "output_type": "stream",
     "text": [
      "name\n",
      "cp\n",
      "10\n",
      "bloodtype\n"
     ]
    }
   ],
   "source": [
    "for k in mydic.keys():\n",
    "    print(k)"
   ]
  },
  {
   "cell_type": "code",
   "execution_count": 221,
   "id": "0df96f61",
   "metadata": {},
   "outputs": [
    {
     "data": {
      "text/plain": [
       "['kim', 114, 'ten', 'B']"
      ]
     },
     "execution_count": 221,
     "metadata": {},
     "output_type": "execute_result"
    }
   ],
   "source": [
    "list(mydic.values())"
   ]
  },
  {
   "cell_type": "code",
   "execution_count": 222,
   "id": "a364f985",
   "metadata": {},
   "outputs": [
    {
     "data": {
      "text/plain": [
       "dict_items([('name', 'kim'), ('cp', 114), (10, 'ten'), ('bloodtype', 'B')])"
      ]
     },
     "execution_count": 222,
     "metadata": {},
     "output_type": "execute_result"
    }
   ],
   "source": [
    "mydic.items()"
   ]
  },
  {
   "cell_type": "code",
   "execution_count": 226,
   "id": "e81b6be1",
   "metadata": {},
   "outputs": [
    {
     "data": {
      "text/plain": [
       "'ten'"
      ]
     },
     "execution_count": 226,
     "metadata": {},
     "output_type": "execute_result"
    }
   ],
   "source": [
    "list(mydic.items())\n",
    "#1개의 리스트 내부에 4개의 튜플이 존재\n",
    "#각 튜플은 2개의 요소로 구성\n",
    "\n",
    "list(mydic.items())[2][1]"
   ]
  },
  {
   "cell_type": "code",
   "execution_count": 224,
   "id": "8e506257",
   "metadata": {},
   "outputs": [
    {
     "data": {
      "text/plain": [
       "1"
      ]
     },
     "execution_count": 224,
     "metadata": {},
     "output_type": "execute_result"
    }
   ],
   "source": [
    "li=[1,2,3]\n",
    "li[0]"
   ]
  },
  {
   "cell_type": "code",
   "execution_count": 227,
   "id": "5a259695",
   "metadata": {},
   "outputs": [
    {
     "data": {
      "text/plain": [
       "114"
      ]
     },
     "execution_count": 227,
     "metadata": {},
     "output_type": "execute_result"
    }
   ],
   "source": [
    "list(mydic.items())[1][1]"
   ]
  },
  {
   "cell_type": "code",
   "execution_count": 228,
   "id": "050511bb",
   "metadata": {},
   "outputs": [],
   "source": [
    "mydic.clear()"
   ]
  },
  {
   "cell_type": "code",
   "execution_count": 229,
   "id": "a3e7d118",
   "metadata": {},
   "outputs": [
    {
     "data": {
      "text/plain": [
       "{}"
      ]
     },
     "execution_count": 229,
     "metadata": {},
     "output_type": "execute_result"
    }
   ],
   "source": [
    "mydic"
   ]
  },
  {
   "cell_type": "code",
   "execution_count": 230,
   "id": "2848e3d6",
   "metadata": {},
   "outputs": [],
   "source": [
    "li=[('name', 'kim'), ('cp', '119'), ('bloodtype', 'B')]"
   ]
  },
  {
   "cell_type": "code",
   "execution_count": 231,
   "id": "5b978902",
   "metadata": {},
   "outputs": [
    {
     "data": {
      "text/plain": [
       "[('name', 'kim'), ('cp', '119'), ('bloodtype', 'B')]"
      ]
     },
     "execution_count": 231,
     "metadata": {},
     "output_type": "execute_result"
    }
   ],
   "source": [
    "li"
   ]
  },
  {
   "cell_type": "code",
   "execution_count": 233,
   "id": "9b9004ea",
   "metadata": {},
   "outputs": [
    {
     "data": {
      "text/plain": [
       "{'name': 'kim', 'cp': '119', 'bloodtype': 'B'}"
      ]
     },
     "execution_count": 233,
     "metadata": {},
     "output_type": "execute_result"
    }
   ],
   "source": [
    "mydic=dict(li)\n",
    "mydic"
   ]
  },
  {
   "cell_type": "code",
   "execution_count": 237,
   "id": "48c2de9b",
   "metadata": {},
   "outputs": [
    {
     "data": {
      "text/plain": [
       "'B'"
      ]
     },
     "execution_count": 237,
     "metadata": {},
     "output_type": "execute_result"
    }
   ],
   "source": [
    "mydic['cp'] #mydic.get('cp')\n",
    "\n",
    "#mydic['aadr'] #해당 키가 없는 경우에는 에러 발생\n",
    "mydic.get('addr', '서울')\n",
    "\n",
    "#Bloodtype 키가 존재하면 값을 리턴, 키가 존재하지 않으면 A를 디폴트 값으로 리턴\n",
    "mydic.get('bloodtype', 'A')"
   ]
  },
  {
   "cell_type": "code",
   "execution_count": 238,
   "id": "d0299ca3",
   "metadata": {},
   "outputs": [
    {
     "data": {
      "text/plain": [
       "{'name': 'kim', 'cp': '119', 'bloodtype': 'B'}"
      ]
     },
     "execution_count": 238,
     "metadata": {},
     "output_type": "execute_result"
    }
   ],
   "source": [
    "mydic"
   ]
  },
  {
   "cell_type": "code",
   "execution_count": 239,
   "id": "fd9a6b01",
   "metadata": {},
   "outputs": [
    {
     "data": {
      "text/plain": [
       "False"
      ]
     },
     "execution_count": 239,
     "metadata": {},
     "output_type": "execute_result"
    }
   ],
   "source": [
    "'nickname' in mydic"
   ]
  },
  {
   "cell_type": "code",
   "execution_count": 240,
   "id": "d597e67b",
   "metadata": {},
   "outputs": [],
   "source": [
    "del mydic['cp']"
   ]
  },
  {
   "cell_type": "code",
   "execution_count": 241,
   "id": "06bbd46a",
   "metadata": {},
   "outputs": [
    {
     "data": {
      "text/plain": [
       "{'name': 'kim', 'bloodtype': 'B'}"
      ]
     },
     "execution_count": 241,
     "metadata": {},
     "output_type": "execute_result"
    }
   ],
   "source": [
    "mydic"
   ]
  },
  {
   "cell_type": "code",
   "execution_count": 242,
   "id": "37c74a88",
   "metadata": {},
   "outputs": [
    {
     "data": {
      "text/plain": [
       "2"
      ]
     },
     "execution_count": 242,
     "metadata": {},
     "output_type": "execute_result"
    }
   ],
   "source": [
    "len(mydic)"
   ]
  },
  {
   "cell_type": "code",
   "execution_count": 243,
   "id": "85945d86",
   "metadata": {},
   "outputs": [],
   "source": [
    "##딕셔너리 연습##"
   ]
  },
  {
   "cell_type": "code",
   "execution_count": 245,
   "id": "1d52d009",
   "metadata": {},
   "outputs": [],
   "source": [
    "t={'새우깡':1000, '감자칩':2000,'요구르트':500}"
   ]
  },
  {
   "cell_type": "code",
   "execution_count": 246,
   "id": "48ed49db",
   "metadata": {},
   "outputs": [
    {
     "data": {
      "text/plain": [
       "{'새우깡': 1000, '감자칩': 2000, '요구르트': 500}"
      ]
     },
     "execution_count": 246,
     "metadata": {},
     "output_type": "execute_result"
    }
   ],
   "source": [
    "t"
   ]
  },
  {
   "cell_type": "code",
   "execution_count": 247,
   "id": "b42d2e1f",
   "metadata": {},
   "outputs": [],
   "source": [
    "t['생수']=500"
   ]
  },
  {
   "cell_type": "code",
   "execution_count": 248,
   "id": "c9ee5939",
   "metadata": {},
   "outputs": [
    {
     "data": {
      "text/plain": [
       "{'새우깡': 1000, '감자칩': 2000, '요구르트': 500, '생수': 500}"
      ]
     },
     "execution_count": 248,
     "metadata": {},
     "output_type": "execute_result"
    }
   ],
   "source": [
    "t"
   ]
  },
  {
   "cell_type": "code",
   "execution_count": 249,
   "id": "e78ccd4a",
   "metadata": {},
   "outputs": [
    {
     "data": {
      "text/plain": [
       "1000"
      ]
     },
     "execution_count": 249,
     "metadata": {},
     "output_type": "execute_result"
    }
   ],
   "source": [
    "t['새우깡']"
   ]
  },
  {
   "cell_type": "code",
   "execution_count": 252,
   "id": "25c37800",
   "metadata": {},
   "outputs": [],
   "source": [
    "t['감자칩']=1500"
   ]
  },
  {
   "cell_type": "code",
   "execution_count": 253,
   "id": "6f1d8150",
   "metadata": {},
   "outputs": [
    {
     "data": {
      "text/plain": [
       "{'새우깡': 1000, '감자칩': 1500, '요구르트': 500, '생수': 500}"
      ]
     },
     "execution_count": 253,
     "metadata": {},
     "output_type": "execute_result"
    }
   ],
   "source": [
    "t"
   ]
  },
  {
   "cell_type": "code",
   "execution_count": 254,
   "id": "4c2db974",
   "metadata": {},
   "outputs": [],
   "source": [
    "del t['요구르트']"
   ]
  },
  {
   "cell_type": "code",
   "execution_count": 255,
   "id": "254cf26d",
   "metadata": {},
   "outputs": [
    {
     "data": {
      "text/plain": [
       "{'새우깡': 1000, '감자칩': 1500, '생수': 500}"
      ]
     },
     "execution_count": 255,
     "metadata": {},
     "output_type": "execute_result"
    }
   ],
   "source": [
    "t"
   ]
  },
  {
   "cell_type": "code",
   "execution_count": 256,
   "id": "c93fc30a",
   "metadata": {},
   "outputs": [],
   "source": [
    "# 새우깡 1000  5\n",
    "# 생수   500  10"
   ]
  },
  {
   "cell_type": "code",
   "execution_count": 257,
   "id": "98d850ca",
   "metadata": {},
   "outputs": [],
   "source": [
    "가격={'새우깡':1000, '생수':500}\n",
    "재고={'새우깡':5, '생수':10}"
   ]
  },
  {
   "cell_type": "code",
   "execution_count": 258,
   "id": "02f476d6",
   "metadata": {},
   "outputs": [],
   "source": [
    "제품={'새우깡':[1000,5], '생수':[500,10]}"
   ]
  },
  {
   "cell_type": "code",
   "execution_count": 261,
   "id": "aa03063c",
   "metadata": {},
   "outputs": [
    {
     "data": {
      "text/plain": [
       "5"
      ]
     },
     "execution_count": 261,
     "metadata": {},
     "output_type": "execute_result"
    }
   ],
   "source": [
    "가격['새우깡']\n",
    "재고['새우깡']"
   ]
  },
  {
   "cell_type": "code",
   "execution_count": 265,
   "id": "867c47c0",
   "metadata": {},
   "outputs": [
    {
     "data": {
      "text/plain": [
       "[500, 10]"
      ]
     },
     "execution_count": 265,
     "metadata": {},
     "output_type": "execute_result"
    }
   ],
   "source": [
    "제품['생수']"
   ]
  },
  {
   "cell_type": "code",
   "execution_count": 266,
   "id": "be26a590",
   "metadata": {},
   "outputs": [
    {
     "data": {
      "text/plain": [
       "'1000원'"
      ]
     },
     "execution_count": 266,
     "metadata": {},
     "output_type": "execute_result"
    }
   ],
   "source": [
    "str(가격['새우깡'])+\"원\""
   ]
  },
  {
   "cell_type": "code",
   "execution_count": 267,
   "id": "944685d5",
   "metadata": {},
   "outputs": [
    {
     "name": "stdout",
     "output_type": "stream",
     "text": [
      "1000원 5개\n"
     ]
    }
   ],
   "source": [
    "print(str(가격['새우깡'])+\"원\", str(재고['새우깡'])+\"개\")"
   ]
  },
  {
   "cell_type": "code",
   "execution_count": 271,
   "id": "f34e0c9d",
   "metadata": {},
   "outputs": [],
   "source": [
    "제품={'새우깡':[1000,5], '생수':[500,10]}\n",
    "#생수의 재고량을 출력"
   ]
  },
  {
   "cell_type": "code",
   "execution_count": 275,
   "id": "ae4afe02",
   "metadata": {},
   "outputs": [
    {
     "name": "stdout",
     "output_type": "stream",
     "text": [
      "10\n",
      "10개\n"
     ]
    }
   ],
   "source": [
    "print(제품['생수'][1])\n",
    "print(str(제품['생수'][1])+\"개\")"
   ]
  },
  {
   "cell_type": "code",
   "execution_count": 277,
   "id": "62735337",
   "metadata": {},
   "outputs": [
    {
     "data": {
      "text/plain": [
       "'10개'"
      ]
     },
     "execution_count": 277,
     "metadata": {},
     "output_type": "execute_result"
    }
   ],
   "source": [
    "str(list(제품.items())[1][1][1])+\"개\""
   ]
  },
  {
   "cell_type": "code",
   "execution_count": 278,
   "id": "209186de",
   "metadata": {},
   "outputs": [
    {
     "data": {
      "text/plain": [
       "dict_keys(['새우깡', '생수'])"
      ]
     },
     "execution_count": 278,
     "metadata": {},
     "output_type": "execute_result"
    }
   ],
   "source": [
    "제품.keys()"
   ]
  },
  {
   "cell_type": "code",
   "execution_count": null,
   "id": "cb31efaf",
   "metadata": {},
   "outputs": [],
   "source": []
  }
 ],
 "metadata": {
  "kernelspec": {
   "display_name": "Python 3",
   "language": "python",
   "name": "python3"
  },
  "language_info": {
   "codemirror_mode": {
    "name": "ipython",
    "version": 3
   },
   "file_extension": ".py",
   "mimetype": "text/x-python",
   "name": "python",
   "nbconvert_exporter": "python",
   "pygments_lexer": "ipython3",
   "version": "3.8.8"
  }
 },
 "nbformat": 4,
 "nbformat_minor": 5
}
