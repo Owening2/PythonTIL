{
 "cells": [
  {
   "cell_type": "code",
   "execution_count": 22,
   "id": "33564d72",
   "metadata": {},
   "outputs": [
    {
     "name": "stdout",
     "output_type": "stream",
     "text": [
      "['Tokyo', 'Jakarta', 'Guangzhou', 'Beijing', 'Karachi', 'Delhi']\n"
     ]
    }
   ],
   "source": [
    "# 1. 도시이름이 S로 시작하지 않는 도시만 리스트로 만들 때 리스트 컴프리헨션을 사용하여 함수를 작성해 보세요.\n",
    "# cities = [\"Tokyo\", \"Shanghai\", \"Jakarta\", \"Seoul\", \"Guangzhou\", \"Beijing\", \"Karachi\", \"Shenzhen\", \"Delhi\" ]\n",
    "# [\"Tokyo\", \"Shanghai\", \"Jakarta\", \"Seoul\", \"Guangzhou\", \"Beijing\", \"Karachi\", \"Shenzhen\", \"Delhi\" ]\n",
    "\n",
    "cities = [\"Tokyo\", \"Shanghai\", \"Jakarta\", \"Seoul\", \"Guangzhou\", \"Beijing\", \"Karachi\", \"Shenzhen\", \"Delhi\" ]\n",
    "print([element for element in cities if \"S\" not in element])"
   ]
  },
  {
   "cell_type": "code",
   "execution_count": null,
   "id": "9b64082f",
   "metadata": {},
   "outputs": [],
   "source": [
    "# 2. 상자 최대 낙차 출력(삼성)\n",
    "gravity=[7,4,2,0,0,6,0,7,0] 답:7"
   ]
  },
  {
   "cell_type": "code",
   "execution_count": 56,
   "id": "8faa5525",
   "metadata": {},
   "outputs": [
    {
     "ename": "NameError",
     "evalue": "name 'each_l' is not defined",
     "output_type": "error",
     "traceback": [
      "\u001b[1;31m---------------------------------------------------------------------------\u001b[0m",
      "\u001b[1;31mNameError\u001b[0m                                 Traceback (most recent call last)",
      "\u001b[1;32m<ipython-input-56-9944b876147f>\u001b[0m in \u001b[0;36m<module>\u001b[1;34m\u001b[0m\n\u001b[0;32m      4\u001b[0m     \u001b[0meach_w\u001b[0m \u001b[1;33m=\u001b[0m\u001b[1;33m[\u001b[0m\u001b[1;33m]\u001b[0m\u001b[1;33m\u001b[0m\u001b[1;33m\u001b[0m\u001b[0m\n\u001b[0;32m      5\u001b[0m     \u001b[1;32mfor\u001b[0m \u001b[0ml\u001b[0m \u001b[1;32min\u001b[0m \u001b[0mrange\u001b[0m\u001b[1;33m(\u001b[0m\u001b[1;36m8\u001b[0m\u001b[1;33m)\u001b[0m\u001b[1;33m:\u001b[0m\u001b[1;33m\u001b[0m\u001b[1;33m\u001b[0m\u001b[0m\n\u001b[1;32m----> 6\u001b[1;33m         \u001b[0meach_l\u001b[0m\u001b[1;33m.\u001b[0m\u001b[0mappend\u001b[0m\u001b[1;33m(\u001b[0m\u001b[1;36m0\u001b[0m\u001b[1;33m)\u001b[0m\u001b[1;33m\u001b[0m\u001b[1;33m\u001b[0m\u001b[0m\n\u001b[0m\u001b[0;32m      7\u001b[0m     \u001b[0mbox\u001b[0m\u001b[1;33m.\u001b[0m\u001b[0mappend\u001b[0m\u001b[1;33m(\u001b[0m\u001b[0meach_w\u001b[0m\u001b[1;33m)\u001b[0m\u001b[1;33m\u001b[0m\u001b[1;33m\u001b[0m\u001b[0m\n\u001b[0;32m      8\u001b[0m \u001b[1;32mfor\u001b[0m \u001b[0mw\u001b[0m \u001b[1;32min\u001b[0m \u001b[0mgravity\u001b[0m\u001b[1;33m:\u001b[0m\u001b[1;33m\u001b[0m\u001b[1;33m\u001b[0m\u001b[0m\n",
      "\u001b[1;31mNameError\u001b[0m: name 'each_l' is not defined"
     ]
    }
   ],
   "source": [
    "room=[]\n",
    "gravity=[7,4,2,0,0,6,0,7,0]\n",
    "for w in range(9):\n",
    "    each_w =[]\n",
    "    for l in range(8):\n",
    "        each_l.append(0)\n",
    "    box.append(each_w)\n",
    "for w in gravity:\n",
    "    for l in range(box):\n",
    "        room[w][l] = True\n",
    "        w += 1\n",
    "    counts= set()\n",
    "for l in range(max(gravity)):\n",
    "    if room[w][l] is True:\n",
    "        depth = 0\n",
    "        for d in range(w+1, 9):\n",
    "            if room[d][l] is False:\n",
    "                depth +=1\n",
    "            counts.add(depth)\n",
    "print(\"최대 낙차: {0}\",format(max(counts)))"
   ]
  },
  {
   "cell_type": "code",
   "execution_count": 19,
   "id": "32e14d2d",
   "metadata": {
    "scrolled": true
   },
   "outputs": [
    {
     "name": "stdout",
     "output_type": "stream",
     "text": [
      "4000\n"
     ]
    }
   ],
   "source": [
    "# 3. 1부터 10,000까지 8이라는 숫자가 총 몇번 나오는가?(구글)\n",
    "# 8이 포함되어 있는 숫자의 갯수를 카운팅 하는 것이 아니라 8이라는 숫자를 모두 카운팅 해야 한다.\n",
    "# (※ 예를들어 8808은 3, 8888은 4로 카운팅 해야 함)\n",
    "\n",
    "print(str(list(range(1,10001))).count('8'))"
   ]
  },
  {
   "cell_type": "code",
   "execution_count": null,
   "id": "f333e911",
   "metadata": {},
   "outputs": [],
   "source": [
    "4. while문을 사용하여 다음과 같이 별(*)을 표시하는 프로그램을 작성해 보자."
   ]
  },
  {
   "cell_type": "code",
   "execution_count": 8,
   "id": "428b4222",
   "metadata": {},
   "outputs": [
    {
     "name": "stdout",
     "output_type": "stream",
     "text": [
      "    *\n",
      "   **\n",
      "  ***\n",
      " ****\n",
      "*****\n"
     ]
    }
   ],
   "source": [
    "# 1)\n",
    "#      *\n",
    "#     **\n",
    "#    ***\n",
    "#   ****\n",
    "#  *****\n",
    "i=0\n",
    "x=0\n",
    "while True:\n",
    "    i+=1\n",
    "    x+=1\n",
    "    print (\" \"*(5-i)+\"*\"*x)\n",
    "    if i>4:\n",
    "        break"
   ]
  },
  {
   "cell_type": "code",
   "execution_count": 25,
   "id": "5e13cef1",
   "metadata": {},
   "outputs": [
    {
     "name": "stdout",
     "output_type": "stream",
     "text": [
      "    *\n",
      "   ***\n",
      "  *****\n",
      " *******\n",
      "*********\n"
     ]
    }
   ],
   "source": [
    "# 2)\n",
    "#      *            4 1 4\n",
    "#     ***           3 3 3\n",
    "#    *****          2 5 2\n",
    "#   *******         1 7 1\n",
    "#  *********        0 9 0\n",
    "\n",
    "for i in range(5):\n",
    "    for j in reversed(range(5)):\n",
    "        if j>i:\n",
    "            print(\" \",end=\"\")\n",
    "        else:\n",
    "            print(\"*\",end=\"\")\n",
    "    for j in range(5):\n",
    "        if j<i:\n",
    "            print(\"*\",end=\"\")\n",
    "    print()\n",
    "    "
   ]
  },
  {
   "cell_type": "code",
   "execution_count": 35,
   "id": "0075a467",
   "metadata": {},
   "outputs": [
    {
     "name": "stdout",
     "output_type": "stream",
     "text": [
      "[2, 3, 5, 7, 11, 13, 17, 19, 23, 29, 31, 37, 41, 43, 47, 53, 59, 61, 67, 71, 73, 79, 83, 89, 97]\n"
     ]
    }
   ],
   "source": [
    "# 5.for문을 사용해 2부터 100까지의 숫자 중에서 소수를(prime number) 출력해 보자.\n",
    "# *소수란? 1과 자기 자신으로만 나누어 떨어지는 수(ex. 2, 3, 5, 7, 11, 13,...)\n",
    "\n",
    "# for i in range(2,101):\n",
    "#     for j in range(2, i):\n",
    "#         if i%j == 0:\n",
    "#             break\n",
    "#         else:\n",
    "#             print(i, end=\" \")\n",
    "\n",
    "pn=[]\n",
    "for i in range(2,101):\n",
    "    if i==2: \n",
    "        pn.append(i)\n",
    "    else:\n",
    "        for j in pn:\n",
    "            if i%j==0:\n",
    "                break\n",
    "            if j==pn[-1]:\n",
    "                pn.append(i)\n",
    "print(pn)\n",
    "\n"
   ]
  }
 ],
 "metadata": {
  "kernelspec": {
   "display_name": "Python 3",
   "language": "python",
   "name": "python3"
  },
  "language_info": {
   "codemirror_mode": {
    "name": "ipython",
    "version": 3
   },
   "file_extension": ".py",
   "mimetype": "text/x-python",
   "name": "python",
   "nbconvert_exporter": "python",
   "pygments_lexer": "ipython3",
   "version": "3.8.8"
  }
 },
 "nbformat": 4,
 "nbformat_minor": 5
}
