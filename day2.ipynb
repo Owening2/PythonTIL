{
 "cells": [
  {
   "cell_type": "code",
   "execution_count": 5,
   "id": "b81a4a52",
   "metadata": {},
   "outputs": [
    {
     "name": "stdout",
     "output_type": "stream",
     "text": [
      "15\n",
      "15.0\n"
     ]
    }
   ],
   "source": [
    "#작업 : 1~5까지의 합을 구하시오. -> 15\n",
    "sum=0 #변수(variable)\n",
    "\n",
    "sum=1+2+3+4+5\n",
    "sum=1\n",
    "sum=sum+1 #연산자 우선순위\n",
    "\n",
    "sum=0\n",
    "for i in range(1,6):\n",
    "    sum=sum+i\n",
    "print(sum)\n",
    "\n",
    "print(5*(5+1)/2)"
   ]
  },
  {
   "cell_type": "code",
   "execution_count": 9,
   "id": "a7d5f6ef",
   "metadata": {},
   "outputs": [
    {
     "name": "stdout",
     "output_type": "stream",
     "text": [
      "hello world\n",
      "123\n"
     ]
    }
   ],
   "source": [
    "print(\"hello world\")\n",
    "print(\"123\")"
   ]
  },
  {
   "cell_type": "code",
   "execution_count": 14,
   "id": "837179ee",
   "metadata": {},
   "outputs": [
    {
     "name": "stdout",
     "output_type": "stream",
     "text": [
      "hello world\n",
      "123\n",
      "123\n"
     ]
    }
   ],
   "source": [
    "print(\"hello world\");print(\"123\");print(\"123\");\n",
    "#세미콜론으로 여러 문장을 구분할 수 있다."
   ]
  },
  {
   "cell_type": "code",
   "execution_count": 27,
   "id": "65915313",
   "metadata": {},
   "outputs": [
    {
     "name": "stdout",
     "output_type": "stream",
     "text": [
      "0보다 커요\n",
      "3보다 작습니다\n",
      "a는 자연수입니다\n"
     ]
    }
   ],
   "source": [
    "#파이썬은 들여쓰기가 문법, 기본 4칸\n",
    "a=1\n",
    "if a>0 : #만약에 a가 1보다 크다면 아래문장으로 이동\n",
    "    if a < 3: #만약에 a가 3보다 작다면 아래 문장으로 이동\n",
    "        print(\"0보다 커요\")   \n",
    "        print(\"3보다 작습니다\")\n",
    "    print(\"a는 자연수입니다\")"
   ]
  },
  {
   "cell_type": "code",
   "execution_count": 28,
   "id": "a63ca3bc",
   "metadata": {},
   "outputs": [
    {
     "name": "stdout",
     "output_type": "stream",
     "text": [
      "a는 자연수입니다\n"
     ]
    }
   ],
   "source": [
    "a=10\n",
    "if a>0 : #만약에 a가 1보다 크다면 아래문장으로 이동\n",
    "    if a < 3: #만약에 a가 3보다 작다면 아래 문장으로 이동\n",
    "        print(\"0보다 커요\")   \n",
    "        print(\"3보다 작습니다\")\n",
    "    print(\"a는 자연수입니다\")"
   ]
  },
  {
   "cell_type": "code",
   "execution_count": 1,
   "id": "d9fe8f34",
   "metadata": {},
   "outputs": [
    {
     "name": "stdout",
     "output_type": "stream",
     "text": [
      "무조건 실행되는 문장\n"
     ]
    }
   ],
   "source": [
    "a=10\n",
    "if a>0 : #만약에 a가 1보다 크다면 아래문장으로 이동\n",
    "    if a < 3: #만약에 a가 3보다 작다면 아래 문장으로 이동\n",
    "        print(\"0보다 커요\")   \n",
    "        print(\"3보다 작습니다\")\n",
    "print(\"무조건 실행되는 문장\")"
   ]
  },
  {
   "cell_type": "code",
   "execution_count": 31,
   "id": "20f160fc",
   "metadata": {},
   "outputs": [
    {
     "name": "stdout",
     "output_type": "stream",
     "text": [
      "hello world\n",
      "hello world\n",
      "hello world\n",
      "helloworld\n",
      "helloworld\n"
     ]
    }
   ],
   "source": [
    "print(\"hello world\")\n",
    "print('hello world')\n",
    "print('hello', \"world\")\n",
    "print('hello' \"world\")\n",
    "print('hello'\"world\")"
   ]
  },
  {
   "cell_type": "code",
   "execution_count": 35,
   "id": "791dfb8b",
   "metadata": {},
   "outputs": [
    {
     "name": "stdout",
     "output_type": "stream",
     "text": [
      "4.1e-05\n"
     ]
    }
   ],
   "source": [
    "x=111\n",
    "x=4.1E5 #4.1 * 10의 5승 => 실수형\n",
    "x=4.1E-5 #4.1 * 10의 -5승=>실수형\n",
    "print(x)"
   ]
  },
  {
   "cell_type": "code",
   "execution_count": 39,
   "id": "e989b99b",
   "metadata": {},
   "outputs": [
    {
     "name": "stdout",
     "output_type": "stream",
     "text": [
      "15\n"
     ]
    }
   ],
   "source": [
    "x=0o17 #8진수 17을 의미 0,1,2,.....,7,10,11,...,17,20,..\n",
    "print(x)\n",
    "#8의1승*1 + 8의0승*7 = 15"
   ]
  },
  {
   "cell_type": "code",
   "execution_count": 40,
   "id": "6f55046e",
   "metadata": {},
   "outputs": [
    {
     "name": "stdout",
     "output_type": "stream",
     "text": [
      "10\n"
     ]
    }
   ],
   "source": [
    "x=0xA   #16진수 0,1,2,3,4,5.....,9,A,B,C,D,E,F,19,11,.....,1F,20,...FF,100\n",
    "print(x)"
   ]
  },
  {
   "cell_type": "code",
   "execution_count": 42,
   "id": "27802463",
   "metadata": {},
   "outputs": [
    {
     "data": {
      "text/plain": [
       "2"
      ]
     },
     "execution_count": 42,
     "metadata": {},
     "output_type": "execute_result"
    }
   ],
   "source": [
    "4+2\n",
    "4-2 # 가장 마지막에 수행된 문장이 출력"
   ]
  },
  {
   "cell_type": "code",
   "execution_count": 44,
   "id": "407b078a",
   "metadata": {},
   "outputs": [
    {
     "name": "stdout",
     "output_type": "stream",
     "text": [
      "6\n",
      "2\n",
      "2.5\n"
     ]
    }
   ],
   "source": [
    "print(4+2)\n",
    "print(4-2)\n",
    "\n",
    "\n",
    "print(5/2) #파이썬 3.x 대 버전에서는 실수형(2.5)\n",
    "#파이썬 2.x 대 버전에서는 실수형(2.5)"
   ]
  },
  {
   "cell_type": "code",
   "execution_count": 45,
   "id": "dad0d981",
   "metadata": {},
   "outputs": [
    {
     "data": {
      "text/plain": [
       "8"
      ]
     },
     "execution_count": 45,
     "metadata": {},
     "output_type": "execute_result"
    }
   ],
   "source": [
    "2**3"
   ]
  },
  {
   "cell_type": "code",
   "execution_count": 47,
   "id": "52db8899",
   "metadata": {},
   "outputs": [
    {
     "name": "stdout",
     "output_type": "stream",
     "text": [
      "1\n",
      "2\n"
     ]
    }
   ],
   "source": [
    "print(5//3) #몫\n",
    "print(5%3) #나머지"
   ]
  },
  {
   "cell_type": "code",
   "execution_count": 50,
   "id": "c7d91c7a",
   "metadata": {},
   "outputs": [
    {
     "name": "stdout",
     "output_type": "stream",
     "text": [
      "2\n",
      "5\n"
     ]
    }
   ],
   "source": [
    "#데이터를 정수로 변환\n",
    "print(int(5//2.0))\n",
    "#문자열 -> 정수로 변환\n",
    "print('5')"
   ]
  },
  {
   "cell_type": "code",
   "execution_count": 54,
   "id": "207e96b4",
   "metadata": {},
   "outputs": [
    {
     "name": "stdout",
     "output_type": "stream",
     "text": [
      "5\n",
      "51\n",
      "3\n",
      "5\n",
      "10.1\n"
     ]
    }
   ],
   "source": [
    "print('5')\n",
    "print('5'+'1')\n",
    "print(int(3.14)) \n",
    "print(int(\"5\"))\n",
    "#print(int(\"5.1\")) #에러발생\n",
    "print(float(\"5.1\")+5) #숫자(실수)로된 문자를 숫자로\n"
   ]
  },
  {
   "cell_type": "code",
   "execution_count": 2,
   "id": "c8375357",
   "metadata": {},
   "outputs": [],
   "source": [
    "#//,%\n",
    "divmod(5,3) #몫과 나머지 구하는 함수\n",
    "#5를 3으로 나눈 몫과 나머지\n",
    "\n",
    "#함수명() : 함수\n",
    "#(, ) : 튜플(자료형 중의 하나)\n",
    "\n",
    "m,n=divmod(5,3)\n"
   ]
  },
  {
   "cell_type": "code",
   "execution_count": 61,
   "id": "e11e6801",
   "metadata": {},
   "outputs": [
    {
     "name": "stdout",
     "output_type": "stream",
     "text": [
      "1\n",
      "2\n"
     ]
    }
   ],
   "source": [
    "print(m)\n",
    "print(n)"
   ]
  },
  {
   "cell_type": "code",
   "execution_count": 8,
   "id": "7314ee06",
   "metadata": {},
   "outputs": [
    {
     "name": "stdout",
     "output_type": "stream",
     "text": [
      "(1, 2)\n",
      "1\n"
     ]
    }
   ],
   "source": [
    "res=divmod(5,3)\n",
    "print(res)\n",
    "print(res[0])  # 0: 몫, 1: 나머지"
   ]
  },
  {
   "cell_type": "code",
   "execution_count": 69,
   "id": "cf43044c",
   "metadata": {},
   "outputs": [
    {
     "name": "stdout",
     "output_type": "stream",
     "text": [
      "<class 'int'>\n",
      "<class 'float'>\n"
     ]
    }
   ],
   "source": [
    "print(type(5))\n",
    "#3.14\n",
    "print(type(5.1))\n"
   ]
  },
  {
   "cell_type": "code",
   "execution_count": 56,
   "id": "734f52c7",
   "metadata": {},
   "outputs": [
    {
     "data": {
      "text/plain": [
       "2"
      ]
     },
     "execution_count": 56,
     "metadata": {},
     "output_type": "execute_result"
    }
   ],
   "source": [
    "5//3\n",
    "5%3"
   ]
  },
  {
   "cell_type": "code",
   "execution_count": 73,
   "id": "f36d3556",
   "metadata": {},
   "outputs": [
    {
     "data": {
      "text/plain": [
       "float"
      ]
     },
     "execution_count": 73,
     "metadata": {},
     "output_type": "execute_result"
    }
   ],
   "source": [
    "float(5) #강제로 실수형으로 변경\n",
    "type(float(5))\n",
    "float(1+3)\n",
    "type(float('3.14'))\n",
    "#type('3.14') #문자형"
   ]
  },
  {
   "cell_type": "code",
   "execution_count": null,
   "id": "658f254a",
   "metadata": {},
   "outputs": [],
   "source": [
    "(1+2)*3\n",
    "#연산자 우선순위가 헷갈리면? 괄호로 묶어라"
   ]
  },
  {
   "cell_type": "code",
   "execution_count": 74,
   "id": "75fa75fe",
   "metadata": {},
   "outputs": [
    {
     "name": "stdout",
     "output_type": "stream",
     "text": [
      "3\n"
     ]
    }
   ],
   "source": [
    "x,y,z=1,2,3\n",
    "print(z)"
   ]
  },
  {
   "cell_type": "code",
   "execution_count": 75,
   "id": "f49bf0d1",
   "metadata": {},
   "outputs": [],
   "source": [
    "a=b=1\n",
    "\n",
    "#b=1\n",
    "#a=b"
   ]
  },
  {
   "cell_type": "code",
   "execution_count": 85,
   "id": "6a02d74a",
   "metadata": {},
   "outputs": [],
   "source": [
    "x=2\n",
    "y=3"
   ]
  },
  {
   "cell_type": "code",
   "execution_count": 86,
   "id": "74504b94",
   "metadata": {},
   "outputs": [
    {
     "name": "stdout",
     "output_type": "stream",
     "text": [
      "3\n",
      "2\n"
     ]
    }
   ],
   "source": [
    "#x와 y값이 서로 교환\n",
    "x,y=y,x\n",
    "# t=y\n",
    "# y=x\n",
    "# x=t\n",
    "print(x) #3\n",
    "print(y) #2"
   ]
  },
  {
   "cell_type": "code",
   "execution_count": 87,
   "id": "e9fcbd51",
   "metadata": {},
   "outputs": [],
   "source": [
    "del x #메모리에서 x를 삭제"
   ]
  },
  {
   "cell_type": "code",
   "execution_count": 88,
   "id": "83daaf40",
   "metadata": {},
   "outputs": [
    {
     "ename": "NameError",
     "evalue": "name 'x' is not defined",
     "output_type": "error",
     "traceback": [
      "\u001b[1;31m---------------------------------------------------------------------------\u001b[0m",
      "\u001b[1;31mNameError\u001b[0m                                 Traceback (most recent call last)",
      "\u001b[1;32m<ipython-input-88-fc17d851ef81>\u001b[0m in \u001b[0;36m<module>\u001b[1;34m\u001b[0m\n\u001b[1;32m----> 1\u001b[1;33m \u001b[0mprint\u001b[0m\u001b[1;33m(\u001b[0m\u001b[0mx\u001b[0m\u001b[1;33m)\u001b[0m\u001b[1;33m\u001b[0m\u001b[1;33m\u001b[0m\u001b[0m\n\u001b[0m",
      "\u001b[1;31mNameError\u001b[0m: name 'x' is not defined"
     ]
    }
   ],
   "source": [
    "print(x)"
   ]
  },
  {
   "cell_type": "code",
   "execution_count": null,
   "id": "329cef3b",
   "metadata": {},
   "outputs": [],
   "source": [
    "a=3"
   ]
  },
  {
   "cell_type": "code",
   "execution_count": 89,
   "id": "67825374",
   "metadata": {},
   "outputs": [
    {
     "name": "stdout",
     "output_type": "stream",
     "text": [
      "3\n"
     ]
    }
   ],
   "source": [
    "print(a)"
   ]
  },
  {
   "cell_type": "code",
   "execution_count": null,
   "id": "8c1f7e70",
   "metadata": {},
   "outputs": [],
   "source": [
    "b=None #값이 없음을 읨, 다른 언어에서는 Null로 표기\n",
    "\n",
    "#None :  값이 들어가 있지 않은 변수를 선언"
   ]
  },
  {
   "cell_type": "code",
   "execution_count": null,
   "id": "f407f446",
   "metadata": {},
   "outputs": [],
   "source": [
    "a=3\n",
    "#a=a+1, a=a-1\n",
    "#a+=1, a-=1\n",
    "\n",
    "#축약형이 존재\n",
    "\n",
    "#a=a+1과 a+=1 같음"
   ]
  },
  {
   "cell_type": "code",
   "execution_count": 91,
   "id": "2748e574",
   "metadata": {
    "scrolled": true
   },
   "outputs": [
    {
     "name": "stdout",
     "output_type": "stream",
     "text": [
      "-3\n"
     ]
    }
   ],
   "source": [
    "x=-3\n",
    "print(+x)"
   ]
  }
 ],
 "metadata": {
  "kernelspec": {
   "display_name": "Python 3",
   "language": "python",
   "name": "python3"
  },
  "language_info": {
   "codemirror_mode": {
    "name": "ipython",
    "version": 3
   },
   "file_extension": ".py",
   "mimetype": "text/x-python",
   "name": "python",
   "nbconvert_exporter": "python",
   "pygments_lexer": "ipython3",
   "version": "3.8.8"
  }
 },
 "nbformat": 4,
 "nbformat_minor": 5
}
