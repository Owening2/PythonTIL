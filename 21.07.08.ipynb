{
 "cells": [
  {
   "cell_type": "code",
   "execution_count": 14,
   "id": "889d03d7",
   "metadata": {},
   "outputs": [
    {
     "name": "stdout",
     "output_type": "stream",
     "text": [
      "[1, 2, 3, 4, 5]\n"
     ]
    }
   ],
   "source": [
    "#1. a 리스트에서 중복 숫자를 제거해 보자.\n",
    "a = [1, 1, 1, 2, 2, 3, 3, 3, 4, 4, 5]\n",
    "b =[]\n",
    "\n",
    "for i in a:\n",
    "    if i not in b:\n",
    "        b.append(i)\n",
    "print(b)\n"
   ]
  },
  {
   "cell_type": "code",
   "execution_count": 23,
   "id": "f74efbca",
   "metadata": {},
   "outputs": [
    {
     "name": "stdout",
     "output_type": "stream",
     "text": [
      "476812\n"
     ]
    }
   ],
   "source": [
    "# 2. while문을 사용해 1부터 1000까지의 자연수 중 3의 배수이면서 7의 배수인 수의 합을 구해 보자.\n",
    "\n",
    "a=0\n",
    "sum=0\n",
    "while a < 1000:\n",
    "    a += 1\n",
    "    if a % 3 ==0 and a % 7 ==0:\n",
    "        continue\n",
    "    sum = sum+a\n",
    "print(sum)\n",
    "    \n",
    "    "
   ]
  },
  {
   "cell_type": "code",
   "execution_count": 15,
   "id": "71d3529d",
   "metadata": {},
   "outputs": [
    {
     "name": "stdout",
     "output_type": "stream",
     "text": [
      "\n",
      "*\n",
      "**\n",
      "***\n",
      "****\n"
     ]
    }
   ],
   "source": [
    "# 3. while문을 사용하여 다음과 같이 별(*)을 표시하는 프로그램을 작성해 보자.\n",
    "# *\n",
    "# **\n",
    "# ***\n",
    "# ****\n",
    "# *****\n",
    "\n",
    "i=0\n",
    "while True:\n",
    "    print(\"*\"*i)\n",
    "    i+=1\n",
    "    if i>=5:\n",
    "        break"
   ]
  },
  {
   "cell_type": "code",
   "execution_count": 10,
   "id": "b0cb7c9a",
   "metadata": {},
   "outputs": [
    {
     "name": "stdout",
     "output_type": "stream",
     "text": [
      "1\n",
      "2\n",
      "3\n",
      "4\n",
      "5\n",
      "6\n",
      "7\n",
      "8\n",
      "9\n",
      "10\n",
      "11\n",
      "12\n",
      "13\n",
      "14\n",
      "15\n",
      "16\n",
      "17\n",
      "18\n",
      "19\n",
      "20\n",
      "21\n",
      "22\n",
      "23\n",
      "24\n",
      "25\n",
      "26\n",
      "27\n",
      "28\n",
      "29\n",
      "30\n",
      "31\n",
      "32\n",
      "33\n",
      "34\n",
      "35\n",
      "36\n",
      "37\n",
      "38\n",
      "39\n",
      "40\n",
      "41\n",
      "42\n",
      "43\n",
      "44\n",
      "45\n",
      "46\n",
      "47\n",
      "48\n",
      "49\n",
      "50\n",
      "51\n",
      "52\n",
      "53\n",
      "54\n",
      "55\n",
      "56\n",
      "57\n",
      "58\n",
      "59\n",
      "60\n",
      "61\n",
      "62\n",
      "63\n",
      "64\n",
      "65\n",
      "66\n",
      "67\n",
      "68\n",
      "69\n",
      "70\n",
      "71\n",
      "72\n",
      "73\n",
      "74\n",
      "75\n",
      "76\n",
      "77\n",
      "78\n",
      "79\n",
      "80\n",
      "81\n",
      "82\n",
      "83\n",
      "84\n",
      "85\n",
      "86\n",
      "87\n",
      "88\n",
      "89\n",
      "90\n",
      "91\n",
      "92\n",
      "93\n",
      "94\n",
      "95\n",
      "96\n",
      "97\n",
      "98\n",
      "99\n",
      "100\n"
     ]
    }
   ],
   "source": [
    "# 4. for문을 사용해 1부터 100까지의 숫자를 출력해 보자.\n",
    "for i in range(1,101):\n",
    "    print(i)"
   ]
  },
  {
   "cell_type": "code",
   "execution_count": null,
   "id": "7be1c3ed",
   "metadata": {},
   "outputs": [],
   "source": [
    "# 5.\n",
    "# A 학급에 총 10명의 학생이 있다. 이 학생들의 중간고사 점수는 다음과 같다.\n",
    "# [70, 60, 55, 75, 95, 90, 80, 80, 85, 100]\n",
    "# for문을 사용하여 A 학급의 평균 점수를 구해 보자.\n",
    "a=[70, 60, 55, 75, 95, 90, 80, 80, 85, 100]\n",
    "\n"
   ]
  },
  {
   "cell_type": "code",
   "execution_count": null,
   "id": "b7fb6b2e",
   "metadata": {},
   "outputs": [
    {
     "name": "stdout",
     "output_type": "stream",
     "text": [
      "돈을 넣어주세요 : 500\n",
      "거스름돈 200를 주고 커피를 줍니다\n",
      "돈을 넣어주세요 : 300\n",
      "커피를 줍니다\n",
      "돈을 넣어주세요 : 100\n",
      "돈을 다시 돌려주고 커피를 주지 않습니다\n",
      "남은 커피의 양은 8 입니다.\n"
     ]
    }
   ],
   "source": [
    "# 6. 자판기(pro, 커피 한 잔에 300원이라 가정, 초기 커피는 10개)\n",
    "# 돈을 넣어 주세요: 500\n",
    "# 거스름돈 200를 주고 커피를 줍니다.\n",
    "# 돈을 넣어 주세요: 300\n",
    "# 커피를 줍니다.\n",
    "# 돈을 넣어 주세요: 100\n",
    "# 돈을 다시 돌려주고 커피를 주지 않습니다.\n",
    "# 남은 커피의 양은 8개입니다.\n",
    "# 돈을 넣어 주세요: 0\n",
    "# 종료합니다\n",
    "\n",
    "\n",
    "coffee = 10\n",
    "while True:\n",
    "    money = int(input(\"돈을 넣어주세요 : \"))\n",
    "    if money ==300:\n",
    "        print(\"커피를 줍니다\")\n",
    "        coffee = coffee -1\n",
    "    elif money > 300:\n",
    "        print(\"거스름돈 %d를 주고 커피를 줍니다\" %(money - 300))\n",
    "        coffee = coffee -1\n",
    "    else:\n",
    "        print(\"돈을 다시 돌려주고 커피를 주지 않습니다\")\n",
    "        print(\"남은 커피의 양은 %d 입니다.\" %coffee)\n",
    "    if coffee == 0:\n",
    "        print(\"커피가 다 떨어졌습니다. 판매를 중지합니다.\")\n",
    "        break\n",
    "        \n",
    "        "
   ]
  },
  {
   "cell_type": "code",
   "execution_count": null,
   "id": "d98fcd18",
   "metadata": {},
   "outputs": [],
   "source": []
  },
  {
   "cell_type": "code",
   "execution_count": null,
   "id": "28d00ff3",
   "metadata": {},
   "outputs": [],
   "source": []
  },
  {
   "cell_type": "code",
   "execution_count": null,
   "id": "9862ec86",
   "metadata": {},
   "outputs": [],
   "source": []
  }
 ],
 "metadata": {
  "kernelspec": {
   "display_name": "Python 3",
   "language": "python",
   "name": "python3"
  },
  "language_info": {
   "codemirror_mode": {
    "name": "ipython",
    "version": 3
   },
   "file_extension": ".py",
   "mimetype": "text/x-python",
   "name": "python",
   "nbconvert_exporter": "python",
   "pygments_lexer": "ipython3",
   "version": "3.8.8"
  }
 },
 "nbformat": 4,
 "nbformat_minor": 5
}
